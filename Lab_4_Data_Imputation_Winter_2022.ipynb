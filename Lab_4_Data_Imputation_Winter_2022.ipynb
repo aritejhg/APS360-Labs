{
  "cells": [
    {
      "cell_type": "markdown",
      "metadata": {
        "id": "OhtOdxzd1ppr"
      },
      "source": [
        "# Lab 4: Data Imputation using an Autoencoder\n",
        "\n",
        "**Deadline**: Mon, Mar 07, 5:00pm\n",
        "\n",
        "**Late Penalty**:  Any work that is submitted between 0 hour and 24 hours past the deadline will receive a 20% grade deduction. No other late work is accepted. Quercus submission time will be used, not your local computer time. You can submit your labs as many times as you want before the deadline, so please submit often and early.\n",
        "\n",
        "**TA**: Shiva Akbari <shiva.akbari@mail.utoronto.ca>\n",
        "\n",
        "In this lab, you will build and train an autoencoder to impute (or \"fill in\") missing data. \n",
        "\n",
        "We will be using the\n",
        "Adult Data Set provided by the UCI Machine Learning Repository [1], available \n",
        "at https://archive.ics.uci.edu/ml/datasets/adult.\n",
        "The data set contains census record files of adults, including their\n",
        "age, martial status, the type of work they do, and other features. \n",
        "\n",
        "Normally, people use this data set to build a supervised classification\n",
        "model to classify whether a person is a high income earner.\n",
        "We will not use the dataset for this original intended purpose.\n",
        "\n",
        "Instead, we will perform the task of imputing (or \"filling in\") missing values in the dataset. For example,\n",
        "we may be missing one person's martial status, and another person's age, and\n",
        "a third person's level of education. Our model will predict the missing features \n",
        "based on the information that we do have about each person.\n",
        "\n",
        "We will use a variation of a denoising autoencoder to solve this data imputation\n",
        "problem. Our autoencoder will be trained using inputs that have one categorical feature artificially\n",
        "removed, and the goal of the autoencoder is to correctly reconstruct all features,\n",
        "including the one removed from the input.\n",
        "\n",
        "In the process, you are expected to learn to:\n",
        "\n",
        "1. Clean and process continuous and categorical data for machine learning.\n",
        "2. Implement an autoencoder that takes continuous and categorical (one-hot) inputs.\n",
        "3. Tune the hyperparameters of an autoencoder.\n",
        "4. Use baseline models to help interpret model performance.\n",
        "\n",
        "[1] Dua, D. and Karra Taniskidou, E. (2017). UCI Machine Learning Repository [http://archive.ics.uci.edu/ml]. Irvine, CA: University of California, School of Information and Computer Science.\n",
        "\n",
        "\n",
        "### What to submit\n",
        "\n",
        "Submit a PDF file containing all your code, outputs, and write-up. You can produce a PDF of your Google Colab file by going to File > Print and then save as PDF. The Colab instructions have more information (.html files are also acceptable).\n",
        "\n",
        "Do not submit any other files produced by your code.\n",
        "\n",
        "Include a link to your colab file in your submission.\n"
      ]
    },
    {
      "cell_type": "markdown",
      "source": [
        
      ],
      "metadata": {
        "id": "Zple6yIOSoUY"
      }
    },
    {
      "cell_type": "markdown",
      "metadata": {
        "id": "zbnrp2ig1pps"
      },
      "source": [
        "## Colab Link\n",
        "\n",
        "Include a link to your Colab file here. If you would like the TA to look at your\n",
        "Colab file in case your solutions are cut off, **please make sure that your Colab\n",
        "file is publicly accessible at the time of submission**.\n",
        "\n",
        "Colab Link: https://colab.research.google.com/drive/151Y5uYgrftHh4Kwp49bfWmpSWuMFFIj-?usp=sharing"
      ]
    },
    {
      "cell_type": "code",
      "execution_count": 71,
      "metadata": {
        "collapsed": true,
        "id": "z3p8N43E1ppt",
        "jupyter": {
          "outputs_hidden": true
        }
      },
      "outputs": [],
      "source": [
        "import csv\n",
        "import numpy as np\n",
        "import random\n",
        "import torch\n",
        "import torch.utils.data"
      ]
    },
    {
      "cell_type": "markdown",
      "metadata": {
        "id": "8ROwtHcz1ppx"
      },
      "source": [
        "## Part 0\n",
        "\n",
        "We will be using a package called `pandas` for this assignment. \n",
        "\n",
        "If you are using Colab, `pandas` should already be available.\n",
        "If you are using your own computer,\n",
        "installation instructions for `pandas` are available here: \n",
        "https://pandas.pydata.org/pandas-docs/stable/install.html"
      ]
    },
    {
      "cell_type": "code",
      "execution_count": 72,
      "metadata": {
        "collapsed": true,
        "id": "IXQ7BP151ppz",
        "jupyter": {
          "outputs_hidden": true
        }
      },
      "outputs": [],
      "source": [
        "import pandas as pd"
      ]
    },
    {
      "cell_type": "markdown",
      "metadata": {
        "id": "hqXihb4Q1pp2"
      },
      "source": [
        "# Part 1. Data Cleaning [15 pt]\n",
        "\n",
        "The adult.data file is available at `https://archive.ics.uci.edu/ml/machine-learning-databases/adult/adult.data`\n",
        "\n",
        "The function `pd.read_csv` loads the adult.data file into a pandas dataframe.\n",
        "You can read about the pandas documentation for `pd.read_csv` at\n",
        "https://pandas.pydata.org/pandas-docs/stable/reference/api/pandas.read_csv.html"
      ]
    },
    {
      "cell_type": "code",
      "execution_count": 133,
      "metadata": {
        "colab": {
          "base_uri": "https://localhost:8080/"
        },
        "collapsed": true,
        "id": "EOMItFKn1pp3",
        "jupyter": {
          "outputs_hidden": true
        },
        "outputId": "75c7b4a4-222a-4422-9b1f-c5c338356c8d"
      },
      "outputs": [
        {
          "output_type": "stream",
          "name": "stderr",
          "text": [
            "/usr/local/lib/python3.7/dist-packages/pandas/util/_decorators.py:311: ParserWarning: Length of header or names does not match length of data. This leads to a loss of data with index_col=False.\n",
            "  return func(*args, **kwargs)\n"
          ]
        }
      ],
      "source": [
        "header = ['age', 'work', 'fnlwgt', 'edu', 'yredu', 'marriage', 'occupation',\n",
        " 'relationship', 'race', 'sex', 'capgain', 'caploss', 'workhr', 'country']\n",
        "df = pd.read_csv(\n",
        "    \"https://archive.ics.uci.edu/ml/machine-learning-databases/adult/adult.data\",\n",
        "    names=header,\n",
        "    index_col=False)"
      ]
    },
    {
      "cell_type": "code",
      "execution_count": 134,
      "metadata": {
        "colab": {
          "base_uri": "https://localhost:8080/"
        },
        "id": "62Ot405q1pp5",
        "outputId": "84e849eb-b5f2-49c3-f525-efcfa0c61940",
        "scrolled": true
      },
      "outputs": [
        {
          "output_type": "execute_result",
          "data": {
            "text/plain": [
              "(32561, 14)"
            ]
          },
          "metadata": {},
          "execution_count": 134
        }
      ],
      "source": [
        "df.shape # there are 32561 rows (records) in the data frame, and 14 columns (features)"
      ]
    },
    {
      "cell_type": "markdown",
      "metadata": {
        "id": "Tr7YG-QY1pp8"
      },
      "source": [
        "### Part (a) Continuous Features [3 pt]\n",
        "\n",
        "For each of the columns `[\"age\", \"yredu\", \"capgain\", \"caploss\", \"workhr\"]`, report the minimum, maximum, and average value across the dataset. \n",
        "\n",
        "Then, normalize each of the features `[\"age\", \"yredu\", \"capgain\", \"caploss\", \"workhr\"]`\n",
        "so that their values are always between 0 and 1.\n",
        "Make sure that you are actually modifying the dataframe `df`. \n",
        "\n",
        "Like numpy arrays and torch tensors, \n",
        "pandas data frames can be sliced. For example, we can\n",
        "display the first 3 rows of the data frame (3 records) below."
      ]
    },
    {
      "cell_type": "code",
      "execution_count": 135,
      "metadata": {
        "colab": {
          "base_uri": "https://localhost:8080/",
          "height": 143
        },
        "id": "9evSLsSa1pp9",
        "outputId": "1922fd7a-e1ec-4b0b-a047-31d8ccf231d8"
      },
      "outputs": [
        {
          "output_type": "execute_result",
          "data": {
            "text/html": [
              "\n",
              "  <div id=\"df-d5673e1d-4109-4b1c-a7a2-77599983df29\">\n",
              "    <div class=\"colab-df-container\">\n",
              "      <div>\n",
              "<style scoped>\n",
              "    .dataframe tbody tr th:only-of-type {\n",
              "        vertical-align: middle;\n",
              "    }\n",
              "\n",
              "    .dataframe tbody tr th {\n",
              "        vertical-align: top;\n",
              "    }\n",
              "\n",
              "    .dataframe thead th {\n",
              "        text-align: right;\n",
              "    }\n",
              "</style>\n",
              "<table border=\"1\" class=\"dataframe\">\n",
              "  <thead>\n",
              "    <tr style=\"text-align: right;\">\n",
              "      <th></th>\n",
              "      <th>age</th>\n",
              "      <th>work</th>\n",
              "      <th>fnlwgt</th>\n",
              "      <th>edu</th>\n",
              "      <th>yredu</th>\n",
              "      <th>marriage</th>\n",
              "      <th>occupation</th>\n",
              "      <th>relationship</th>\n",
              "      <th>race</th>\n",
              "      <th>sex</th>\n",
              "      <th>capgain</th>\n",
              "      <th>caploss</th>\n",
              "      <th>workhr</th>\n",
              "      <th>country</th>\n",
              "    </tr>\n",
              "  </thead>\n",
              "  <tbody>\n",
              "    <tr>\n",
              "      <th>0</th>\n",
              "      <td>39</td>\n",
              "      <td>State-gov</td>\n",
              "      <td>77516</td>\n",
              "      <td>Bachelors</td>\n",
              "      <td>13</td>\n",
              "      <td>Never-married</td>\n",
              "      <td>Adm-clerical</td>\n",
              "      <td>Not-in-family</td>\n",
              "      <td>White</td>\n",
              "      <td>Male</td>\n",
              "      <td>2174</td>\n",
              "      <td>0</td>\n",
              "      <td>40</td>\n",
              "      <td>United-States</td>\n",
              "    </tr>\n",
              "    <tr>\n",
              "      <th>1</th>\n",
              "      <td>50</td>\n",
              "      <td>Self-emp-not-inc</td>\n",
              "      <td>83311</td>\n",
              "      <td>Bachelors</td>\n",
              "      <td>13</td>\n",
              "      <td>Married-civ-spouse</td>\n",
              "      <td>Exec-managerial</td>\n",
              "      <td>Husband</td>\n",
              "      <td>White</td>\n",
              "      <td>Male</td>\n",
              "      <td>0</td>\n",
              "      <td>0</td>\n",
              "      <td>13</td>\n",
              "      <td>United-States</td>\n",
              "    </tr>\n",
              "    <tr>\n",
              "      <th>2</th>\n",
              "      <td>38</td>\n",
              "      <td>Private</td>\n",
              "      <td>215646</td>\n",
              "      <td>HS-grad</td>\n",
              "      <td>9</td>\n",
              "      <td>Divorced</td>\n",
              "      <td>Handlers-cleaners</td>\n",
              "      <td>Not-in-family</td>\n",
              "      <td>White</td>\n",
              "      <td>Male</td>\n",
              "      <td>0</td>\n",
              "      <td>0</td>\n",
              "      <td>40</td>\n",
              "      <td>United-States</td>\n",
              "    </tr>\n",
              "  </tbody>\n",
              "</table>\n",
              "</div>\n",
              "      <button class=\"colab-df-convert\" onclick=\"convertToInteractive('df-d5673e1d-4109-4b1c-a7a2-77599983df29')\"\n",
              "              title=\"Convert this dataframe to an interactive table.\"\n",
              "              style=\"display:none;\">\n",
              "        \n",
              "  <svg xmlns=\"http://www.w3.org/2000/svg\" height=\"24px\"viewBox=\"0 0 24 24\"\n",
              "       width=\"24px\">\n",
              "    <path d=\"M0 0h24v24H0V0z\" fill=\"none\"/>\n",
              "    <path d=\"M18.56 5.44l.94 2.06.94-2.06 2.06-.94-2.06-.94-.94-2.06-.94 2.06-2.06.94zm-11 1L8.5 8.5l.94-2.06 2.06-.94-2.06-.94L8.5 2.5l-.94 2.06-2.06.94zm10 10l.94 2.06.94-2.06 2.06-.94-2.06-.94-.94-2.06-.94 2.06-2.06.94z\"/><path d=\"M17.41 7.96l-1.37-1.37c-.4-.4-.92-.59-1.43-.59-.52 0-1.04.2-1.43.59L10.3 9.45l-7.72 7.72c-.78.78-.78 2.05 0 2.83L4 21.41c.39.39.9.59 1.41.59.51 0 1.02-.2 1.41-.59l7.78-7.78 2.81-2.81c.8-.78.8-2.07 0-2.86zM5.41 20L4 18.59l7.72-7.72 1.47 1.35L5.41 20z\"/>\n",
              "  </svg>\n",
              "      </button>\n",
              "      \n",
              "  <style>\n",
              "    .colab-df-container {\n",
              "      display:flex;\n",
              "      flex-wrap:wrap;\n",
              "      gap: 12px;\n",
              "    }\n",
              "\n",
              "    .colab-df-convert {\n",
              "      background-color: #E8F0FE;\n",
              "      border: none;\n",
              "      border-radius: 50%;\n",
              "      cursor: pointer;\n",
              "      display: none;\n",
              "      fill: #1967D2;\n",
              "      height: 32px;\n",
              "      padding: 0 0 0 0;\n",
              "      width: 32px;\n",
              "    }\n",
              "\n",
              "    .colab-df-convert:hover {\n",
              "      background-color: #E2EBFA;\n",
              "      box-shadow: 0px 1px 2px rgba(60, 64, 67, 0.3), 0px 1px 3px 1px rgba(60, 64, 67, 0.15);\n",
              "      fill: #174EA6;\n",
              "    }\n",
              "\n",
              "    [theme=dark] .colab-df-convert {\n",
              "      background-color: #3B4455;\n",
              "      fill: #D2E3FC;\n",
              "    }\n",
              "\n",
              "    [theme=dark] .colab-df-convert:hover {\n",
              "      background-color: #434B5C;\n",
              "      box-shadow: 0px 1px 3px 1px rgba(0, 0, 0, 0.15);\n",
              "      filter: drop-shadow(0px 1px 2px rgba(0, 0, 0, 0.3));\n",
              "      fill: #FFFFFF;\n",
              "    }\n",
              "  </style>\n",
              "\n",
              "      <script>\n",
              "        const buttonEl =\n",
              "          document.querySelector('#df-d5673e1d-4109-4b1c-a7a2-77599983df29 button.colab-df-convert');\n",
              "        buttonEl.style.display =\n",
              "          google.colab.kernel.accessAllowed ? 'block' : 'none';\n",
              "\n",
              "        async function convertToInteractive(key) {\n",
              "          const element = document.querySelector('#df-d5673e1d-4109-4b1c-a7a2-77599983df29');\n",
              "          const dataTable =\n",
              "            await google.colab.kernel.invokeFunction('convertToInteractive',\n",
              "                                                     [key], {});\n",
              "          if (!dataTable) return;\n",
              "\n",
              "          const docLinkHtml = 'Like what you see? Visit the ' +\n",
              "            '<a target=\"_blank\" href=https://colab.research.google.com/notebooks/data_table.ipynb>data table notebook</a>'\n",
              "            + ' to learn more about interactive tables.';\n",
              "          element.innerHTML = '';\n",
              "          dataTable['output_type'] = 'display_data';\n",
              "          await google.colab.output.renderOutput(dataTable, element);\n",
              "          const docLink = document.createElement('div');\n",
              "          docLink.innerHTML = docLinkHtml;\n",
              "          element.appendChild(docLink);\n",
              "        }\n",
              "      </script>\n",
              "    </div>\n",
              "  </div>\n",
              "  "
            ],
            "text/plain": [
              "   age               work  fnlwgt         edu  yredu             marriage  \\\n",
              "0   39          State-gov   77516   Bachelors     13        Never-married   \n",
              "1   50   Self-emp-not-inc   83311   Bachelors     13   Married-civ-spouse   \n",
              "2   38            Private  215646     HS-grad      9             Divorced   \n",
              "\n",
              "           occupation    relationship    race    sex  capgain  caploss  \\\n",
              "0        Adm-clerical   Not-in-family   White   Male     2174        0   \n",
              "1     Exec-managerial         Husband   White   Male        0        0   \n",
              "2   Handlers-cleaners   Not-in-family   White   Male        0        0   \n",
              "\n",
              "   workhr         country  \n",
              "0      40   United-States  \n",
              "1      13   United-States  \n",
              "2      40   United-States  "
            ]
          },
          "metadata": {},
          "execution_count": 135
        }
      ],
      "source": [
        "df[:3] # show the first 3 records"
      ]
    },
    {
      "cell_type": "markdown",
      "metadata": {
        "id": "gBOojI6W1pqA"
      },
      "source": [
        "Alternatively, we can slice based on column names, \n",
        "for example `df[\"race\"]`, `df[\"hr\"]`, or even index multiple columns \n",
        "like below."
      ]
    },
    {
      "cell_type": "code",
      "execution_count": 136,
      "metadata": {
        "colab": {
          "base_uri": "https://localhost:8080/",
          "height": 143
        },
        "id": "4v6pp73A1pqB",
        "outputId": "f5715f43-55cf-496e-860b-2600bcbb23ac"
      },
      "outputs": [
        {
          "output_type": "execute_result",
          "data": {
            "text/html": [
              "\n",
              "  <div id=\"df-5e9da609-f18d-40e3-b20a-0ae9ae800b08\">\n",
              "    <div class=\"colab-df-container\">\n",
              "      <div>\n",
              "<style scoped>\n",
              "    .dataframe tbody tr th:only-of-type {\n",
              "        vertical-align: middle;\n",
              "    }\n",
              "\n",
              "    .dataframe tbody tr th {\n",
              "        vertical-align: top;\n",
              "    }\n",
              "\n",
              "    .dataframe thead th {\n",
              "        text-align: right;\n",
              "    }\n",
              "</style>\n",
              "<table border=\"1\" class=\"dataframe\">\n",
              "  <thead>\n",
              "    <tr style=\"text-align: right;\">\n",
              "      <th></th>\n",
              "      <th>age</th>\n",
              "      <th>yredu</th>\n",
              "      <th>capgain</th>\n",
              "      <th>caploss</th>\n",
              "      <th>workhr</th>\n",
              "    </tr>\n",
              "  </thead>\n",
              "  <tbody>\n",
              "    <tr>\n",
              "      <th>0</th>\n",
              "      <td>39</td>\n",
              "      <td>13</td>\n",
              "      <td>2174</td>\n",
              "      <td>0</td>\n",
              "      <td>40</td>\n",
              "    </tr>\n",
              "    <tr>\n",
              "      <th>1</th>\n",
              "      <td>50</td>\n",
              "      <td>13</td>\n",
              "      <td>0</td>\n",
              "      <td>0</td>\n",
              "      <td>13</td>\n",
              "    </tr>\n",
              "    <tr>\n",
              "      <th>2</th>\n",
              "      <td>38</td>\n",
              "      <td>9</td>\n",
              "      <td>0</td>\n",
              "      <td>0</td>\n",
              "      <td>40</td>\n",
              "    </tr>\n",
              "  </tbody>\n",
              "</table>\n",
              "</div>\n",
              "      <button class=\"colab-df-convert\" onclick=\"convertToInteractive('df-5e9da609-f18d-40e3-b20a-0ae9ae800b08')\"\n",
              "              title=\"Convert this dataframe to an interactive table.\"\n",
              "              style=\"display:none;\">\n",
              "        \n",
              "  <svg xmlns=\"http://www.w3.org/2000/svg\" height=\"24px\"viewBox=\"0 0 24 24\"\n",
              "       width=\"24px\">\n",
              "    <path d=\"M0 0h24v24H0V0z\" fill=\"none\"/>\n",
              "    <path d=\"M18.56 5.44l.94 2.06.94-2.06 2.06-.94-2.06-.94-.94-2.06-.94 2.06-2.06.94zm-11 1L8.5 8.5l.94-2.06 2.06-.94-2.06-.94L8.5 2.5l-.94 2.06-2.06.94zm10 10l.94 2.06.94-2.06 2.06-.94-2.06-.94-.94-2.06-.94 2.06-2.06.94z\"/><path d=\"M17.41 7.96l-1.37-1.37c-.4-.4-.92-.59-1.43-.59-.52 0-1.04.2-1.43.59L10.3 9.45l-7.72 7.72c-.78.78-.78 2.05 0 2.83L4 21.41c.39.39.9.59 1.41.59.51 0 1.02-.2 1.41-.59l7.78-7.78 2.81-2.81c.8-.78.8-2.07 0-2.86zM5.41 20L4 18.59l7.72-7.72 1.47 1.35L5.41 20z\"/>\n",
              "  </svg>\n",
              "      </button>\n",
              "      \n",
              "  <style>\n",
              "    .colab-df-container {\n",
              "      display:flex;\n",
              "      flex-wrap:wrap;\n",
              "      gap: 12px;\n",
              "    }\n",
              "\n",
              "    .colab-df-convert {\n",
              "      background-color: #E8F0FE;\n",
              "      border: none;\n",
              "      border-radius: 50%;\n",
              "      cursor: pointer;\n",
              "      display: none;\n",
              "      fill: #1967D2;\n",
              "      height: 32px;\n",
              "      padding: 0 0 0 0;\n",
              "      width: 32px;\n",
              "    }\n",
              "\n",
              "    .colab-df-convert:hover {\n",
              "      background-color: #E2EBFA;\n",
              "      box-shadow: 0px 1px 2px rgba(60, 64, 67, 0.3), 0px 1px 3px 1px rgba(60, 64, 67, 0.15);\n",
              "      fill: #174EA6;\n",
              "    }\n",
              "\n",
              "    [theme=dark] .colab-df-convert {\n",
              "      background-color: #3B4455;\n",
              "      fill: #D2E3FC;\n",
              "    }\n",
              "\n",
              "    [theme=dark] .colab-df-convert:hover {\n",
              "      background-color: #434B5C;\n",
              "      box-shadow: 0px 1px 3px 1px rgba(0, 0, 0, 0.15);\n",
              "      filter: drop-shadow(0px 1px 2px rgba(0, 0, 0, 0.3));\n",
              "      fill: #FFFFFF;\n",
              "    }\n",
              "  </style>\n",
              "\n",
              "      <script>\n",
              "        const buttonEl =\n",
              "          document.querySelector('#df-5e9da609-f18d-40e3-b20a-0ae9ae800b08 button.colab-df-convert');\n",
              "        buttonEl.style.display =\n",
              "          google.colab.kernel.accessAllowed ? 'block' : 'none';\n",
              "\n",
              "        async function convertToInteractive(key) {\n",
              "          const element = document.querySelector('#df-5e9da609-f18d-40e3-b20a-0ae9ae800b08');\n",
              "          const dataTable =\n",
              "            await google.colab.kernel.invokeFunction('convertToInteractive',\n",
              "                                                     [key], {});\n",
              "          if (!dataTable) return;\n",
              "\n",
              "          const docLinkHtml = 'Like what you see? Visit the ' +\n",
              "            '<a target=\"_blank\" href=https://colab.research.google.com/notebooks/data_table.ipynb>data table notebook</a>'\n",
              "            + ' to learn more about interactive tables.';\n",
              "          element.innerHTML = '';\n",
              "          dataTable['output_type'] = 'display_data';\n",
              "          await google.colab.output.renderOutput(dataTable, element);\n",
              "          const docLink = document.createElement('div');\n",
              "          docLink.innerHTML = docLinkHtml;\n",
              "          element.appendChild(docLink);\n",
              "        }\n",
              "      </script>\n",
              "    </div>\n",
              "  </div>\n",
              "  "
            ],
            "text/plain": [
              "   age  yredu  capgain  caploss  workhr\n",
              "0   39     13     2174        0      40\n",
              "1   50     13        0        0      13\n",
              "2   38      9        0        0      40"
            ]
          },
          "metadata": {},
          "execution_count": 136
        }
      ],
      "source": [
        "subdf = df[[\"age\", \"yredu\", \"capgain\", \"caploss\", \"workhr\"]]\n",
        "subdf[:3] # show the first 3 records"
      ]
    },
    {
      "cell_type": "markdown",
      "metadata": {
        "id": "2Nru2P0E1pqD"
      },
      "source": [
        "Numpy works nicely with pandas, like below:"
      ]
    },
    {
      "cell_type": "code",
      "execution_count": 137,
      "metadata": {
        "colab": {
          "base_uri": "https://localhost:8080/"
        },
        "id": "JXrS6tjp1pqE",
        "outputId": "89b8e74f-8205-44c0-f784-422e4ee012fe"
      },
      "outputs": [
        {
          "output_type": "execute_result",
          "data": {
            "text/plain": [
              "2842700"
            ]
          },
          "metadata": {},
          "execution_count": 137
        }
      ],
      "source": [
        "np.sum(subdf[\"caploss\"])"
      ]
    },
    {
      "cell_type": "markdown",
      "metadata": {
        "id": "Mv5mbxDM1pqH"
      },
      "source": [
        "Just like numpy arrays, you can modify\n",
        "entire columns of data rather than one scalar element at a time.\n",
        "For example, the code  \n",
        "\n",
        "`df[\"age\"] = df[\"age\"] + 1` \n",
        "\n",
        "would increment everyone's age by 1."
      ]
    },
    {
      "cell_type": "code",
      "execution_count": 139,
      "metadata": {
        "colab": {
          "base_uri": "https://localhost:8080/",
          "height": 143
        },
        "collapsed": true,
        "id": "k5rlWD7-1pqH",
        "jupyter": {
          "outputs_hidden": true
        },
        "outputId": "0ea7f376-db73-4ea4-b4b9-d288860a732d"
      },
      "outputs": [
        {
          "output_type": "execute_result",
          "data": {
            "text/html": [
              "\n",
              "  <div id=\"df-4758121f-e2f8-4c76-8c7e-e3f983071541\">\n",
              "    <div class=\"colab-df-container\">\n",
              "      <div>\n",
              "<style scoped>\n",
              "    .dataframe tbody tr th:only-of-type {\n",
              "        vertical-align: middle;\n",
              "    }\n",
              "\n",
              "    .dataframe tbody tr th {\n",
              "        vertical-align: top;\n",
              "    }\n",
              "\n",
              "    .dataframe thead th {\n",
              "        text-align: right;\n",
              "    }\n",
              "</style>\n",
              "<table border=\"1\" class=\"dataframe\">\n",
              "  <thead>\n",
              "    <tr style=\"text-align: right;\">\n",
              "      <th></th>\n",
              "      <th>age</th>\n",
              "      <th>yredu</th>\n",
              "      <th>capgain</th>\n",
              "      <th>caploss</th>\n",
              "      <th>workhr</th>\n",
              "    </tr>\n",
              "  </thead>\n",
              "  <tbody>\n",
              "    <tr>\n",
              "      <th>mean</th>\n",
              "      <td>38.581647</td>\n",
              "      <td>10.080679</td>\n",
              "      <td>1077.648844</td>\n",
              "      <td>87.30383</td>\n",
              "      <td>40.437456</td>\n",
              "    </tr>\n",
              "    <tr>\n",
              "      <th>max</th>\n",
              "      <td>90.000000</td>\n",
              "      <td>16.000000</td>\n",
              "      <td>99999.000000</td>\n",
              "      <td>4356.00000</td>\n",
              "      <td>99.000000</td>\n",
              "    </tr>\n",
              "    <tr>\n",
              "      <th>min</th>\n",
              "      <td>17.000000</td>\n",
              "      <td>1.000000</td>\n",
              "      <td>0.000000</td>\n",
              "      <td>0.00000</td>\n",
              "      <td>1.000000</td>\n",
              "    </tr>\n",
              "  </tbody>\n",
              "</table>\n",
              "</div>\n",
              "      <button class=\"colab-df-convert\" onclick=\"convertToInteractive('df-4758121f-e2f8-4c76-8c7e-e3f983071541')\"\n",
              "              title=\"Convert this dataframe to an interactive table.\"\n",
              "              style=\"display:none;\">\n",
              "        \n",
              "  <svg xmlns=\"http://www.w3.org/2000/svg\" height=\"24px\"viewBox=\"0 0 24 24\"\n",
              "       width=\"24px\">\n",
              "    <path d=\"M0 0h24v24H0V0z\" fill=\"none\"/>\n",
              "    <path d=\"M18.56 5.44l.94 2.06.94-2.06 2.06-.94-2.06-.94-.94-2.06-.94 2.06-2.06.94zm-11 1L8.5 8.5l.94-2.06 2.06-.94-2.06-.94L8.5 2.5l-.94 2.06-2.06.94zm10 10l.94 2.06.94-2.06 2.06-.94-2.06-.94-.94-2.06-.94 2.06-2.06.94z\"/><path d=\"M17.41 7.96l-1.37-1.37c-.4-.4-.92-.59-1.43-.59-.52 0-1.04.2-1.43.59L10.3 9.45l-7.72 7.72c-.78.78-.78 2.05 0 2.83L4 21.41c.39.39.9.59 1.41.59.51 0 1.02-.2 1.41-.59l7.78-7.78 2.81-2.81c.8-.78.8-2.07 0-2.86zM5.41 20L4 18.59l7.72-7.72 1.47 1.35L5.41 20z\"/>\n",
              "  </svg>\n",
              "      </button>\n",
              "      \n",
              "  <style>\n",
              "    .colab-df-container {\n",
              "      display:flex;\n",
              "      flex-wrap:wrap;\n",
              "      gap: 12px;\n",
              "    }\n",
              "\n",
              "    .colab-df-convert {\n",
              "      background-color: #E8F0FE;\n",
              "      border: none;\n",
              "      border-radius: 50%;\n",
              "      cursor: pointer;\n",
              "      display: none;\n",
              "      fill: #1967D2;\n",
              "      height: 32px;\n",
              "      padding: 0 0 0 0;\n",
              "      width: 32px;\n",
              "    }\n",
              "\n",
              "    .colab-df-convert:hover {\n",
              "      background-color: #E2EBFA;\n",
              "      box-shadow: 0px 1px 2px rgba(60, 64, 67, 0.3), 0px 1px 3px 1px rgba(60, 64, 67, 0.15);\n",
              "      fill: #174EA6;\n",
              "    }\n",
              "\n",
              "    [theme=dark] .colab-df-convert {\n",
              "      background-color: #3B4455;\n",
              "      fill: #D2E3FC;\n",
              "    }\n",
              "\n",
              "    [theme=dark] .colab-df-convert:hover {\n",
              "      background-color: #434B5C;\n",
              "      box-shadow: 0px 1px 3px 1px rgba(0, 0, 0, 0.15);\n",
              "      filter: drop-shadow(0px 1px 2px rgba(0, 0, 0, 0.3));\n",
              "      fill: #FFFFFF;\n",
              "    }\n",
              "  </style>\n",
              "\n",
              "      <script>\n",
              "        const buttonEl =\n",
              "          document.querySelector('#df-4758121f-e2f8-4c76-8c7e-e3f983071541 button.colab-df-convert');\n",
              "        buttonEl.style.display =\n",
              "          google.colab.kernel.accessAllowed ? 'block' : 'none';\n",
              "\n",
              "        async function convertToInteractive(key) {\n",
              "          const element = document.querySelector('#df-4758121f-e2f8-4c76-8c7e-e3f983071541');\n",
              "          const dataTable =\n",
              "            await google.colab.kernel.invokeFunction('convertToInteractive',\n",
              "                                                     [key], {});\n",
              "          if (!dataTable) return;\n",
              "\n",
              "          const docLinkHtml = 'Like what you see? Visit the ' +\n",
              "            '<a target=\"_blank\" href=https://colab.research.google.com/notebooks/data_table.ipynb>data table notebook</a>'\n",
              "            + ' to learn more about interactive tables.';\n",
              "          element.innerHTML = '';\n",
              "          dataTable['output_type'] = 'display_data';\n",
              "          await google.colab.output.renderOutput(dataTable, element);\n",
              "          const docLink = document.createElement('div');\n",
              "          docLink.innerHTML = docLinkHtml;\n",
              "          element.appendChild(docLink);\n",
              "        }\n",
              "      </script>\n",
              "    </div>\n",
              "  </div>\n",
              "  "
            ],
            "text/plain": [
              "            age      yredu       capgain     caploss     workhr\n",
              "mean  38.581647  10.080679   1077.648844    87.30383  40.437456\n",
              "max   90.000000  16.000000  99999.000000  4356.00000  99.000000\n",
              "min   17.000000   1.000000      0.000000     0.00000   1.000000"
            ]
          },
          "metadata": {},
          "execution_count": 139
        }
      ],
      "source": [
        "#we will use describe to find the min, max and avg of the selected columns\n",
        "subdf.describe().loc[['mean','max','min']]"
      ]
    },
    {
      "cell_type": "code",
      "source": [
        "#we use a for loop for normalisation\n",
        "\n",
        "for column in subdf.columns:\n",
        "  df[column] = (df[column]-(df[column]).min()) / ((df[column]).max() - (df[column]).min()) #using the formula\n",
        "\n",
        "df[[\"age\", \"yredu\", \"capgain\", \"caploss\", \"workhr\"]].describe().loc[['mean','max','min']] #visualise changes"
      ],
      "metadata": {
        "colab": {
          "base_uri": "https://localhost:8080/",
          "height": 143
        },
        "id": "FZSLdlW6X_VZ",
        "outputId": "556ad353-3259-4e05-e67e-38d69df04644"
      },
      "execution_count": 140,
      "outputs": [
        {
          "output_type": "execute_result",
          "data": {
            "text/html": [
              "\n",
              "  <div id=\"df-8a544cb0-cc9e-4ad0-9b49-bbcda2f37dfe\">\n",
              "    <div class=\"colab-df-container\">\n",
              "      <div>\n",
              "<style scoped>\n",
              "    .dataframe tbody tr th:only-of-type {\n",
              "        vertical-align: middle;\n",
              "    }\n",
              "\n",
              "    .dataframe tbody tr th {\n",
              "        vertical-align: top;\n",
              "    }\n",
              "\n",
              "    .dataframe thead th {\n",
              "        text-align: right;\n",
              "    }\n",
              "</style>\n",
              "<table border=\"1\" class=\"dataframe\">\n",
              "  <thead>\n",
              "    <tr style=\"text-align: right;\">\n",
              "      <th></th>\n",
              "      <th>age</th>\n",
              "      <th>yredu</th>\n",
              "      <th>capgain</th>\n",
              "      <th>caploss</th>\n",
              "      <th>workhr</th>\n",
              "    </tr>\n",
              "  </thead>\n",
              "  <tbody>\n",
              "    <tr>\n",
              "      <th>mean</th>\n",
              "      <td>0.295639</td>\n",
              "      <td>0.605379</td>\n",
              "      <td>0.010777</td>\n",
              "      <td>0.020042</td>\n",
              "      <td>0.402423</td>\n",
              "    </tr>\n",
              "    <tr>\n",
              "      <th>max</th>\n",
              "      <td>1.000000</td>\n",
              "      <td>1.000000</td>\n",
              "      <td>1.000000</td>\n",
              "      <td>1.000000</td>\n",
              "      <td>1.000000</td>\n",
              "    </tr>\n",
              "    <tr>\n",
              "      <th>min</th>\n",
              "      <td>0.000000</td>\n",
              "      <td>0.000000</td>\n",
              "      <td>0.000000</td>\n",
              "      <td>0.000000</td>\n",
              "      <td>0.000000</td>\n",
              "    </tr>\n",
              "  </tbody>\n",
              "</table>\n",
              "</div>\n",
              "      <button class=\"colab-df-convert\" onclick=\"convertToInteractive('df-8a544cb0-cc9e-4ad0-9b49-bbcda2f37dfe')\"\n",
              "              title=\"Convert this dataframe to an interactive table.\"\n",
              "              style=\"display:none;\">\n",
              "        \n",
              "  <svg xmlns=\"http://www.w3.org/2000/svg\" height=\"24px\"viewBox=\"0 0 24 24\"\n",
              "       width=\"24px\">\n",
              "    <path d=\"M0 0h24v24H0V0z\" fill=\"none\"/>\n",
              "    <path d=\"M18.56 5.44l.94 2.06.94-2.06 2.06-.94-2.06-.94-.94-2.06-.94 2.06-2.06.94zm-11 1L8.5 8.5l.94-2.06 2.06-.94-2.06-.94L8.5 2.5l-.94 2.06-2.06.94zm10 10l.94 2.06.94-2.06 2.06-.94-2.06-.94-.94-2.06-.94 2.06-2.06.94z\"/><path d=\"M17.41 7.96l-1.37-1.37c-.4-.4-.92-.59-1.43-.59-.52 0-1.04.2-1.43.59L10.3 9.45l-7.72 7.72c-.78.78-.78 2.05 0 2.83L4 21.41c.39.39.9.59 1.41.59.51 0 1.02-.2 1.41-.59l7.78-7.78 2.81-2.81c.8-.78.8-2.07 0-2.86zM5.41 20L4 18.59l7.72-7.72 1.47 1.35L5.41 20z\"/>\n",
              "  </svg>\n",
              "      </button>\n",
              "      \n",
              "  <style>\n",
              "    .colab-df-container {\n",
              "      display:flex;\n",
              "      flex-wrap:wrap;\n",
              "      gap: 12px;\n",
              "    }\n",
              "\n",
              "    .colab-df-convert {\n",
              "      background-color: #E8F0FE;\n",
              "      border: none;\n",
              "      border-radius: 50%;\n",
              "      cursor: pointer;\n",
              "      display: none;\n",
              "      fill: #1967D2;\n",
              "      height: 32px;\n",
              "      padding: 0 0 0 0;\n",
              "      width: 32px;\n",
              "    }\n",
              "\n",
              "    .colab-df-convert:hover {\n",
              "      background-color: #E2EBFA;\n",
              "      box-shadow: 0px 1px 2px rgba(60, 64, 67, 0.3), 0px 1px 3px 1px rgba(60, 64, 67, 0.15);\n",
              "      fill: #174EA6;\n",
              "    }\n",
              "\n",
              "    [theme=dark] .colab-df-convert {\n",
              "      background-color: #3B4455;\n",
              "      fill: #D2E3FC;\n",
              "    }\n",
              "\n",
              "    [theme=dark] .colab-df-convert:hover {\n",
              "      background-color: #434B5C;\n",
              "      box-shadow: 0px 1px 3px 1px rgba(0, 0, 0, 0.15);\n",
              "      filter: drop-shadow(0px 1px 2px rgba(0, 0, 0, 0.3));\n",
              "      fill: #FFFFFF;\n",
              "    }\n",
              "  </style>\n",
              "\n",
              "      <script>\n",
              "        const buttonEl =\n",
              "          document.querySelector('#df-8a544cb0-cc9e-4ad0-9b49-bbcda2f37dfe button.colab-df-convert');\n",
              "        buttonEl.style.display =\n",
              "          google.colab.kernel.accessAllowed ? 'block' : 'none';\n",
              "\n",
              "        async function convertToInteractive(key) {\n",
              "          const element = document.querySelector('#df-8a544cb0-cc9e-4ad0-9b49-bbcda2f37dfe');\n",
              "          const dataTable =\n",
              "            await google.colab.kernel.invokeFunction('convertToInteractive',\n",
              "                                                     [key], {});\n",
              "          if (!dataTable) return;\n",
              "\n",
              "          const docLinkHtml = 'Like what you see? Visit the ' +\n",
              "            '<a target=\"_blank\" href=https://colab.research.google.com/notebooks/data_table.ipynb>data table notebook</a>'\n",
              "            + ' to learn more about interactive tables.';\n",
              "          element.innerHTML = '';\n",
              "          dataTable['output_type'] = 'display_data';\n",
              "          await google.colab.output.renderOutput(dataTable, element);\n",
              "          const docLink = document.createElement('div');\n",
              "          docLink.innerHTML = docLinkHtml;\n",
              "          element.appendChild(docLink);\n",
              "        }\n",
              "      </script>\n",
              "    </div>\n",
              "  </div>\n",
              "  "
            ],
            "text/plain": [
              "           age     yredu   capgain   caploss    workhr\n",
              "mean  0.295639  0.605379  0.010777  0.020042  0.402423\n",
              "max   1.000000  1.000000  1.000000  1.000000  1.000000\n",
              "min   0.000000  0.000000  0.000000  0.000000  0.000000"
            ]
          },
          "metadata": {},
          "execution_count": 140
        }
      ]
    },
    {
      "cell_type": "markdown",
      "metadata": {
        "id": "qbfMly4R1pqK"
      },
      "source": [
        "### Part (b) Categorical Features [1 pt]\n",
        "\n",
        "What percentage of people in our data set are male? Note that the data labels all have an unfortunate space in the beginning, e.g. \" Male\" instead of \"Male\".\n",
        "\n",
        "What percentage of people in our data set are female?"
      ]
    },
    {
      "cell_type": "code",
      "execution_count": 80,
      "metadata": {
        "colab": {
          "base_uri": "https://localhost:8080/"
        },
        "id": "DjAjcsB_1pqK",
        "outputId": "ca41440c-8b60-4a9a-c694-18ae3b3b8c23"
      },
      "outputs": [
        {
          "output_type": "stream",
          "name": "stdout",
          "text": [
            "Percentage of males is 66.92%\n",
            "Percentage of females is 33.08%\n"
          ]
        }
      ],
      "source": [
        "# hint: you can do something like this in pandas\n",
        "percentage_males = sum(df[\"sex\"] == \" Male\") * 100/len(df)\n",
        "print(f\"Percentage of males is {percentage_males:.2f}%\")\n",
        "\n",
        "percentage_females = sum(df[\"sex\"] == \" Female\") * 100/len(df)\n",
        "print(f\"Percentage of females is {percentage_females:.2f}%\")\n"
      ]
    },
    {
      "cell_type": "markdown",
      "metadata": {
        "id": "eGVw7pqL1pqN"
      },
      "source": [
        "### Part (c) [2 pt]\n",
        "\n",
        "Before proceeding, we will modify our data frame in a couple more ways:\n",
        "\n",
        "1. We will restrict ourselves to using a subset of the features (to simplify our autoencoder)\n",
        "2. We will remove any records (rows) already containing missing values, and store them in a second dataframe. We will only use records without missing values to train our autoencoder.\n",
        "\n",
        "Both of these steps are done for you, below.\n",
        "\n",
        "How many records contained missing features? What percentage of records were removed?"
      ]
    },
    {
      "cell_type": "code",
      "execution_count": 81,
      "metadata": {
        "collapsed": true,
        "id": "z6ewPUdv1pqO",
        "jupyter": {
          "outputs_hidden": true
        }
      },
      "outputs": [],
      "source": [
        "contcols = [\"age\", \"yredu\", \"capgain\", \"caploss\", \"workhr\"]\n",
        "catcols = [\"work\", \"marriage\", \"occupation\", \"edu\", \"relationship\", \"sex\"]\n",
        "features = contcols + catcols\n",
        "df = df[features]"
      ]
    },
    {
      "cell_type": "code",
      "execution_count": 82,
      "metadata": {
        "collapsed": true,
        "id": "fjdVll5a1pqQ",
        "jupyter": {
          "outputs_hidden": true
        }
      },
      "outputs": [],
      "source": [
        "missing = pd.concat([df[c] == \" ?\" for c in catcols], axis=1).any(axis=1)\n",
        "df_with_missing = df[missing]\n",
        "df_not_missing = df[~missing]"
      ]
    },
    {
      "cell_type": "code",
      "source": [
        "print(f\"{len(df_with_missing)} records were missing features\")\n",
        "print (f\"{len(df_with_missing)/len(df):.2f}% of records were removed\")"
      ],
      "metadata": {
        "colab": {
          "base_uri": "https://localhost:8080/"
        },
        "id": "usBoz5-BZpZU",
        "outputId": "919b2524-edc7-411a-ede2-db7e44807cea"
      },
      "execution_count": 83,
      "outputs": [
        {
          "output_type": "stream",
          "name": "stdout",
          "text": [
            "1843 records were missing features\n",
            "0.06% of records were removed\n"
          ]
        }
      ]
    },
    {
      "cell_type": "markdown",
      "metadata": {
        "id": "XuEpndTQ1pqU"
      },
      "source": [
        "### Part (d) One-Hot Encoding [1 pt]\n",
        "\n",
        "What are all the possible values of the feature \"work\" in `df_not_missing`? You may find the Python function `set` useful."
      ]
    },
    {
      "cell_type": "code",
      "execution_count": 84,
      "metadata": {
        "colab": {
          "base_uri": "https://localhost:8080/"
        },
        "collapsed": true,
        "id": "iKFh4owE1pqV",
        "jupyter": {
          "outputs_hidden": true
        },
        "outputId": "77c28a68-0513-456d-f7ac-0dc86f0ab74a"
      },
      "outputs": [
        {
          "output_type": "stream",
          "name": "stdout",
          "text": [
            "{' Self-emp-not-inc', ' State-gov', ' Local-gov', ' Federal-gov', ' Private', ' Without-pay', ' Self-emp-inc'}  are the 'work' features in df_not_missing\n"
          ]
        }
      ],
      "source": [
        "print(set(df_not_missing[\"work\"]), \" are the 'work' features in df_not_missing\")\n"
      ]
    },
    {
      "cell_type": "markdown",
      "metadata": {
        "id": "COv3HaKr1pqY"
      },
      "source": [
        "We will be using a one-hot encoding to represent each of the categorical variables.\n",
        "Our autoencoder will be trained using these one-hot encodings.\n",
        "\n",
        "We will use the pandas function `get_dummies` to produce one-hot encodings\n",
        "for all of the categorical variables in `df_not_missing`. "
      ]
    },
    {
      "cell_type": "code",
      "execution_count": 85,
      "metadata": {
        "collapsed": true,
        "id": "eKlSYmJg1pqZ",
        "jupyter": {
          "outputs_hidden": true
        }
      },
      "outputs": [],
      "source": [
        "data = pd.get_dummies(df_not_missing)"
      ]
    },
    {
      "cell_type": "code",
      "execution_count": 141,
      "metadata": {
        "colab": {
          "base_uri": "https://localhost:8080/",
          "height": 269
        },
        "collapsed": true,
        "id": "3y7nTZ7H1pqb",
        "jupyter": {
          "outputs_hidden": true
        },
        "scrolled": true,
        "outputId": "9867cc34-4c54-4f71-daf0-3c759ec1aac2"
      },
      "outputs": [
        {
          "output_type": "execute_result",
          "data": {
            "text/html": [
              "\n",
              "  <div id=\"df-b688a45b-b794-45df-a11a-9daeb5f44eee\">\n",
              "    <div class=\"colab-df-container\">\n",
              "      <div>\n",
              "<style scoped>\n",
              "    .dataframe tbody tr th:only-of-type {\n",
              "        vertical-align: middle;\n",
              "    }\n",
              "\n",
              "    .dataframe tbody tr th {\n",
              "        vertical-align: top;\n",
              "    }\n",
              "\n",
              "    .dataframe thead th {\n",
              "        text-align: right;\n",
              "    }\n",
              "</style>\n",
              "<table border=\"1\" class=\"dataframe\">\n",
              "  <thead>\n",
              "    <tr style=\"text-align: right;\">\n",
              "      <th></th>\n",
              "      <th>age</th>\n",
              "      <th>yredu</th>\n",
              "      <th>capgain</th>\n",
              "      <th>caploss</th>\n",
              "      <th>workhr</th>\n",
              "      <th>work_ Federal-gov</th>\n",
              "      <th>work_ Local-gov</th>\n",
              "      <th>work_ Private</th>\n",
              "      <th>work_ Self-emp-inc</th>\n",
              "      <th>work_ Self-emp-not-inc</th>\n",
              "      <th>...</th>\n",
              "      <th>edu_ Prof-school</th>\n",
              "      <th>edu_ Some-college</th>\n",
              "      <th>relationship_ Husband</th>\n",
              "      <th>relationship_ Not-in-family</th>\n",
              "      <th>relationship_ Other-relative</th>\n",
              "      <th>relationship_ Own-child</th>\n",
              "      <th>relationship_ Unmarried</th>\n",
              "      <th>relationship_ Wife</th>\n",
              "      <th>sex_ Female</th>\n",
              "      <th>sex_ Male</th>\n",
              "    </tr>\n",
              "  </thead>\n",
              "  <tbody>\n",
              "    <tr>\n",
              "      <th>0</th>\n",
              "      <td>0.301370</td>\n",
              "      <td>0.800000</td>\n",
              "      <td>0.02174</td>\n",
              "      <td>0.0</td>\n",
              "      <td>0.397959</td>\n",
              "      <td>0</td>\n",
              "      <td>0</td>\n",
              "      <td>0</td>\n",
              "      <td>0</td>\n",
              "      <td>0</td>\n",
              "      <td>...</td>\n",
              "      <td>0</td>\n",
              "      <td>0</td>\n",
              "      <td>0</td>\n",
              "      <td>1</td>\n",
              "      <td>0</td>\n",
              "      <td>0</td>\n",
              "      <td>0</td>\n",
              "      <td>0</td>\n",
              "      <td>0</td>\n",
              "      <td>1</td>\n",
              "    </tr>\n",
              "    <tr>\n",
              "      <th>1</th>\n",
              "      <td>0.452055</td>\n",
              "      <td>0.800000</td>\n",
              "      <td>0.00000</td>\n",
              "      <td>0.0</td>\n",
              "      <td>0.122449</td>\n",
              "      <td>0</td>\n",
              "      <td>0</td>\n",
              "      <td>0</td>\n",
              "      <td>0</td>\n",
              "      <td>1</td>\n",
              "      <td>...</td>\n",
              "      <td>0</td>\n",
              "      <td>0</td>\n",
              "      <td>1</td>\n",
              "      <td>0</td>\n",
              "      <td>0</td>\n",
              "      <td>0</td>\n",
              "      <td>0</td>\n",
              "      <td>0</td>\n",
              "      <td>0</td>\n",
              "      <td>1</td>\n",
              "    </tr>\n",
              "    <tr>\n",
              "      <th>2</th>\n",
              "      <td>0.287671</td>\n",
              "      <td>0.533333</td>\n",
              "      <td>0.00000</td>\n",
              "      <td>0.0</td>\n",
              "      <td>0.397959</td>\n",
              "      <td>0</td>\n",
              "      <td>0</td>\n",
              "      <td>1</td>\n",
              "      <td>0</td>\n",
              "      <td>0</td>\n",
              "      <td>...</td>\n",
              "      <td>0</td>\n",
              "      <td>0</td>\n",
              "      <td>0</td>\n",
              "      <td>1</td>\n",
              "      <td>0</td>\n",
              "      <td>0</td>\n",
              "      <td>0</td>\n",
              "      <td>0</td>\n",
              "      <td>0</td>\n",
              "      <td>1</td>\n",
              "    </tr>\n",
              "  </tbody>\n",
              "</table>\n",
              "<p>3 rows × 57 columns</p>\n",
              "</div>\n",
              "      <button class=\"colab-df-convert\" onclick=\"convertToInteractive('df-b688a45b-b794-45df-a11a-9daeb5f44eee')\"\n",
              "              title=\"Convert this dataframe to an interactive table.\"\n",
              "              style=\"display:none;\">\n",
              "        \n",
              "  <svg xmlns=\"http://www.w3.org/2000/svg\" height=\"24px\"viewBox=\"0 0 24 24\"\n",
              "       width=\"24px\">\n",
              "    <path d=\"M0 0h24v24H0V0z\" fill=\"none\"/>\n",
              "    <path d=\"M18.56 5.44l.94 2.06.94-2.06 2.06-.94-2.06-.94-.94-2.06-.94 2.06-2.06.94zm-11 1L8.5 8.5l.94-2.06 2.06-.94-2.06-.94L8.5 2.5l-.94 2.06-2.06.94zm10 10l.94 2.06.94-2.06 2.06-.94-2.06-.94-.94-2.06-.94 2.06-2.06.94z\"/><path d=\"M17.41 7.96l-1.37-1.37c-.4-.4-.92-.59-1.43-.59-.52 0-1.04.2-1.43.59L10.3 9.45l-7.72 7.72c-.78.78-.78 2.05 0 2.83L4 21.41c.39.39.9.59 1.41.59.51 0 1.02-.2 1.41-.59l7.78-7.78 2.81-2.81c.8-.78.8-2.07 0-2.86zM5.41 20L4 18.59l7.72-7.72 1.47 1.35L5.41 20z\"/>\n",
              "  </svg>\n",
              "      </button>\n",
              "      \n",
              "  <style>\n",
              "    .colab-df-container {\n",
              "      display:flex;\n",
              "      flex-wrap:wrap;\n",
              "      gap: 12px;\n",
              "    }\n",
              "\n",
              "    .colab-df-convert {\n",
              "      background-color: #E8F0FE;\n",
              "      border: none;\n",
              "      border-radius: 50%;\n",
              "      cursor: pointer;\n",
              "      display: none;\n",
              "      fill: #1967D2;\n",
              "      height: 32px;\n",
              "      padding: 0 0 0 0;\n",
              "      width: 32px;\n",
              "    }\n",
              "\n",
              "    .colab-df-convert:hover {\n",
              "      background-color: #E2EBFA;\n",
              "      box-shadow: 0px 1px 2px rgba(60, 64, 67, 0.3), 0px 1px 3px 1px rgba(60, 64, 67, 0.15);\n",
              "      fill: #174EA6;\n",
              "    }\n",
              "\n",
              "    [theme=dark] .colab-df-convert {\n",
              "      background-color: #3B4455;\n",
              "      fill: #D2E3FC;\n",
              "    }\n",
              "\n",
              "    [theme=dark] .colab-df-convert:hover {\n",
              "      background-color: #434B5C;\n",
              "      box-shadow: 0px 1px 3px 1px rgba(0, 0, 0, 0.15);\n",
              "      filter: drop-shadow(0px 1px 2px rgba(0, 0, 0, 0.3));\n",
              "      fill: #FFFFFF;\n",
              "    }\n",
              "  </style>\n",
              "\n",
              "      <script>\n",
              "        const buttonEl =\n",
              "          document.querySelector('#df-b688a45b-b794-45df-a11a-9daeb5f44eee button.colab-df-convert');\n",
              "        buttonEl.style.display =\n",
              "          google.colab.kernel.accessAllowed ? 'block' : 'none';\n",
              "\n",
              "        async function convertToInteractive(key) {\n",
              "          const element = document.querySelector('#df-b688a45b-b794-45df-a11a-9daeb5f44eee');\n",
              "          const dataTable =\n",
              "            await google.colab.kernel.invokeFunction('convertToInteractive',\n",
              "                                                     [key], {});\n",
              "          if (!dataTable) return;\n",
              "\n",
              "          const docLinkHtml = 'Like what you see? Visit the ' +\n",
              "            '<a target=\"_blank\" href=https://colab.research.google.com/notebooks/data_table.ipynb>data table notebook</a>'\n",
              "            + ' to learn more about interactive tables.';\n",
              "          element.innerHTML = '';\n",
              "          dataTable['output_type'] = 'display_data';\n",
              "          await google.colab.output.renderOutput(dataTable, element);\n",
              "          const docLink = document.createElement('div');\n",
              "          docLink.innerHTML = docLinkHtml;\n",
              "          element.appendChild(docLink);\n",
              "        }\n",
              "      </script>\n",
              "    </div>\n",
              "  </div>\n",
              "  "
            ],
            "text/plain": [
              "        age     yredu  capgain  caploss    workhr  work_ Federal-gov  \\\n",
              "0  0.301370  0.800000  0.02174      0.0  0.397959                  0   \n",
              "1  0.452055  0.800000  0.00000      0.0  0.122449                  0   \n",
              "2  0.287671  0.533333  0.00000      0.0  0.397959                  0   \n",
              "\n",
              "   work_ Local-gov  work_ Private  work_ Self-emp-inc  work_ Self-emp-not-inc  \\\n",
              "0                0              0                   0                       0   \n",
              "1                0              0                   0                       1   \n",
              "2                0              1                   0                       0   \n",
              "\n",
              "   ...  edu_ Prof-school  edu_ Some-college  relationship_ Husband  \\\n",
              "0  ...                 0                  0                      0   \n",
              "1  ...                 0                  0                      1   \n",
              "2  ...                 0                  0                      0   \n",
              "\n",
              "   relationship_ Not-in-family  relationship_ Other-relative  \\\n",
              "0                            1                             0   \n",
              "1                            0                             0   \n",
              "2                            1                             0   \n",
              "\n",
              "   relationship_ Own-child  relationship_ Unmarried  relationship_ Wife  \\\n",
              "0                        0                        0                   0   \n",
              "1                        0                        0                   0   \n",
              "2                        0                        0                   0   \n",
              "\n",
              "   sex_ Female  sex_ Male  \n",
              "0            0          1  \n",
              "1            0          1  \n",
              "2            0          1  \n",
              "\n",
              "[3 rows x 57 columns]"
            ]
          },
          "metadata": {},
          "execution_count": 141
        }
      ],
      "source": [
        "data[:3]"
      ]
    },
    {
      "cell_type": "markdown",
      "metadata": {
        "id": "HwjDg1uM1pqe"
      },
      "source": [
        "### Part (e) One-Hot Encoding [2 pt]\n",
        "\n",
        "The dataframe `data` contains the cleaned and normalized data that we will use to train our denoising autoencoder.\n",
        "\n",
        "How many **columns** (features) are in the dataframe `data`?\n",
        "\n",
        "Briefly explain where that number come from."
      ]
    },
    {
      "cell_type": "code",
      "execution_count": 87,
      "metadata": {
        "colab": {
          "base_uri": "https://localhost:8080/"
        },
        "collapsed": true,
        "id": "yjZ5N0Tl1pqf",
        "jupyter": {
          "outputs_hidden": true
        },
        "outputId": "167c5a61-edfc-4597-a273-b70fae774613"
      },
      "outputs": [
        {
          "output_type": "stream",
          "name": "stdout",
          "text": [
            "57\n"
          ]
        }
      ],
      "source": [
        "print(len(data.columns))"
      ]
    },
    {
      "cell_type": "markdown",
      "source": [
        "`Data` dataframe contains 57 columns. These come from the one-hot encodings of all the possible values of the categorical categories. This allows us to represent whether the person belongs to a specific categorical variable in a binary manner. 57 means that there are a total of 57 categorical descriptors in the dataset. "
      ],
      "metadata": {
        "id": "3UqSAJvwcF-4"
      }
    },
    {
      "cell_type": "markdown",
      "metadata": {
        "id": "OEJ0Ci3l1pqh"
      },
      "source": [
        "### Part (f) One-Hot Conversion [3 pt]\n",
        "\n",
        "We will convert the pandas data frame `data` into numpy, so that\n",
        "it can be further converted into a PyTorch tensor.\n",
        "However, in doing so, we lose the column label information that\n",
        "a panda data frame automatically stores.\n",
        "\n",
        "Complete the function `get_categorical_value` that will return\n",
        "the named value of a feature given a one-hot embedding.\n",
        "You may find the global variables `cat_index` and `cat_values`\n",
        "useful. (Display them and figure out what they are first.)\n",
        "\n",
        "We will need this function in the next part of the lab\n",
        "to interpret our autoencoder outputs. So, the input\n",
        "to our function `get_categorical_values` might not \n",
        "actually be \"one-hot\" -- the input may instead \n",
        "contain real-valued predictions from our neural network."
      ]
    },
    {
      "cell_type": "code",
      "execution_count": 88,
      "metadata": {
        "collapsed": true,
        "id": "ZmovX6gu1pqi",
        "jupyter": {
          "outputs_hidden": true
        }
      },
      "outputs": [],
      "source": [
        "datanp = data.values.astype(np.float32)"
      ]
    },
    {
      "cell_type": "code",
      "execution_count": 89,
      "metadata": {
        "collapsed": true,
        "id": "YRIa5MBd1pql",
        "jupyter": {
          "outputs_hidden": true
        }
      },
      "outputs": [],
      "source": [
        "cat_index = {}  # Mapping of feature -> start index of feature in a record\n",
        "cat_values = {} # Mapping of feature -> list of categorical values the feature can take\n",
        "\n",
        "# build up the cat_index and cat_values dictionary\n",
        "for i, header in enumerate(data.keys()):\n",
        "    if \"_\" in header: # categorical header\n",
        "        feature, value = header.split()\n",
        "        feature = feature[:-1] # remove the last char; it is always an underscore\n",
        "        if feature not in cat_index:\n",
        "            cat_index[feature] = i\n",
        "            cat_values[feature] = [value]\n",
        "        else:\n",
        "            cat_values[feature].append(value)\n",
        "\n",
        "def get_onehot(record, feature):\n",
        "    \"\"\"\n",
        "    Return the portion of `record` that is the one-hot encoding\n",
        "    of `feature`. For example, since the feature \"work\" is stored\n",
        "    in the indices [5:12] in each record, calling `get_range(record, \"work\")`\n",
        "    is equivalent to accessing `record[5:12]`.\n",
        "    \n",
        "    Args:\n",
        "        - record: a numpy array representing one record, formatted\n",
        "                  the same way as a row in `data.np`\n",
        "        - feature: a string, should be an element of `catcols`\n",
        "    \"\"\"\n",
        "    start_index = cat_index[feature]\n",
        "    stop_index = cat_index[feature] + len(cat_values[feature])\n",
        "    return record[start_index:stop_index]\n",
        "\n",
        "def get_categorical_value(onehot, feature):\n",
        "    \"\"\"\n",
        "    Return the categorical value name of a feature given\n",
        "    a one-hot vector representing the feature.\n",
        "    \n",
        "    Args:\n",
        "        - onehot: a numpy array one-hot representation of the feature\n",
        "        - feature: a string, should be an element of `catcols`\n",
        "        \n",
        "    Examples:\n",
        "    \n",
        "    >>> get_categorical_value(np.array([0., 0., 0., 0., 0., 1., 0.]), \"work\")\n",
        "    'State-gov'\n",
        "    >>> get_categorical_value(np.array([0.1, 0., 1.1, 0.2, 0., 1., 0.]), \"work\")\n",
        "    'Private'\n",
        "    \"\"\"\n",
        "    # <----- TODO: WRITE YOUR CODE HERE ----->\n",
        "    # You may find the variables `cat_index` and `cat_values` \n",
        "    # (created above) useful.\n",
        "    return cat_values[feature][np.argmax(onehot)] \n",
        "    #since we have to return the categorical value name with the highest prediction confidence, \n",
        "    #we use np.argmax to get the index of that feature to look in cat_values dict"
      ]
    },
    {
      "cell_type": "code",
      "execution_count": 90,
      "metadata": {
        "collapsed": true,
        "id": "T_XXxZdh1pqv",
        "jupyter": {
          "outputs_hidden": true
        }
      },
      "outputs": [],
      "source": [
        "# more useful code, used during training, that depends on the function\n",
        "# you write above\n",
        "\n",
        "def get_feature(record, feature):\n",
        "    \"\"\"\n",
        "    Return the categorical feature value of a record\n",
        "    \"\"\"\n",
        "    onehot = get_onehot(record, feature)\n",
        "    return get_categorical_value(onehot, feature)\n",
        "\n",
        "def get_features(record):\n",
        "    \"\"\"\n",
        "    Return a dictionary of all categorical feature values of a record\n",
        "    \"\"\"\n",
        "    return { f: get_feature(record, f) for f in catcols }"
      ]
    },
    {
      "cell_type": "markdown",
      "metadata": {
        "id": "1_5ZZR_J1pqy"
      },
      "source": [
        "### Part (g) Train/Test Split [3 pt]\n",
        "\n",
        "Randomly split the data into approximately 70% training, 15% validation and 15% test.\n",
        "\n",
        "Report the number of items in your training, validation, and test set."
      ]
    },
    {
      "cell_type": "code",
      "execution_count": 93,
      "metadata": {
        "colab": {
          "base_uri": "https://localhost:8080/"
        },
        "collapsed": true,
        "id": "TE_fTJJf1pqz",
        "jupyter": {
          "outputs_hidden": true
        },
        "outputId": "e92dddf1-e825-4ae2-b823-510d6151b939"
      },
      "outputs": [
        {
          "output_type": "stream",
          "name": "stdout",
          "text": [
            "Length of training data is 21502, length of val data is 4608, and length of test data is 4608.\n"
          ]
        }
      ],
      "source": [
        "# set the numpy seed for reproducibility\n",
        "# https://docs.scipy.org/doc/numpy/reference/generated/numpy.random.seed.html\n",
        "np.random.seed(50)\n",
        "\n",
        "# todo\n",
        "np.random.shuffle(datanp)\n",
        "total_data = len(datanp)\n",
        "train_data, val_data, test_data = datanp[:int(0.7*total_data)], datanp[int(0.7*total_data):int(0.85*total_data)], datanp[int(0.85*total_data):]\n",
        "print(f\"Length of training data is {len(train_data)}, length of val data is {len(val_data)}, and length of test data is {len(test_data)}.\")"
      ]
    },
    {
      "cell_type": "markdown",
      "metadata": {
        "id": "h9wJAKOI1pq3"
      },
      "source": [
        "## Part 2. Model Setup [5 pt]\n",
        "\n",
        "### Part (a) [4 pt]\n",
        "\n",
        "Design a fully-connected autoencoder by modifying the `encoder` and `decoder`\n",
        "below.\n",
        "\n",
        "The input to this autoencoder will be the features of the `data`, with\n",
        "one categorical feature recorded as \"missing\". The output of the autoencoder\n",
        "should be the reconstruction of the same features, but with the missing\n",
        "value filled in.\n",
        "\n",
        "**Note**: Do not reduce the dimensionality of the input too much!\n",
        "The output of your embedding is expected to contain information \n",
        "about ~11 features."
      ]
    },
    {
      "cell_type": "code",
      "execution_count": 95,
      "metadata": {
        "collapsed": true,
        "id": "f3F--tdn1pq3",
        "jupyter": {
          "outputs_hidden": true
        }
      },
      "outputs": [],
      "source": [
        "from torch import nn\n",
        "\n",
        "class AutoEncoder(nn.Module):\n",
        "    def __init__(self):\n",
        "        self.name = \"AutoEncoder\"\n",
        "\n",
        "        super(AutoEncoder, self).__init__()\n",
        "\n",
        "        self.encoder = nn.Sequential(\n",
        "            nn.Linear(57, 28), \n",
        "            nn.ReLU(),\n",
        "            nn.Linear(28,14),\n",
        "            nn.ReLU()\n",
        "        )\n",
        "        self.decoder = nn.Sequential(\n",
        "            nn.Linear(14,28),\n",
        "            nn.ReLU(),\n",
        "            nn.Linear(28,57),\n",
        "            nn.Sigmoid() # get to the range (0, 1)\n",
        "        )\n",
        "\n",
        "    def forward(self, x):\n",
        "        x = self.encoder(x)\n",
        "        x = self.decoder(x)\n",
        "        return x"
      ]
    },
    {
      "cell_type": "markdown",
      "metadata": {
        "id": "kuEzTSAv1pq6"
      },
      "source": [
        "### Part (b) [1 pt]\n",
        "\n",
        "Explain why there is a sigmoid activation in the last step of the decoder.\n",
        "\n",
        "(**Note**: the values inside the data frame `data` and the training code in Part 3 might be helpful.)"
      ]
    },
    {
      "cell_type": "markdown",
      "source": [
        "The data in the columns for the categorical one-hot encoded values are between 0 and 1 due to the normalization performed earlier, by using sigmoid, we force the output to be between 0 and 1 as well, therefore the output would match the autoencoder input data type. \n",
        "\n"
      ],
      "metadata": {
        "id": "fG4si6vxjCVk"
      }
    },
    {
      "cell_type": "markdown",
      "metadata": {
        "id": "jYwqFWVl1pq8"
      },
      "source": [
        "## Part 3. Training [18] \n",
        "\n",
        "### Part (a) [6 pt]\n",
        "\n",
        "We will train our autoencoder in the following way:\n",
        "\n",
        "- In each iteration, we will hide one of the categorical features using the `zero_out_random_features` function\n",
        "- We will pass the data with one missing feature through the autoencoder, and obtain a reconstruction\n",
        "- We will check how close the reconstruction is compared to the original data -- including the value of the missing feature\n",
        "\n",
        "Complete the code to train the autoencoder, and plot the training and validation loss every few iterations.\n",
        "You may also want to plot training and validation \"accuracy\" every few iterations, as we will define in\n",
        "part (b). You may also want to checkpoint your model every few iterations or epochs.\n",
        "\n",
        "Use `nn.MSELoss()` as your loss function. (Side note: you might recognize that this loss function is not\n",
        "ideal for this problem, but we will use it anyway.)"
      ]
    },
    {
      "cell_type": "code",
      "source": [
        "# Device\n",
        "device = torch.device(\"cuda\" if torch.cuda.is_available() else \"cpu\")\n",
        "print(device)"
      ],
      "metadata": {
        "colab": {
          "base_uri": "https://localhost:8080/"
        },
        "id": "qRB7PZVgqF8d",
        "outputId": "6980d684-64a2-479a-b672-7e6d85bdbd05"
      },
      "execution_count": 96,
      "outputs": [
        {
          "output_type": "stream",
          "name": "stdout",
          "text": [
            "cuda\n"
          ]
        }
      ]
    },
    {
      "cell_type": "code",
      "execution_count": 104,
      "metadata": {
        "collapsed": true,
        "id": "IDQA_-dS1pq9",
        "jupyter": {
          "outputs_hidden": true
        }
      },
      "outputs": [],
      "source": [
        "import os\n",
        "import matplotlib.pyplot as plt\n",
        "\n",
        "def zero_out_feature(records, feature):\n",
        "    \"\"\" Set the feature missing in records, by setting the appropriate\n",
        "    columns of records to 0\n",
        "    \"\"\"\n",
        "    start_index = cat_index[feature]\n",
        "    stop_index = cat_index[feature] + len(cat_values[feature])\n",
        "    records[:, start_index:stop_index] = 0\n",
        "    return records\n",
        "\n",
        "def zero_out_random_feature(records):\n",
        "    \"\"\" Set one random feature missing in records, by setting the \n",
        "    appropriate columns of records to 0\n",
        "    \"\"\"\n",
        "    return zero_out_feature(records, random.choice(catcols))\n",
        "\n",
        "def train(model, train_data, val_data, batch_size, num_epochs=5, learning_rate=1e-4, plot = True):\n",
        "    \"\"\" Training loop. You should update this.\"\"\"\n",
        "    \n",
        "    train_loader= torch.utils.data.DataLoader(train_data, batch_size = batch_size, shuffle = True)\n",
        "    val_loader= torch.utils.data.DataLoader(val_data, batch_size= batch_size, shuffle = True)\n",
        "    model = model.to(device)\n",
        "    torch.manual_seed(42)\n",
        "    criterion = nn.MSELoss().to(device)\n",
        "    optimizer = torch.optim.Adam(model.parameters(), lr=learning_rate)\n",
        "    scheduler = torch.optim.lr_scheduler.ReduceLROnPlateau(optimizer, patience=3, factor=0.5, verbose= True, min_lr=1e-6)\n",
        "\n",
        "    iters, losses, val_losses, acc, val_acc = [], [], [], [], []\n",
        "    model_path = f\"model_{model.name}_bs{batch_size}_lr{learning_rate}_epochs{num_epochs}\"\n",
        "    os.makedirs(os.path.join(\"/content/backup\",model_path), exist_ok = True)\n",
        "    model.train()        \n",
        "    for epoch in range(num_epochs):\n",
        "        train_loss_per_epoch, train_batches, val_loss_per_epoch, val_batches = 0.0, 0.0, 0.0, 0.0\n",
        "        for data in train_loader:\n",
        "            data = data.to(device)\n",
        "            datam = zero_out_random_feature(data.clone()).to(device) # zero out one categorical feature\n",
        "            recon = model(datam)\n",
        "            loss = criterion(recon, data)\n",
        "            train_loss_per_epoch += loss.item()\n",
        "            loss.backward()\n",
        "            optimizer.step()\n",
        "            optimizer.zero_grad()\n",
        "            train_batches +=1\n",
        "\n",
        "        for data_val in val_loader:\n",
        "            data_val = data_val.to(device)\n",
        "            datam_val = zero_out_random_feature(data_val.clone()).to(device) # zero out one categorical feature\n",
        "            recon_val = model(datam_val)\n",
        "            val_loss = criterion(recon_val, data_val)\n",
        "            val_loss_per_epoch += val_loss.item()\n",
        "            val_batches +=1\n",
        "\n",
        "        iters.append(epoch)\n",
        "        losses.append(float(train_loss_per_epoch)/train_batches) # compute training loss\n",
        "        acc.append(get_accuracy(model, train_loader)) # compute training accuracy\n",
        "        val_losses.append(float(val_loss_per_epoch)/val_batches) # compute val loss\n",
        "        val_acc.append(get_accuracy(model, val_loader))  # compute validation accuracy\n",
        "        scheduler.step(val_acc[-1])\n",
        "\n",
        "        print(f\"Epoch {epoch + 1}/{num_epochs}: Training loss {losses[-1]:.3f} , Val loss {val_losses[-1]:.3f} , Training accuracy {acc[-1]:.3f} , Val accuracy {val_acc[-1]:.3f}\")\n",
        "        if val_acc[-1]==max(val_acc):\n",
        "            torch.save(model.state_dict(), os.path.join(\"/content/backup\", model_path, \"best.pth\"))\n",
        "            print (\"best model saved\")\n",
        "        if epoch % 10 == 0:\n",
        "            torch.save(model.state_dict(), os.path.join(\"/content/backup\", model_path, f\"{epoch}.pth\"))\n",
        "            print (\"checkpoint model saved\")\n",
        "\n",
        "    print (f\"Best training accuracy is {max(acc)}\")\n",
        "    print (f\"Best val accuracy is {max(val_acc)}\")\n",
        "    if plot: # plotting\n",
        "      plt.title(\"Loss Curve\")\n",
        "      plt.plot(iters, losses, label=\"Train\")\n",
        "      plt.plot(iters, val_losses, label=\"Validation\")\n",
        "      plt.xlabel(\"Iterations\")\n",
        "      plt.ylabel(\"Loss\")\n",
        "      plt.legend(loc='best')\n",
        "      plt.show()\n",
        "\n",
        "      plt.title(\"Accuracy Curve\")\n",
        "      plt.plot(iters, acc, label=\"Train\")\n",
        "      plt.plot(iters, val_acc, label=\"Validation\")\n",
        "      plt.xlabel(\"Iterations\")\n",
        "      plt.ylabel(\"Accuracy\")\n",
        "      plt.legend(loc='best')\n",
        "      plt.show()       "
      ]
    },
    {
      "cell_type": "markdown",
      "metadata": {
        "id": "WKk01pwx1pq_"
      },
      "source": [
        "### Part (b) [3 pt]\n",
        "\n",
        "While plotting training and validation loss is valuable, loss values are harder to compare\n",
        "than accuracy percentages. It would be nice to have a measure of \"accuracy\" in this problem.\n",
        "\n",
        "Since we will only be imputing missing categorical values, we will define an accuracy measure.\n",
        "For each record and for each categorical feature, we determine whether\n",
        "the model can predict the categorical feature given all the other features of the record.\n",
        "\n",
        "A function `get_accuracy` is written for you. It is up to you to figure out how to\n",
        "use the function. **You don't need to submit anything in this part.**\n",
        "To earn the marks, correctly plot the training and validation accuracy every few \n",
        "iterations as part of your training curve."
      ]
    },
    {
      "cell_type": "code",
      "execution_count": 98,
      "metadata": {
        "collapsed": true,
        "id": "bHWLfCzM1pq_",
        "jupyter": {
          "outputs_hidden": true
        }
      },
      "outputs": [],
      "source": [
        "def get_accuracy(model, data_loader):\n",
        "    \"\"\"Return the \"accuracy\" of the autoencoder model across a data set.\n",
        "    That is, for each record and for each categorical feature, \n",
        "    we determine whether the model can successfully predict the value\n",
        "    of the categorical feature given all the other features of the \n",
        "    record. The returned \"accuracy\" measure is the percentage of times \n",
        "    that our model is successful.\n",
        "        \n",
        "    Args:\n",
        "       - model: the autoencoder model, an instance of nn.Module\n",
        "       - data_loader: an instance of torch.utils.data.DataLoader\n",
        "\n",
        "    Example (to illustrate how get_accuracy is intended to be called.\n",
        "             Depending on your variable naming this code might require\n",
        "             modification.)\n",
        "\n",
        "        >>> model = AutoEncoder()\n",
        "        >>> vdl = torch.utils.data.DataLoader(data_valid, batch_size=256, shuffle=True)\n",
        "        >>> get_accuracy(model, vdl)\n",
        "    \"\"\"\n",
        "    model.eval()\n",
        "    total = 0\n",
        "    acc = 0\n",
        "    model = model.to(\"cpu\")\n",
        "    for col in catcols:\n",
        "        for item in data_loader: # minibatches\n",
        "            inp = item.detach().numpy()\n",
        "            out = model(zero_out_feature(item.clone(), col)).detach().numpy()\n",
        "            for i in range(out.shape[0]): # record in minibatch\n",
        "                acc += int(get_feature(out[i], col) == get_feature(inp[i], col))\n",
        "                total += 1\n",
        "    model = model.to(device)\n",
        "    model.train()\n",
        "    return acc / total"
      ]
    },
    {
      "cell_type": "markdown",
      "metadata": {
        "id": "SxCTlXoV1prB"
      },
      "source": [
        "### Part (c) [4 pt]\n",
        "\n",
        "Run your updated training code, using reasonable initial hyperparameters.\n",
        "\n",
        "Include your training curve in your submission."
      ]
    },
    {
      "cell_type": "code",
      "execution_count": 99,
      "metadata": {
        "colab": {
          "base_uri": "https://localhost:8080/",
          "height": 1000
        },
        "collapsed": true,
        "id": "nj5b71l-1prC",
        "jupyter": {
          "outputs_hidden": true
        },
        "outputId": "8a360130-0b11-4671-f6b6-999fd5619acd"
      },
      "outputs": [
        {
          "output_type": "stream",
          "name": "stdout",
          "text": [
            "Epoch 1/50: Training loss 0.072 , Val loss 0.047 , Training accuracy 0.577 , Val accuracy 0.578\n",
            "best model saved\n",
            "checkpoint model saved\n",
            "Epoch 2/50: Training loss 0.038 , Val loss 0.034 , Training accuracy 0.601 , Val accuracy 0.599\n",
            "best model saved\n",
            "Epoch 3/50: Training loss 0.031 , Val loss 0.029 , Training accuracy 0.604 , Val accuracy 0.602\n",
            "best model saved\n",
            "Epoch 4/50: Training loss 0.027 , Val loss 0.027 , Training accuracy 0.597 , Val accuracy 0.599\n",
            "Epoch     5: reducing learning rate of group 0 to 5.0000e-04.\n",
            "Epoch 5/50: Training loss 0.025 , Val loss 0.024 , Training accuracy 0.598 , Val accuracy 0.601\n",
            "Epoch 6/50: Training loss 0.023 , Val loss 0.023 , Training accuracy 0.595 , Val accuracy 0.594\n",
            "Epoch 7/50: Training loss 0.022 , Val loss 0.022 , Training accuracy 0.609 , Val accuracy 0.609\n",
            "best model saved\n",
            "Epoch 8/50: Training loss 0.021 , Val loss 0.021 , Training accuracy 0.603 , Val accuracy 0.601\n",
            "Epoch     9: reducing learning rate of group 0 to 2.5000e-04.\n",
            "Epoch 9/50: Training loss 0.021 , Val loss 0.020 , Training accuracy 0.604 , Val accuracy 0.604\n",
            "Epoch 10/50: Training loss 0.020 , Val loss 0.020 , Training accuracy 0.603 , Val accuracy 0.604\n",
            "Epoch 11/50: Training loss 0.020 , Val loss 0.020 , Training accuracy 0.602 , Val accuracy 0.603\n",
            "checkpoint model saved\n",
            "Epoch 12/50: Training loss 0.020 , Val loss 0.020 , Training accuracy 0.609 , Val accuracy 0.609\n",
            "best model saved\n",
            "Epoch    13: reducing learning rate of group 0 to 1.2500e-04.\n",
            "Epoch 13/50: Training loss 0.019 , Val loss 0.019 , Training accuracy 0.607 , Val accuracy 0.606\n",
            "Epoch 14/50: Training loss 0.019 , Val loss 0.019 , Training accuracy 0.609 , Val accuracy 0.609\n",
            "Epoch 15/50: Training loss 0.018 , Val loss 0.018 , Training accuracy 0.608 , Val accuracy 0.607\n",
            "Epoch 16/50: Training loss 0.018 , Val loss 0.019 , Training accuracy 0.606 , Val accuracy 0.606\n",
            "Epoch    17: reducing learning rate of group 0 to 6.2500e-05.\n",
            "Epoch 17/50: Training loss 0.019 , Val loss 0.018 , Training accuracy 0.609 , Val accuracy 0.610\n",
            "best model saved\n",
            "Epoch 18/50: Training loss 0.018 , Val loss 0.018 , Training accuracy 0.610 , Val accuracy 0.611\n",
            "best model saved\n",
            "Epoch 19/50: Training loss 0.018 , Val loss 0.018 , Training accuracy 0.611 , Val accuracy 0.611\n",
            "best model saved\n",
            "Epoch 20/50: Training loss 0.018 , Val loss 0.018 , Training accuracy 0.613 , Val accuracy 0.612\n",
            "best model saved\n",
            "Epoch    21: reducing learning rate of group 0 to 3.1250e-05.\n",
            "Epoch 21/50: Training loss 0.018 , Val loss 0.018 , Training accuracy 0.613 , Val accuracy 0.614\n",
            "best model saved\n",
            "checkpoint model saved\n",
            "Epoch 22/50: Training loss 0.018 , Val loss 0.018 , Training accuracy 0.611 , Val accuracy 0.612\n",
            "Epoch 23/50: Training loss 0.018 , Val loss 0.018 , Training accuracy 0.611 , Val accuracy 0.612\n",
            "Epoch 24/50: Training loss 0.018 , Val loss 0.018 , Training accuracy 0.613 , Val accuracy 0.614\n",
            "best model saved\n",
            "Epoch    25: reducing learning rate of group 0 to 1.5625e-05.\n",
            "Epoch 25/50: Training loss 0.018 , Val loss 0.018 , Training accuracy 0.611 , Val accuracy 0.612\n",
            "Epoch 26/50: Training loss 0.018 , Val loss 0.018 , Training accuracy 0.612 , Val accuracy 0.613\n",
            "Epoch 27/50: Training loss 0.018 , Val loss 0.018 , Training accuracy 0.612 , Val accuracy 0.613\n",
            "Epoch 28/50: Training loss 0.018 , Val loss 0.018 , Training accuracy 0.612 , Val accuracy 0.611\n",
            "Epoch    29: reducing learning rate of group 0 to 7.8125e-06.\n",
            "Epoch 29/50: Training loss 0.018 , Val loss 0.018 , Training accuracy 0.612 , Val accuracy 0.612\n",
            "Epoch 30/50: Training loss 0.018 , Val loss 0.018 , Training accuracy 0.612 , Val accuracy 0.612\n",
            "Epoch 31/50: Training loss 0.018 , Val loss 0.018 , Training accuracy 0.612 , Val accuracy 0.612\n",
            "checkpoint model saved\n",
            "Epoch 32/50: Training loss 0.018 , Val loss 0.018 , Training accuracy 0.612 , Val accuracy 0.612\n",
            "Epoch    33: reducing learning rate of group 0 to 3.9063e-06.\n",
            "Epoch 33/50: Training loss 0.018 , Val loss 0.018 , Training accuracy 0.612 , Val accuracy 0.612\n",
            "Epoch 34/50: Training loss 0.018 , Val loss 0.018 , Training accuracy 0.612 , Val accuracy 0.612\n",
            "Epoch 35/50: Training loss 0.018 , Val loss 0.018 , Training accuracy 0.612 , Val accuracy 0.612\n",
            "Epoch 36/50: Training loss 0.018 , Val loss 0.018 , Training accuracy 0.612 , Val accuracy 0.612\n",
            "Epoch    37: reducing learning rate of group 0 to 1.9531e-06.\n",
            "Epoch 37/50: Training loss 0.018 , Val loss 0.018 , Training accuracy 0.612 , Val accuracy 0.612\n",
            "Epoch 38/50: Training loss 0.018 , Val loss 0.018 , Training accuracy 0.612 , Val accuracy 0.611\n",
            "Epoch 39/50: Training loss 0.018 , Val loss 0.018 , Training accuracy 0.612 , Val accuracy 0.611\n",
            "Epoch 40/50: Training loss 0.018 , Val loss 0.018 , Training accuracy 0.612 , Val accuracy 0.612\n",
            "Epoch    41: reducing learning rate of group 0 to 1.0000e-06.\n",
            "Epoch 41/50: Training loss 0.018 , Val loss 0.019 , Training accuracy 0.612 , Val accuracy 0.612\n",
            "checkpoint model saved\n",
            "Epoch 42/50: Training loss 0.018 , Val loss 0.018 , Training accuracy 0.612 , Val accuracy 0.612\n",
            "Epoch 43/50: Training loss 0.018 , Val loss 0.018 , Training accuracy 0.612 , Val accuracy 0.612\n",
            "Epoch 44/50: Training loss 0.018 , Val loss 0.018 , Training accuracy 0.612 , Val accuracy 0.612\n",
            "Epoch 45/50: Training loss 0.018 , Val loss 0.018 , Training accuracy 0.612 , Val accuracy 0.612\n",
            "Epoch 46/50: Training loss 0.018 , Val loss 0.018 , Training accuracy 0.612 , Val accuracy 0.612\n",
            "Epoch 47/50: Training loss 0.018 , Val loss 0.018 , Training accuracy 0.612 , Val accuracy 0.612\n",
            "Epoch 48/50: Training loss 0.018 , Val loss 0.018 , Training accuracy 0.612 , Val accuracy 0.612\n",
            "Epoch 49/50: Training loss 0.018 , Val loss 0.018 , Training accuracy 0.612 , Val accuracy 0.612\n",
            "Epoch 50/50: Training loss 0.018 , Val loss 0.018 , Training accuracy 0.612 , Val accuracy 0.612\n"
          ]
        },
        {
          "output_type": "display_data",
          "data": {
            "image/png": "[encoded data removed]",
            "text/plain": [
              "<Figure size 432x288 with 1 Axes>"
            ]
          },
          "metadata": {
            "needs_background": "light"
          }
        },
        {
          "output_type": "display_data",
          "data": {
            "image/png": "[encoded data removed]",
            "text/plain": [
              "<Figure size 432x288 with 1 Axes>"
            ]
          },
          "metadata": {
            "needs_background": "light"
          }
        }
      ],
      "source": [
        "model = AutoEncoder()\n",
        "batch_size = 32\n",
        "num_epochs = 50\n",
        "learning_rate = 0.001\n",
        "\n",
        "train(model, train_data, val_data, batch_size, num_epochs=num_epochs, learning_rate=learning_rate, plot = True)"
      ]
    },
    {
      "cell_type": "code",
      "source": [
        "!rm -r /content/backup"
      ],
      "metadata": {
        "id": "9xtI2Htr8YTQ"
      },
      "execution_count": 66,
      "outputs": []
    },
    {
      "cell_type": "markdown",
      "metadata": {
        "id": "h9xTwIf51prF"
      },
      "source": [
        "### Part (d) [5 pt]\n",
        "\n",
        "Tune your hyperparameters, training at least 4 different models (4 sets of hyperparameters).\n",
        "\n",
        "Do not include all your training curves. Instead, explain what hyperparameters\n",
        "you tried, what their effect was, and what your thought process was as you \n",
        "chose the next set of hyperparameters to try."
      ]
    },
    {
      "cell_type": "markdown",
      "source": [
        "The main hyperparameter training is related to learning rate and batch size. We can try learning rate to be 0.001 and 0.005, with batch size being 32 and 64. number of epochs is set at 50, as shown above that 50 epochs are enough for model to stabilise.\n",
        "\n",
        "The reason for trying a batch size of 64 and learning rate of 0.005 is to accelerate training, but keep it more generalised training (though the training accuracy and validation acc follow closely, implying that the generalization ability of the model is great)"
      ],
      "metadata": {
        "id": "ZHDKOMtR4fsB"
      }
    },
    {
      "cell_type": "code",
      "execution_count": 105,
      "metadata": {
        "colab": {
          "base_uri": "https://localhost:8080/"
        },
        "collapsed": true,
        "id": "PhTKt9iL1prG",
        "jupyter": {
          "outputs_hidden": true
        },
        "outputId": "d1b61a31-665b-458f-a04a-536a2ff317be"
      },
      "outputs": [
        {
          "output_type": "stream",
          "name": "stdout",
          "text": [
            "Epoch 1/50: Training loss 0.092 , Val loss 0.055 , Training accuracy 0.536 , Val accuracy 0.539\n",
            "best model saved\n",
            "checkpoint model saved\n",
            "Epoch 2/50: Training loss 0.048 , Val loss 0.041 , Training accuracy 0.586 , Val accuracy 0.587\n",
            "best model saved\n",
            "Epoch 3/50: Training loss 0.038 , Val loss 0.035 , Training accuracy 0.611 , Val accuracy 0.607\n",
            "best model saved\n",
            "Epoch 4/50: Training loss 0.032 , Val loss 0.031 , Training accuracy 0.606 , Val accuracy 0.602\n",
            "Epoch     5: reducing learning rate of group 0 to 5.0000e-04.\n",
            "Epoch 5/50: Training loss 0.031 , Val loss 0.030 , Training accuracy 0.613 , Val accuracy 0.612\n",
            "best model saved\n",
            "Epoch 6/50: Training loss 0.029 , Val loss 0.029 , Training accuracy 0.612 , Val accuracy 0.611\n",
            "Epoch 7/50: Training loss 0.028 , Val loss 0.027 , Training accuracy 0.612 , Val accuracy 0.611\n",
            "Epoch 8/50: Training loss 0.026 , Val loss 0.026 , Training accuracy 0.609 , Val accuracy 0.609\n",
            "Epoch     9: reducing learning rate of group 0 to 2.5000e-04.\n",
            "Epoch 9/50: Training loss 0.025 , Val loss 0.025 , Training accuracy 0.607 , Val accuracy 0.610\n",
            "Epoch 10/50: Training loss 0.025 , Val loss 0.025 , Training accuracy 0.609 , Val accuracy 0.612\n",
            "Epoch 11/50: Training loss 0.025 , Val loss 0.024 , Training accuracy 0.610 , Val accuracy 0.612\n",
            "checkpoint model saved\n",
            "Epoch 12/50: Training loss 0.024 , Val loss 0.023 , Training accuracy 0.610 , Val accuracy 0.612\n",
            "best model saved\n",
            "Epoch    13: reducing learning rate of group 0 to 1.2500e-04.\n",
            "Epoch 13/50: Training loss 0.024 , Val loss 0.023 , Training accuracy 0.610 , Val accuracy 0.611\n",
            "Epoch 14/50: Training loss 0.023 , Val loss 0.024 , Training accuracy 0.609 , Val accuracy 0.611\n",
            "Epoch 15/50: Training loss 0.023 , Val loss 0.023 , Training accuracy 0.609 , Val accuracy 0.612\n",
            "Epoch 16/50: Training loss 0.023 , Val loss 0.023 , Training accuracy 0.610 , Val accuracy 0.613\n",
            "best model saved\n",
            "Epoch    17: reducing learning rate of group 0 to 6.2500e-05.\n",
            "Epoch 17/50: Training loss 0.023 , Val loss 0.023 , Training accuracy 0.611 , Val accuracy 0.613\n",
            "best model saved\n",
            "Epoch 18/50: Training loss 0.023 , Val loss 0.023 , Training accuracy 0.610 , Val accuracy 0.612\n",
            "Epoch 19/50: Training loss 0.023 , Val loss 0.023 , Training accuracy 0.612 , Val accuracy 0.613\n",
            "best model saved\n",
            "Epoch 20/50: Training loss 0.023 , Val loss 0.023 , Training accuracy 0.611 , Val accuracy 0.613\n",
            "Epoch    21: reducing learning rate of group 0 to 3.1250e-05.\n",
            "Epoch 21/50: Training loss 0.023 , Val loss 0.023 , Training accuracy 0.611 , Val accuracy 0.613\n",
            "checkpoint model saved\n",
            "Epoch 22/50: Training loss 0.023 , Val loss 0.023 , Training accuracy 0.610 , Val accuracy 0.612\n",
            "Epoch 23/50: Training loss 0.023 , Val loss 0.023 , Training accuracy 0.612 , Val accuracy 0.614\n",
            "best model saved\n",
            "Epoch 24/50: Training loss 0.023 , Val loss 0.023 , Training accuracy 0.611 , Val accuracy 0.613\n",
            "Epoch    25: reducing learning rate of group 0 to 1.5625e-05.\n",
            "Epoch 25/50: Training loss 0.022 , Val loss 0.023 , Training accuracy 0.611 , Val accuracy 0.612\n",
            "Epoch 26/50: Training loss 0.023 , Val loss 0.023 , Training accuracy 0.611 , Val accuracy 0.612\n",
            "Epoch 27/50: Training loss 0.023 , Val loss 0.023 , Training accuracy 0.611 , Val accuracy 0.612\n",
            "Epoch 28/50: Training loss 0.023 , Val loss 0.023 , Training accuracy 0.611 , Val accuracy 0.613\n",
            "Epoch    29: reducing learning rate of group 0 to 7.8125e-06.\n",
            "Epoch 29/50: Training loss 0.023 , Val loss 0.023 , Training accuracy 0.611 , Val accuracy 0.613\n",
            "Epoch 30/50: Training loss 0.023 , Val loss 0.023 , Training accuracy 0.611 , Val accuracy 0.612\n",
            "Epoch 31/50: Training loss 0.022 , Val loss 0.022 , Training accuracy 0.611 , Val accuracy 0.612\n",
            "checkpoint model saved\n",
            "Epoch 32/50: Training loss 0.023 , Val loss 0.022 , Training accuracy 0.611 , Val accuracy 0.612\n",
            "Epoch    33: reducing learning rate of group 0 to 3.9063e-06.\n",
            "Epoch 33/50: Training loss 0.023 , Val loss 0.023 , Training accuracy 0.611 , Val accuracy 0.612\n",
            "Epoch 34/50: Training loss 0.023 , Val loss 0.023 , Training accuracy 0.611 , Val accuracy 0.612\n",
            "Epoch 35/50: Training loss 0.023 , Val loss 0.023 , Training accuracy 0.611 , Val accuracy 0.612\n",
            "Epoch 36/50: Training loss 0.023 , Val loss 0.022 , Training accuracy 0.611 , Val accuracy 0.612\n",
            "Epoch    37: reducing learning rate of group 0 to 1.9531e-06.\n",
            "Epoch 37/50: Training loss 0.022 , Val loss 0.022 , Training accuracy 0.611 , Val accuracy 0.612\n",
            "Epoch 38/50: Training loss 0.023 , Val loss 0.023 , Training accuracy 0.611 , Val accuracy 0.612\n",
            "Epoch 39/50: Training loss 0.023 , Val loss 0.023 , Training accuracy 0.611 , Val accuracy 0.612\n",
            "Epoch 40/50: Training loss 0.023 , Val loss 0.022 , Training accuracy 0.611 , Val accuracy 0.612\n",
            "Epoch    41: reducing learning rate of group 0 to 1.0000e-06.\n",
            "Epoch 41/50: Training loss 0.022 , Val loss 0.022 , Training accuracy 0.611 , Val accuracy 0.612\n",
            "checkpoint model saved\n",
            "Epoch 42/50: Training loss 0.023 , Val loss 0.023 , Training accuracy 0.611 , Val accuracy 0.612\n",
            "Epoch 43/50: Training loss 0.022 , Val loss 0.023 , Training accuracy 0.611 , Val accuracy 0.612\n",
            "Epoch 44/50: Training loss 0.023 , Val loss 0.022 , Training accuracy 0.612 , Val accuracy 0.612\n",
            "Epoch 45/50: Training loss 0.023 , Val loss 0.023 , Training accuracy 0.611 , Val accuracy 0.612\n",
            "Epoch 46/50: Training loss 0.023 , Val loss 0.023 , Training accuracy 0.611 , Val accuracy 0.612\n",
            "Epoch 47/50: Training loss 0.022 , Val loss 0.023 , Training accuracy 0.611 , Val accuracy 0.612\n",
            "Epoch 48/50: Training loss 0.022 , Val loss 0.022 , Training accuracy 0.612 , Val accuracy 0.612\n",
            "Epoch 49/50: Training loss 0.022 , Val loss 0.023 , Training accuracy 0.611 , Val accuracy 0.612\n",
            "Epoch 50/50: Training loss 0.023 , Val loss 0.023 , Training accuracy 0.611 , Val accuracy 0.612\n",
            "Best training accuracy is 0.6130902551700617\n",
            "Best val accuracy is 0.6137876157407407\n"
          ]
        }
      ],
      "source": [
        "model = AutoEncoder()\n",
        "batch_size = 64\n",
        "num_epochs = 50\n",
        "learning_rate = 0.001\n",
        "\n",
        "train(model, train_data, val_data, batch_size, num_epochs=num_epochs, learning_rate=learning_rate, plot = False)"
      ]
    },
    {
      "cell_type": "code",
      "source": [
        "model = AutoEncoder()\n",
        "batch_size = 32\n",
        "num_epochs = 50\n",
        "learning_rate = 0.005\n",
        "\n",
        "train(model, train_data, val_data, batch_size, num_epochs=num_epochs, learning_rate=learning_rate, plot = False)"
      ],
      "metadata": {
        "colab": {
          "base_uri": "https://localhost:8080/"
        },
        "id": "AdwbQ8YBHm_N",
        "outputId": "d10299e6-8a69-4928-a579-a6da173b8a94"
      },
      "execution_count": 106,
      "outputs": [
        {
          "output_type": "stream",
          "name": "stdout",
          "text": [
            "Epoch 1/50: Training loss 0.049 , Val loss 0.027 , Training accuracy 0.599 , Val accuracy 0.601\n",
            "best model saved\n",
            "checkpoint model saved\n",
            "Epoch 2/50: Training loss 0.025 , Val loss 0.023 , Training accuracy 0.576 , Val accuracy 0.578\n",
            "Epoch 3/50: Training loss 0.021 , Val loss 0.021 , Training accuracy 0.592 , Val accuracy 0.590\n",
            "Epoch 4/50: Training loss 0.020 , Val loss 0.019 , Training accuracy 0.606 , Val accuracy 0.605\n",
            "best model saved\n",
            "Epoch 5/50: Training loss 0.019 , Val loss 0.018 , Training accuracy 0.610 , Val accuracy 0.607\n",
            "best model saved\n",
            "Epoch     6: reducing learning rate of group 0 to 2.5000e-03.\n",
            "Epoch 6/50: Training loss 0.017 , Val loss 0.017 , Training accuracy 0.606 , Val accuracy 0.607\n",
            "Epoch 7/50: Training loss 0.016 , Val loss 0.016 , Training accuracy 0.623 , Val accuracy 0.622\n",
            "best model saved\n",
            "Epoch 8/50: Training loss 0.015 , Val loss 0.016 , Training accuracy 0.619 , Val accuracy 0.621\n",
            "Epoch 9/50: Training loss 0.015 , Val loss 0.015 , Training accuracy 0.615 , Val accuracy 0.616\n",
            "Epoch    10: reducing learning rate of group 0 to 1.2500e-03.\n",
            "Epoch 10/50: Training loss 0.015 , Val loss 0.015 , Training accuracy 0.629 , Val accuracy 0.633\n",
            "best model saved\n",
            "Epoch 11/50: Training loss 0.015 , Val loss 0.014 , Training accuracy 0.647 , Val accuracy 0.648\n",
            "best model saved\n",
            "checkpoint model saved\n",
            "Epoch 12/50: Training loss 0.014 , Val loss 0.015 , Training accuracy 0.645 , Val accuracy 0.647\n",
            "Epoch 13/50: Training loss 0.014 , Val loss 0.014 , Training accuracy 0.649 , Val accuracy 0.650\n",
            "best model saved\n",
            "Epoch    14: reducing learning rate of group 0 to 6.2500e-04.\n",
            "Epoch 14/50: Training loss 0.014 , Val loss 0.014 , Training accuracy 0.652 , Val accuracy 0.653\n",
            "best model saved\n",
            "Epoch 15/50: Training loss 0.014 , Val loss 0.014 , Training accuracy 0.654 , Val accuracy 0.655\n",
            "best model saved\n",
            "Epoch 16/50: Training loss 0.014 , Val loss 0.014 , Training accuracy 0.656 , Val accuracy 0.656\n",
            "best model saved\n",
            "Epoch 17/50: Training loss 0.014 , Val loss 0.014 , Training accuracy 0.656 , Val accuracy 0.657\n",
            "best model saved\n",
            "Epoch    18: reducing learning rate of group 0 to 3.1250e-04.\n",
            "Epoch 18/50: Training loss 0.014 , Val loss 0.013 , Training accuracy 0.666 , Val accuracy 0.665\n",
            "best model saved\n",
            "Epoch 19/50: Training loss 0.014 , Val loss 0.014 , Training accuracy 0.664 , Val accuracy 0.664\n",
            "Epoch 20/50: Training loss 0.013 , Val loss 0.013 , Training accuracy 0.666 , Val accuracy 0.667\n",
            "best model saved\n",
            "Epoch 21/50: Training loss 0.014 , Val loss 0.013 , Training accuracy 0.654 , Val accuracy 0.656\n",
            "checkpoint model saved\n",
            "Epoch    22: reducing learning rate of group 0 to 1.5625e-04.\n",
            "Epoch 22/50: Training loss 0.014 , Val loss 0.013 , Training accuracy 0.668 , Val accuracy 0.668\n",
            "best model saved\n",
            "Epoch 23/50: Training loss 0.013 , Val loss 0.013 , Training accuracy 0.668 , Val accuracy 0.668\n",
            "Epoch 24/50: Training loss 0.013 , Val loss 0.014 , Training accuracy 0.668 , Val accuracy 0.669\n",
            "best model saved\n",
            "Epoch 25/50: Training loss 0.013 , Val loss 0.014 , Training accuracy 0.668 , Val accuracy 0.668\n",
            "Epoch    26: reducing learning rate of group 0 to 7.8125e-05.\n",
            "Epoch 26/50: Training loss 0.013 , Val loss 0.013 , Training accuracy 0.668 , Val accuracy 0.669\n",
            "best model saved\n",
            "Epoch 27/50: Training loss 0.013 , Val loss 0.013 , Training accuracy 0.669 , Val accuracy 0.669\n",
            "best model saved\n",
            "Epoch 28/50: Training loss 0.014 , Val loss 0.014 , Training accuracy 0.670 , Val accuracy 0.670\n",
            "best model saved\n",
            "Epoch 29/50: Training loss 0.013 , Val loss 0.014 , Training accuracy 0.667 , Val accuracy 0.669\n",
            "Epoch    30: reducing learning rate of group 0 to 3.9063e-05.\n",
            "Epoch 30/50: Training loss 0.014 , Val loss 0.013 , Training accuracy 0.668 , Val accuracy 0.667\n",
            "Epoch 31/50: Training loss 0.013 , Val loss 0.013 , Training accuracy 0.670 , Val accuracy 0.670\n",
            "best model saved\n",
            "checkpoint model saved\n",
            "Epoch 32/50: Training loss 0.013 , Val loss 0.014 , Training accuracy 0.671 , Val accuracy 0.671\n",
            "best model saved\n",
            "Epoch 33/50: Training loss 0.014 , Val loss 0.013 , Training accuracy 0.670 , Val accuracy 0.670\n",
            "Epoch    34: reducing learning rate of group 0 to 1.9531e-05.\n",
            "Epoch 34/50: Training loss 0.013 , Val loss 0.014 , Training accuracy 0.671 , Val accuracy 0.672\n",
            "best model saved\n",
            "Epoch 35/50: Training loss 0.013 , Val loss 0.014 , Training accuracy 0.670 , Val accuracy 0.670\n",
            "Epoch 36/50: Training loss 0.013 , Val loss 0.014 , Training accuracy 0.670 , Val accuracy 0.671\n",
            "Epoch 37/50: Training loss 0.013 , Val loss 0.013 , Training accuracy 0.670 , Val accuracy 0.671\n",
            "Epoch    38: reducing learning rate of group 0 to 9.7656e-06.\n",
            "Epoch 38/50: Training loss 0.013 , Val loss 0.013 , Training accuracy 0.670 , Val accuracy 0.671\n",
            "Epoch 39/50: Training loss 0.013 , Val loss 0.013 , Training accuracy 0.670 , Val accuracy 0.671\n",
            "Epoch 40/50: Training loss 0.013 , Val loss 0.013 , Training accuracy 0.670 , Val accuracy 0.671\n",
            "Epoch 41/50: Training loss 0.013 , Val loss 0.013 , Training accuracy 0.671 , Val accuracy 0.671\n",
            "checkpoint model saved\n",
            "Epoch    42: reducing learning rate of group 0 to 4.8828e-06.\n",
            "Epoch 42/50: Training loss 0.013 , Val loss 0.013 , Training accuracy 0.671 , Val accuracy 0.671\n",
            "Epoch 43/50: Training loss 0.013 , Val loss 0.013 , Training accuracy 0.671 , Val accuracy 0.672\n",
            "best model saved\n",
            "Epoch 44/50: Training loss 0.013 , Val loss 0.013 , Training accuracy 0.671 , Val accuracy 0.672\n",
            "best model saved\n",
            "Epoch 45/50: Training loss 0.013 , Val loss 0.013 , Training accuracy 0.671 , Val accuracy 0.672\n",
            "best model saved\n",
            "Epoch    46: reducing learning rate of group 0 to 2.4414e-06.\n",
            "Epoch 46/50: Training loss 0.013 , Val loss 0.013 , Training accuracy 0.671 , Val accuracy 0.672\n",
            "Epoch 47/50: Training loss 0.013 , Val loss 0.013 , Training accuracy 0.671 , Val accuracy 0.672\n",
            "Epoch 48/50: Training loss 0.013 , Val loss 0.013 , Training accuracy 0.671 , Val accuracy 0.671\n",
            "Epoch 49/50: Training loss 0.013 , Val loss 0.013 , Training accuracy 0.671 , Val accuracy 0.672\n",
            "Epoch    50: reducing learning rate of group 0 to 1.2207e-06.\n",
            "Epoch 50/50: Training loss 0.013 , Val loss 0.013 , Training accuracy 0.671 , Val accuracy 0.672\n",
            "Best training accuracy is 0.6708910798995442\n",
            "Best val accuracy is 0.6720558449074074\n"
          ]
        }
      ]
    },
    {
      "cell_type": "code",
      "source": [
        "model = AutoEncoder()\n",
        "batch_size = 64\n",
        "num_epochs = 50\n",
        "learning_rate = 0.005\n",
        "\n",
        "train(model, train_data, val_data, batch_size, num_epochs=num_epochs, learning_rate=learning_rate, plot = False)"
      ],
      "metadata": {
        "colab": {
          "base_uri": "https://localhost:8080/"
        },
        "id": "G97k0l7bHqTx",
        "outputId": "976a685d-6807-4520-c498-b562ba54ab32"
      },
      "execution_count": 107,
      "outputs": [
        {
          "output_type": "stream",
          "name": "stdout",
          "text": [
            "Epoch 1/50: Training loss 0.063 , Val loss 0.040 , Training accuracy 0.595 , Val accuracy 0.598\n",
            "best model saved\n",
            "checkpoint model saved\n",
            "Epoch 2/50: Training loss 0.032 , Val loss 0.027 , Training accuracy 0.581 , Val accuracy 0.583\n",
            "Epoch 3/50: Training loss 0.026 , Val loss 0.024 , Training accuracy 0.593 , Val accuracy 0.595\n",
            "Epoch 4/50: Training loss 0.023 , Val loss 0.022 , Training accuracy 0.593 , Val accuracy 0.594\n",
            "Epoch 5/50: Training loss 0.022 , Val loss 0.021 , Training accuracy 0.597 , Val accuracy 0.599\n",
            "best model saved\n",
            "Epoch     6: reducing learning rate of group 0 to 2.5000e-03.\n",
            "Epoch 6/50: Training loss 0.021 , Val loss 0.021 , Training accuracy 0.595 , Val accuracy 0.598\n",
            "Epoch 7/50: Training loss 0.020 , Val loss 0.019 , Training accuracy 0.611 , Val accuracy 0.613\n",
            "best model saved\n",
            "Epoch 8/50: Training loss 0.019 , Val loss 0.019 , Training accuracy 0.612 , Val accuracy 0.614\n",
            "best model saved\n",
            "Epoch 9/50: Training loss 0.019 , Val loss 0.018 , Training accuracy 0.613 , Val accuracy 0.617\n",
            "best model saved\n",
            "Epoch    10: reducing learning rate of group 0 to 1.2500e-03.\n",
            "Epoch 10/50: Training loss 0.019 , Val loss 0.018 , Training accuracy 0.616 , Val accuracy 0.618\n",
            "best model saved\n",
            "Epoch 11/50: Training loss 0.018 , Val loss 0.017 , Training accuracy 0.619 , Val accuracy 0.621\n",
            "best model saved\n",
            "checkpoint model saved\n",
            "Epoch 12/50: Training loss 0.018 , Val loss 0.018 , Training accuracy 0.620 , Val accuracy 0.623\n",
            "best model saved\n",
            "Epoch 13/50: Training loss 0.017 , Val loss 0.017 , Training accuracy 0.619 , Val accuracy 0.621\n",
            "Epoch    14: reducing learning rate of group 0 to 6.2500e-04.\n",
            "Epoch 14/50: Training loss 0.017 , Val loss 0.018 , Training accuracy 0.620 , Val accuracy 0.623\n",
            "best model saved\n",
            "Epoch 15/50: Training loss 0.017 , Val loss 0.016 , Training accuracy 0.620 , Val accuracy 0.622\n",
            "Epoch 16/50: Training loss 0.017 , Val loss 0.017 , Training accuracy 0.621 , Val accuracy 0.624\n",
            "best model saved\n",
            "Epoch 17/50: Training loss 0.017 , Val loss 0.017 , Training accuracy 0.626 , Val accuracy 0.628\n",
            "best model saved\n",
            "Epoch    18: reducing learning rate of group 0 to 3.1250e-04.\n",
            "Epoch 18/50: Training loss 0.017 , Val loss 0.017 , Training accuracy 0.626 , Val accuracy 0.629\n",
            "best model saved\n",
            "Epoch 19/50: Training loss 0.017 , Val loss 0.016 , Training accuracy 0.628 , Val accuracy 0.631\n",
            "best model saved\n",
            "Epoch 20/50: Training loss 0.017 , Val loss 0.017 , Training accuracy 0.629 , Val accuracy 0.631\n",
            "best model saved\n",
            "Epoch 21/50: Training loss 0.017 , Val loss 0.017 , Training accuracy 0.627 , Val accuracy 0.629\n",
            "checkpoint model saved\n",
            "Epoch    22: reducing learning rate of group 0 to 1.5625e-04.\n",
            "Epoch 22/50: Training loss 0.017 , Val loss 0.016 , Training accuracy 0.627 , Val accuracy 0.628\n",
            "Epoch 23/50: Training loss 0.017 , Val loss 0.017 , Training accuracy 0.629 , Val accuracy 0.631\n",
            "Epoch 24/50: Training loss 0.016 , Val loss 0.017 , Training accuracy 0.629 , Val accuracy 0.630\n",
            "Epoch 25/50: Training loss 0.016 , Val loss 0.017 , Training accuracy 0.630 , Val accuracy 0.631\n",
            "best model saved\n",
            "Epoch    26: reducing learning rate of group 0 to 7.8125e-05.\n",
            "Epoch 26/50: Training loss 0.016 , Val loss 0.017 , Training accuracy 0.630 , Val accuracy 0.633\n",
            "best model saved\n",
            "Epoch 27/50: Training loss 0.017 , Val loss 0.016 , Training accuracy 0.631 , Val accuracy 0.633\n",
            "best model saved\n",
            "Epoch 28/50: Training loss 0.017 , Val loss 0.016 , Training accuracy 0.631 , Val accuracy 0.633\n",
            "best model saved\n",
            "Epoch 29/50: Training loss 0.016 , Val loss 0.017 , Training accuracy 0.632 , Val accuracy 0.633\n",
            "Epoch    30: reducing learning rate of group 0 to 3.9063e-05.\n",
            "Epoch 30/50: Training loss 0.017 , Val loss 0.017 , Training accuracy 0.630 , Val accuracy 0.632\n",
            "Epoch 31/50: Training loss 0.016 , Val loss 0.016 , Training accuracy 0.631 , Val accuracy 0.632\n",
            "checkpoint model saved\n",
            "Epoch 32/50: Training loss 0.017 , Val loss 0.016 , Training accuracy 0.631 , Val accuracy 0.632\n",
            "Epoch 33/50: Training loss 0.016 , Val loss 0.016 , Training accuracy 0.630 , Val accuracy 0.631\n",
            "Epoch    34: reducing learning rate of group 0 to 1.9531e-05.\n",
            "Epoch 34/50: Training loss 0.016 , Val loss 0.017 , Training accuracy 0.631 , Val accuracy 0.633\n",
            "Epoch 35/50: Training loss 0.017 , Val loss 0.017 , Training accuracy 0.631 , Val accuracy 0.633\n",
            "Epoch 36/50: Training loss 0.016 , Val loss 0.016 , Training accuracy 0.631 , Val accuracy 0.633\n",
            "Epoch 37/50: Training loss 0.016 , Val loss 0.017 , Training accuracy 0.631 , Val accuracy 0.634\n",
            "best model saved\n",
            "Epoch    38: reducing learning rate of group 0 to 9.7656e-06.\n",
            "Epoch 38/50: Training loss 0.016 , Val loss 0.016 , Training accuracy 0.631 , Val accuracy 0.633\n",
            "Epoch 39/50: Training loss 0.016 , Val loss 0.017 , Training accuracy 0.631 , Val accuracy 0.632\n",
            "Epoch 40/50: Training loss 0.016 , Val loss 0.016 , Training accuracy 0.631 , Val accuracy 0.633\n",
            "Epoch 41/50: Training loss 0.016 , Val loss 0.016 , Training accuracy 0.631 , Val accuracy 0.633\n",
            "checkpoint model saved\n",
            "Epoch    42: reducing learning rate of group 0 to 4.8828e-06.\n",
            "Epoch 42/50: Training loss 0.016 , Val loss 0.017 , Training accuracy 0.631 , Val accuracy 0.632\n",
            "Epoch 43/50: Training loss 0.016 , Val loss 0.016 , Training accuracy 0.632 , Val accuracy 0.633\n",
            "Epoch 44/50: Training loss 0.016 , Val loss 0.017 , Training accuracy 0.632 , Val accuracy 0.633\n",
            "Epoch 45/50: Training loss 0.016 , Val loss 0.016 , Training accuracy 0.631 , Val accuracy 0.633\n",
            "Epoch    46: reducing learning rate of group 0 to 2.4414e-06.\n",
            "Epoch 46/50: Training loss 0.017 , Val loss 0.017 , Training accuracy 0.631 , Val accuracy 0.633\n",
            "Epoch 47/50: Training loss 0.017 , Val loss 0.017 , Training accuracy 0.631 , Val accuracy 0.633\n",
            "Epoch 48/50: Training loss 0.016 , Val loss 0.017 , Training accuracy 0.631 , Val accuracy 0.633\n",
            "Epoch 49/50: Training loss 0.016 , Val loss 0.017 , Training accuracy 0.632 , Val accuracy 0.633\n",
            "Epoch    50: reducing learning rate of group 0 to 1.2207e-06.\n",
            "Epoch 50/50: Training loss 0.016 , Val loss 0.017 , Training accuracy 0.631 , Val accuracy 0.633\n",
            "Best training accuracy is 0.6317474343471925\n",
            "Best val accuracy is 0.6335358796296297\n"
          ]
        }
      ]
    },
    {
      "cell_type": "markdown",
      "metadata": {
        "id": "ymCsZH291prI"
      },
      "source": [
        "## Part 4. Testing [12 pt]\n",
        "\n",
        "### Part (a) [2 pt]\n",
        "\n",
        "Compute and report the test accuracy."
      ]
    },
    {
      "cell_type": "markdown",
      "source": [
        "Given that the best performance is achieved with batch size of 32 and learning rate of 0.005, we use the best model from there."
      ],
      "metadata": {
        "id": "i2kgMHuZKqp7"
      }
    },
    {
      "cell_type": "code",
      "execution_count": 109,
      "metadata": {
        "colab": {
          "base_uri": "https://localhost:8080/"
        },
        "collapsed": true,
        "id": "0OkSbup91prJ",
        "jupyter": {
          "outputs_hidden": true
        },
        "outputId": "2ccc8ebd-2a8c-47c7-feb0-41ffcb8ffd34"
      },
      "outputs": [
        {
          "output_type": "stream",
          "name": "stdout",
          "text": [
            "The test accuracy is 67.19%\n"
          ]
        }
      ],
      "source": [
        "model = AutoEncoder()\n",
        "model.load_state_dict(torch.load(\"/content/backup/model_AutoEncoder_bs32_lr0.005_epochs50/best.pth\"))\n",
        "\n",
        "test_loader= torch.utils.data.DataLoader(test_data, batch_size= 1, shuffle= True)\n",
        "\n",
        "test_acc= get_accuracy(model, test_loader)\n",
        "\n",
        "print(f'The test accuracy is {(test_acc * 100):.2f}%')"
      ]
    },
    {
      "cell_type": "markdown",
      "metadata": {
        "id": "UEe9yt6L1prM"
      },
      "source": [
        "### Part (b) [4 pt]\n",
        "\n",
        "Based on the test accuracy alone, it is difficult to assess whether our model\n",
        "is actually performing well. We don't know whether a high accuracy is due to\n",
        "the simplicity of the problem, or if a poor accuracy is a result of the inherent\n",
        "difficulty of the problem.\n",
        "\n",
        "It is therefore very important to be able to compare our model to at least one\n",
        "alternative. In particular, we consider a simple **baseline**\n",
        "model that is not very computationally expensive. Our neural network\n",
        "should at least outperform this baseline model. If our network is not much\n",
        "better than the baseline, then it is not doing well.\n",
        "\n",
        "For our data imputation problem, consider the following baseline model:\n",
        "to predict a missing feature, the baseline model will look at the **most common value** of the feature in the training set. \n",
        "\n",
        "For example, if the feature \"marriage\" is missing, then this model's prediction will be the most common value for \"marriage\" in the training set, which happens to be \"Married-civ-spouse\".\n",
        "\n",
        "What would be the test accuracy of this baseline model?\n"
      ]
    },
    {
      "cell_type": "code",
      "execution_count": 142,
      "metadata": {
        "colab": {
          "base_uri": "https://localhost:8080/"
        },
        "collapsed": true,
        "id": "p45VHp011prN",
        "jupyter": {
          "outputs_hidden": true
        },
        "outputId": "8eb4775b-386d-4e0a-d76b-cbbc86286c02"
      },
      "outputs": [
        {
          "output_type": "stream",
          "name": "stdout",
          "text": [
            "Accuracy for category age is 2.85%\n",
            "Accuracy for category yredu is 32.45%\n",
            "Accuracy for category capgain is 91.57%\n",
            "Accuracy for category caploss is 95.24%\n",
            "Accuracy for category workhr is 47.28%\n",
            "Accuracy for category work is 73.89%\n",
            "Accuracy for category marriage is 46.68%\n",
            "Accuracy for category occupation is 13.48%\n",
            "Accuracy for category edu is 32.45%\n",
            "Accuracy for category relationship is 41.36%\n",
            "Accuracy for category sex is 67.67%\n",
            "The accuracy for baseline model is 49.54%\n"
          ]
        }
      ],
      "source": [
        "mode = {}\n",
        "accuracy = 0.0\n",
        "\n",
        "for col in df_not_missing.columns:\n",
        "  mode[col] = df_not_missing[col].mode()[0] # get the most common value for each column\n",
        "  accuracy_col = sum(df_not_missing[col] == mode[col])/len(df_not_missing)\n",
        "  print (f\"Accuracy for category {col} is {accuracy_col*100:.2f}%\")\n",
        "  accuracy += accuracy_col\n",
        "print(f\"The accuracy for baseline model is {accuracy*100/len(df_not_missing.columns):.2f}%\")"
      ]
    },
    {
      "cell_type": "markdown",
      "metadata": {
        "id": "QlHu0wxh1prP"
      },
      "source": [
        "### Part (c) [1 pt]\n",
        "\n",
        "How does your test accuracy from part (a) compared to your basline test accuracy in part (b)?"
      ]
    },
    {
      "cell_type": "markdown",
      "source": [
        "The accuracy in part(a) is much better than part(b). This could be because our Neural Net learns to predict based on the features presented, whereas the baseline just uses the mode of the column. However, it could be that our dataset is skewed towards certain values and the autoencoder is predicting only for some categories but not for others as some columns do see a high accuracy by using the mode value."
      ],
      "metadata": {
        "id": "W4Jimhu5N_EQ"
      }
    },
    {
      "cell_type": "markdown",
      "metadata": {
        "id": "DfQPgu1Q1prS"
      },
      "source": [
        "### Part (d) [1 pt]\n",
        "\n",
        "Look at the first item in your test data. \n",
        "Do you think it is reasonable for a human\n",
        "to be able to guess this person's education level\n",
        "based on their other features? Explain."
      ]
    },
    {
      "cell_type": "code",
      "execution_count": 125,
      "metadata": {
        "colab": {
          "base_uri": "https://localhost:8080/"
        },
        "collapsed": true,
        "id": "3qbQ1vvT1prT",
        "jupyter": {
          "outputs_hidden": true
        },
        "outputId": "a633700d-c57a-4bbf-d326-60694dac7edb"
      },
      "outputs": [
        {
          "output_type": "execute_result",
          "data": {
            "text/plain": [
              "{'edu': '11th',\n",
              " 'marriage': 'Divorced',\n",
              " 'occupation': 'Other-service',\n",
              " 'relationship': 'Unmarried',\n",
              " 'sex': 'Female',\n",
              " 'work': 'Private'}"
            ]
          },
          "metadata": {},
          "execution_count": 125
        }
      ],
      "source": [
        "get_features(test_data[0])"
      ]
    },
    {
      "cell_type": "markdown",
      "source": [
        "A human may not be able to guess this person's education level, as this is a very generic profile that does not disclose much. A common guess for edu would be high school or bachelor's, but not 11th. "
      ],
      "metadata": {
        "id": "iajlcq53PZQl"
      }
    },
    {
      "cell_type": "markdown",
      "metadata": {
        "id": "p_d5uuAY1prZ"
      },
      "source": [
        "### Part (e) [2 pt]\n",
        "\n",
        "What is your model's prediction of this person's education\n",
        "level, given their other features?\n"
      ]
    },
    {
      "cell_type": "code",
      "execution_count": 143,
      "metadata": {
        "colab": {
          "base_uri": "https://localhost:8080/"
        },
        "collapsed": true,
        "id": "kBY5gKXR1pra",
        "jupyter": {
          "outputs_hidden": true
        },
        "outputId": "a5551b13-a973-4ebe-f094-7bf17bb73739"
      },
      "outputs": [
        {
          "output_type": "stream",
          "name": "stdout",
          "text": [
            "HS-grad\n"
          ]
        }
      ],
      "source": [
        "#the model is already loaded from testing.\n",
        "single_test_data = test_data[0]\n",
        "single_test_data[cat_index['edu']:cat_index['edu'] + len(cat_values['edu'])] = 0\n",
        "single_test_data = torch.from_numpy(single_test_data).to(device)  \n",
        "pred = model(single_test_data)\n",
        "pred = pred.detach().cpu().numpy()\n",
        "pred_edu = get_feature(pred, \"edu\")\n",
        "print(pred_edu)"
      ]
    },
    {
      "cell_type": "markdown",
      "metadata": {
        "id": "fdLNA0ce1prd"
      },
      "source": [
        "### Part (f) [2 pt]\n",
        "\n",
        "What is the baseline model's prediction\n",
        "of this person's education level?"
      ]
    },
    {
      "cell_type": "code",
      "execution_count": 144,
      "metadata": {
        "colab": {
          "base_uri": "https://localhost:8080/"
        },
        "collapsed": true,
        "id": "TXgoM9qk1prd",
        "jupyter": {
          "outputs_hidden": true
        },
        "outputId": "6bcd3d39-7399-4780-d172-b062eeacc8ea"
      },
      "outputs": [
        {
          "output_type": "stream",
          "name": "stdout",
          "text": [
            " HS-grad\n"
          ]
        }
      ],
      "source": [
        "print(mode['edu'])"
      ]
    }
  ],
  "metadata": {
    "colab": {
      "collapsed_sections": [
        "HwjDg1uM1pqe",
        "OEJ0Ci3l1pqh",
        "1_5ZZR_J1pqy",
        "WKk01pwx1pq_",
        "SxCTlXoV1prB",
        "h9xTwIf51prF",
        "UEe9yt6L1prM",
        "QlHu0wxh1prP",
        "DfQPgu1Q1prS",
        "p_d5uuAY1prZ",
        "fdLNA0ce1prd"
      ],
      "name": "Lab_4_Data_Imputation_Winter_2022.ipynb",
      "provenance": []
    },
    "kernelspec": {
      "display_name": "Python 3 (ipykernel)",
      "language": "python",
      "name": "python3"
    },
    "language_info": {
      "codemirror_mode": {
        "name": "ipython",
        "version": 3
      },
      "file_extension": ".py",
      "mimetype": "text/x-python",
      "name": "python",
      "nbconvert_exporter": "python",
      "pygments_lexer": "ipython3",
      "version": "3.9.4"
    },
    "accelerator": "GPU"
  },
  "nbformat": 4,
  "nbformat_minor": 0
}
