{
  "cells": [
    {
      "cell_type": "markdown",
      "metadata": {
        "id": "_bphECiUa9zw"
      },
      "source": [
        "# Lab 5: Spam Detection\n",
        "\n",
        "**Deadline**: Monday, Mar 14, 5:00 PM\n",
        "\n",
        "**Late Penalty**: Any work that is submitted between 0 hour and 24 hours past the deadline will receive a 20% grade deduction. No other late work is accepted. Quercus submission time will be used, not your local computer time. You can submit your labs as many times as you want before the deadline, so please submit often and early.\n",
        "\n",
        "**TA**: Hossein Yousefi <hossein.yousefi@mail.utoronto.ca>\n",
        "\n",
        "In this assignment, we will build a recurrent neural network to classify a SMS text message\n",
        "as \"spam\" or \"not spam\". In the process, you will\n",
        "    \n",
        "1. Clean and process text data for machine learning.\n",
        "2. Understand and implement a character-level recurrent neural network.\n",
        "3. Use torchtext to build recurrent neural network models.\n",
        "4. Understand batching for a recurrent neural network, and use torchtext to implement RNN batching.\n",
        "\n",
        "### What to submit\n",
        "\n",
        "Submit a PDF file containing all your code, outputs, and write-up. You can produce a PDF of your Google Colab file by going to File > Print and then save as PDF. The Colab instructions have more information (.html files are also acceptable).\n",
        "\n",
        "Do not submit any other files produced by your code.\n",
        "\n",
        "Include a link to your colab file in your submission."
      ]
    },
    {
      "cell_type": "markdown",
      "metadata": {
        "id": "rWiUqJJTa9z6"
      },
      "source": [
        "## Colab Link\n",
        "\n",
        "Include a link to your Colab file here. If you would like the TA to look at your\n",
        "Colab file in case your solutions are cut off, **please make sure that your Colab\n",
        "file is publicly accessible at the time of submission**.\n",
        "\n",
        "Colab Link: https://colab.research.google.com/drive/1BYR00UOS3nEUMWShfs3fHK3jOJR3r7eU?usp=sharing"
      ]
    },
    {
      "cell_type": "markdown",
      "source": [
        "#Aritejh KR Goil, 1008682971"
      ],
      "metadata": {
        "id": "Zple6yIOSoUY"
      }
    },
    {
      "cell_type": "code",
      "execution_count": null,
      "metadata": {
        "collapsed": true,
        "id": "HgfNOUaPa9z8",
        "jupyter": {
          "outputs_hidden": true
        }
      },
      "outputs": [],
      "source": [
        "import torch\n",
        "import torch.nn as nn\n",
        "import torch.nn.functional as F\n",
        "import torch.optim as optim\n",
        "import numpy as np"
      ]
    },
    {
      "cell_type": "markdown",
      "metadata": {
        "id": "M0jLI9LBa90C"
      },
      "source": [
        "## Part 1. Data Cleaning [15 pt]\n",
        "\n",
        "We will be using the \"SMS Spam Collection Data Set\" available at http://archive.ics.uci.edu/ml/datasets/SMS+Spam+Collection\n",
        "\n",
        "There is a link to download the \"Data Folder\" at the very top of the webpage. Download the zip file, unzip it, and upload the file `SMSSpamCollection` to Colab.    "
      ]
    },
    {
      "cell_type": "code",
      "source": [
        "!wget http://archive.ics.uci.edu/ml/machine-learning-databases/00228/smsspamcollection.zip"
      ],
      "metadata": {
        "colab": {
          "base_uri": "https://localhost:8080/"
        },
        "id": "HIsghI2KutLl",
        "outputId": "2c1de0af-bc50-445d-9f22-07a6eab10cd6"
      },
      "execution_count": null,
      "outputs": [
        {
          "output_type": "stream",
          "name": "stdout",
          "text": [
            "--2022-03-10 18:49:11--  http://archive.ics.uci.edu/ml/machine-learning-databases/00228/smsspamcollection.zip\n",
            "Resolving archive.ics.uci.edu (archive.ics.uci.edu)... 128.195.10.252\n",
            "Connecting to archive.ics.uci.edu (archive.ics.uci.edu)|128.195.10.252|:80... connected.\n",
            "HTTP request sent, awaiting response... 200 OK\n",
            "Length: 203415 (199K) [application/x-httpd-php]\n",
            "Saving to: ‘smsspamcollection.zip’\n",
            "\n",
            "smsspamcollection.z 100%[===================>] 198.65K  1.18MB/s    in 0.2s    \n",
            "\n",
            "2022-03-10 18:49:11 (1.18 MB/s) - ‘smsspamcollection.zip’ saved [203415/203415]\n",
            "\n"
          ]
        }
      ]
    },
    {
      "cell_type": "code",
      "source": [
        "!unzip /content/smsspamcollection.zip"
      ],
      "metadata": {
        "colab": {
          "base_uri": "https://localhost:8080/"
        },
        "id": "_A2z_7kTvGY1",
        "outputId": "b58251ab-515b-4dcf-f2b5-9a6f34b033ec"
      },
      "execution_count": null,
      "outputs": [
        {
          "output_type": "stream",
          "name": "stdout",
          "text": [
            "Archive:  /content/smsspamcollection.zip\n",
            "  inflating: SMSSpamCollection       \n",
            "  inflating: readme                  \n"
          ]
        }
      ]
    },
    {
      "cell_type": "markdown",
      "metadata": {
        "id": "sSuF7C_Ga90E"
      },
      "source": [
        "### Part (a) [2 pt]\n",
        "\n",
        "Open up the file in Python, and print out one example of a spam SMS, and one example of a non-spam SMS.\n",
        "\n",
        "What is the label value for a spam message, and what is the label value for a non-spam message?"
      ]
    },
    {
      "cell_type": "markdown",
      "source": [
        "According to the readme, label value for spam is 'spam' and label for non-spam message is 'ham'."
      ],
      "metadata": {
        "id": "p4LmbLdXzTiU"
      }
    },
    {
      "cell_type": "code",
      "execution_count": null,
      "metadata": {
        "colab": {
          "base_uri": "https://localhost:8080/"
        },
        "id": "I_IfXHeTa90F",
        "jupyter": {
          "outputs_hidden": true
        },
        "outputId": "dfc5616f-36ff-4e03-fe83-96aa426d90ac"
      },
      "outputs": [
        {
          "output_type": "stream",
          "name": "stdout",
          "text": [
            "spam example: Free entry in 2 a wkly comp to win FA Cup final tkts 21st May 2005. Text FA to 87121 to receive entry question(std txt rate)T&C's apply 08452810075over18's\n",
            "non-spam example: U dun say so early hor... U c already then say...\n"
          ]
        }
      ],
      "source": [
        "import csv\n",
        "smsfile = open('SMSSpamCollection')\n",
        "sms = csv.reader(smsfile, delimiter = \"\\t\")\n",
        "for line in sms: \n",
        "  if line[0] == 'spam':\n",
        "    print (f\"spam example: {line[1]}\")\n",
        "    break\n",
        "for line in sms: \n",
        "  if line[0] == 'ham':\n",
        "    print (f\"non-spam example: {line[1]}\")\n",
        "    break"
      ]
    },
    {
      "cell_type": "markdown",
      "metadata": {
        "id": "AukA6vMVa90d"
      },
      "source": [
        "### Part (b) [1 pt]\n",
        "\n",
        "How many spam messages are there in the data set?\n",
        "How many non-spam messages are there in the data set?\n"
      ]
    },
    {
      "cell_type": "code",
      "execution_count": null,
      "metadata": {
        "colab": {
          "base_uri": "https://localhost:8080/"
        },
        "id": "LgsqyemVa90e",
        "jupyter": {
          "outputs_hidden": true
        },
        "outputId": "cf772cf4-9500-4a40-d7fc-3ec191d133a3"
      },
      "outputs": [
        {
          "output_type": "stream",
          "name": "stdout",
          "text": [
            "there are 746 spam messages and 4822 non-spam messages\n"
          ]
        }
      ],
      "source": [
        "spam, ham = 0,0\n",
        "\n",
        "for line in sms:\n",
        "  if line[0] == 'spam':\n",
        "    spam += 1\n",
        "  else:\n",
        "    ham +=1\n",
        "\n",
        "print(f\"there are {spam} spam messages and {ham} non-spam messages\")"
      ]
    },
    {
      "cell_type": "markdown",
      "metadata": {
        "id": "d1WXxVt6a90h"
      },
      "source": [
        "### Part (c) [4 pt]\n",
        "\n",
        "We will be using the package `torchtext` to load, process, and batch the data.\n",
        "A tutorial to torchtext is available below. This tutorial uses the same\n",
        "Sentiment140 data set that we explored during lecture.\n",
        "\n",
        "https://medium.com/@sonicboom8/sentiment-analysis-torchtext-55fb57b1fab8\n",
        "\n",
        "Unlike what we did during lecture, we will be building a **character level RNN**.\n",
        "That is, we will treat each **character** as a token in our sequence,\n",
        "rather than each **word**.\n",
        "\n",
        "Identify two advantage and two disadvantage of modelling SMS text\n",
        "messages as a sequence of characters rather than a sequence of words."
      ]
    },
    {
      "cell_type": "markdown",
      "source": [
        "Two advantages of modelling SMS as a sequence of characters is the ability to work with misspelled words and a smaller vocabulary. Two disadvantages would be the additional complexity due to increased numbers of tokens, making it more complex, and the lowered accuracy."
      ],
      "metadata": {
        "id": "CT6HxL6O0-YR"
      }
    },
    {
      "cell_type": "markdown",
      "metadata": {
        "id": "ie_D0bv9a90k"
      },
      "source": [
        "### Part (d) [1 pt]\n",
        "\n",
        "We will be loading our data set using `torchtext.data.TabularDataset`. The\n",
        "constructor will read directly from the `SMSSpamCollection` file. \n",
        "\n",
        "For the data file to be read successfuly, we\n",
        "need to specify the **fields** (columns) in the file. \n",
        "In our case, the dataset has two fields: \n",
        "\n",
        "- a text field containing the sms messages,\n",
        "- a label field which will be converted into a binary label.\n",
        "\n",
        "Split the dataset into `train`, `valid`, and `test`. Use a 60-20-20 split.\n",
        "You may find this torchtext API page helpful:\n",
        "https://torchtext.readthedocs.io/en/latest/data.html#dataset\n",
        "\n",
        "Hint: There is a `Dataset` method that can perform the random split for you."
      ]
    },
    {
      "cell_type": "code",
      "execution_count": null,
      "metadata": {
        "colab": {
          "base_uri": "https://localhost:8080/"
        },
        "id": "P_Y6Puz9a90l",
        "jupyter": {
          "outputs_hidden": true
        },
        "outputId": "4fe69dae-2bfa-41ff-d25f-508bb6d092ad"
      },
      "outputs": [
        {
          "output_type": "stream",
          "name": "stdout",
          "text": [
            "Go until jurong point, crazy.. Available only in bugis n great world la e buffet... Cine there got amore wat...\n",
            "0\n",
            "There are 3343 data samples in the train set, 1115 in val set, and 1114 in the test set\n"
          ]
        }
      ],
      "source": [
        "import torchtext\n",
        "import random\n",
        "text_field = torchtext.legacy.data.Field(sequential=True,      # text sequence\n",
        "                                  tokenize=lambda x: x, # because are building a character-RNN\n",
        "                                  include_lengths=True, # to track the length of sequences, for batching\n",
        "                                  batch_first=True,\n",
        "                                  use_vocab=True)       # to turn each character into an integer index\n",
        "label_field = torchtext.legacy.data.Field(sequential=False,    # not a sequence\n",
        "                                   use_vocab=False,     # don't need to track vocabulary\n",
        "                                   is_target=True,      \n",
        "                                   batch_first=True,\n",
        "                                   preprocessing=lambda x: int(x == 'spam')) # convert text to 0 and 1\n",
        "\n",
        "fields = [('label', label_field), ('sms', text_field)]\n",
        "dataset = torchtext.legacy.data.TabularDataset(\"SMSSpamCollection\", # name of the file\n",
        "                                        \"tsv\",               # fields are separated by a tab\n",
        "                                        fields)\n",
        "\n",
        "print(dataset[0].sms)\n",
        "print(dataset[0].label)\n",
        "\n",
        "train_data, val_data, test_data = dataset.split(split_ratio = [0.6, 0.2, 0.2], random_state=random.seed(99))\n",
        "print(f'There are {len(train_data)} data samples in the train set, {len(val_data)} in val set, and {len(test_data)} in the test set')\n"
      ]
    },
    {
      "cell_type": "markdown",
      "metadata": {
        "id": "v6nP0Ks_a90o"
      },
      "source": [
        "### Part (e) [2 pt]\n",
        "\n",
        "You saw in part (b) that there are many more non-spam messages than spam messages.\n",
        "This **imbalance** in our training data will be problematic for training.\n",
        "We can fix this disparity by duplicating spam messages in the training set,\n",
        "so that the training set is roughly **balanced**.\n",
        "\n",
        "Explain why having a balanced training set is helpful for training our neural network.\n",
        "\n",
        "Note: if you are not sure, try removing the below code and train your mode."
      ]
    },
    {
      "cell_type": "code",
      "execution_count": null,
      "metadata": {
        "collapsed": true,
        "id": "FWvx9_rka90p",
        "jupyter": {
          "outputs_hidden": true
        }
      },
      "outputs": [],
      "source": [
        "# save the original training examples\n",
        "old_train_examples = train_data.examples\n",
        "# get all the spam messages in `train`\n",
        "train_spam = []\n",
        "for item in train_data.examples:\n",
        "    if item.label == 1:\n",
        "        train_spam.append(item)\n",
        "# duplicate each spam message 6 more times\n",
        "train_data.examples = old_train_examples + train_spam * 6"
      ]
    },
    {
      "cell_type": "markdown",
      "source": [
        "It is important to have a balanced dataset as a dominant class can teach the model to predict that specific class overwhelmingly, resulting in a bias. Considering a baseline of predicting non-spam for everything, we would get an accuracy of 0.866 without class balancing. "
      ],
      "metadata": {
        "id": "chAWTIep6vZ-"
      }
    },
    {
      "cell_type": "markdown",
      "metadata": {
        "id": "j7eUmBEva90r"
      },
      "source": [
        "### Part (f) [1 pt]\n",
        "\n",
        "We need to build the vocabulary on the training data by running the below code.\n",
        "This finds all the possible character tokens in the training set.\n",
        "\n",
        "Explain what the variables `text_field.vocab.stoi` and `text_field.vocab.itos` represent."
      ]
    },
    {
      "cell_type": "code",
      "execution_count": null,
      "metadata": {
        "colab": {
          "base_uri": "https://localhost:8080/"
        },
        "id": "8CQM8flKa90s",
        "jupyter": {
          "outputs_hidden": true
        },
        "outputId": "63c6509f-e510-4b23-87a1-eabce1e225ac"
      },
      "outputs": [
        {
          "output_type": "stream",
          "name": "stdout",
          "text": [
            "defaultdict(<bound method Vocab._default_unk_index of <torchtext.legacy.vocab.Vocab object at 0x7f020d412090>>, {'<unk>': 0, '<pad>': 1, ' ': 2, 'e': 3, 'o': 4, 't': 5, 'a': 6, 'n': 7, 'r': 8, 'i': 9, 's': 10, 'l': 11, 'u': 12, '0': 13, 'h': 14, 'd': 15, '.': 16, 'm': 17, 'c': 18, 'y': 19, 'w': 20, 'p': 21, 'g': 22, '1': 23, 'f': 24, '2': 25, 'b': 26, 'T': 27, '8': 28, 'k': 29, 'E': 30, '5': 31, 'v': 32, 'S': 33, 'I': 34, 'C': 35, 'O': 36, 'N': 37, '4': 38, '7': 39, 'A': 40, 'x': 41, '3': 42, '6': 43, 'R': 44, '!': 45, '9': 46, ',': 47, 'P': 48, 'U': 49, 'W': 50, 'M': 51, 'L': 52, 'H': 53, 'D': 54, 'G': 55, 'B': 56, 'F': 57, 'Y': 58, '/': 59, '?': 60, \"'\": 61, '£': 62, '-': 63, '&': 64, ':': 65, 'X': 66, 'z': 67, 'V': 68, 'j': 69, 'K': 70, '*': 71, ')': 72, 'J': 73, ';': 74, '+': 75, '(': 76, 'Q': 77, '\"': 78, '#': 79, 'q': 80, '@': 81, 'Z': 82, '=': 83, '>': 84, 'ü': 85, '<': 86, '$': 87, 'Ü': 88, '_': 89, '\\x92': 90, '%': 91, '‘': 92, '|': 93, '[': 94, ']': 95, '…': 96, '\\x93': 97, 'é': 98, '\\t': 99, '\\n': 100, '~': 101, '\\x94': 102, '\\x96': 103, '–': 104, '’': 105, '\\\\': 106, '\\x91': 107, '»': 108, 'É': 109, '—': 110, '┾': 111, '〨': 112, '鈥': 113})\n",
            "['<unk>', '<pad>', ' ', 'e', 'o', 't', 'a', 'n', 'r', 'i', 's', 'l', 'u', '0', 'h', 'd', '.', 'm', 'c', 'y', 'w', 'p', 'g', '1', 'f', '2', 'b', 'T', '8', 'k', 'E', '5', 'v', 'S', 'I', 'C', 'O', 'N', '4', '7', 'A', 'x', '3', '6', 'R', '!', '9', ',', 'P', 'U', 'W', 'M', 'L', 'H', 'D', 'G', 'B', 'F', 'Y', '/', '?', \"'\", '£', '-', '&', ':', 'X', 'z', 'V', 'j', 'K', '*', ')', 'J', ';', '+', '(', 'Q', '\"', '#', 'q', '@', 'Z', '=', '>', 'ü', '<', '$', 'Ü', '_', '\\x92', '%', '‘', '|', '[', ']', '…', '\\x93', 'é', '\\t', '\\n', '~', '\\x94', '\\x96', '–', '’', '\\\\', '\\x91', '»', 'É', '—', '┾', '〨', '鈥']\n"
          ]
        }
      ],
      "source": [
        "text_field.build_vocab(train_data)\n",
        "print(text_field.vocab.stoi)\n",
        "print(text_field.vocab.itos)\n"
      ]
    },
    {
      "cell_type": "markdown",
      "source": [
        "`text_field.vocab.stoi` returns a collections.defaultdict instance with mapping each token string (character) to a numerical identifier. \n",
        "`text_field.vocab.itos` returns a list of token strings indexed by their numerical identifiers."
      ],
      "metadata": {
        "id": "kafImNuT7pfD"
      }
    },
    {
      "cell_type": "markdown",
      "metadata": {
        "id": "TC8WVE8Ua90u"
      },
      "source": [
        "### Part (g) [2 pt]\n",
        "\n",
        "The tokens `<unk>` and `<pad>` were not in our SMS text messages.\n",
        "What do these two values represent?"
      ]
    },
    {
      "cell_type": "markdown",
      "source": [
        "`<unk>` represents unknown tokens.\n",
        "\n",
        "`<pad>` is used to pad batches and make them the same length"
      ],
      "metadata": {
        "id": "YjPMs9Cu8WoS"
      }
    },
    {
      "cell_type": "markdown",
      "metadata": {
        "id": "Ff5CNk7Qa90y"
      },
      "source": [
        "### Part (h) [2 pt]\n",
        "\n",
        "Since text sequences are of variable length, `torchtext` provides a `BucketIterator` data loader,\n",
        "which batches similar length sequences together. The iterator also provides functionalities to\n",
        "pad sequences automatically.\n",
        "\n",
        "Take a look at 10 batches in `train_iter`. What is the maximum length of the\n",
        "input sequence in each batch? How many `<pad>` tokens are used in each of the 10\n",
        "batches?"
      ]
    },
    {
      "cell_type": "code",
      "execution_count": null,
      "metadata": {
        "collapsed": true,
        "id": "V8N8qLWOa90y",
        "jupyter": {
          "outputs_hidden": true
        }
      },
      "outputs": [],
      "source": [
        "train_iter = torchtext.legacy.data.BucketIterator(train_data,\n",
        "                                           batch_size=32,\n",
        "                                           sort_key=lambda x: len(x.sms), # to minimize padding\n",
        "                                           sort_within_batch=True,        # sort within each batch\n",
        "                                           repeat=False)                  # repeat the iterator for many epochs"
      ]
    },
    {
      "cell_type": "code",
      "execution_count": null,
      "metadata": {
        "colab": {
          "base_uri": "https://localhost:8080/"
        },
        "id": "Qwz-rOaha902",
        "jupyter": {
          "outputs_hidden": true
        },
        "outputId": "1cffeaae-8d5d-4d23-d17b-b386c8100f2a"
      },
      "outputs": [
        {
          "output_type": "stream",
          "name": "stdout",
          "text": [
            "Batch: 1 | Length: 28 | Pad: 18\n",
            "Batch: 2 | Length: 80 | Pad: 59\n",
            "Batch: 3 | Length: 35 | Pad: 15\n",
            "Batch: 4 | Length: 147 | Pad: 30\n",
            "Batch: 5 | Length: 155 | Pad: 23\n",
            "Batch: 6 | Length: 160 | Pad: 5\n",
            "Batch: 7 | Length: 77 | Pad: 59\n",
            "Batch: 8 | Length: 163 | Pad: 15\n",
            "Batch: 9 | Length: 34 | Pad: 22\n",
            "Batch: 10 | Length: 89 | Pad: 64\n"
          ]
        }
      ],
      "source": [
        "for i, batch in enumerate(train_iter):\n",
        "  if i == 10:\n",
        "    break\n",
        "  else:\n",
        "    pad = sum([True for j in range(len(batch.sms[0][i])) for i in range(len(batch.sms[1])) if batch.sms[0][i][j] == 1])\n",
        "    print(f'Batch: {i+1} | Length: {int(batch.sms[1][0])} | Pad: {pad}')\n",
        "    # max length is at the start of the batch\n",
        "    # pad is calculated by checking each value in sms[0][i][j],\n",
        "    # which is essentially checking each element if it is == 1, the numerical identifier of pad"
      ]
    },
    {
      "cell_type": "markdown",
      "metadata": {
        "id": "y7HnqP6_a904"
      },
      "source": [
        "## Part 2. Model Building [8 pt]\n",
        "\n",
        "Build a recurrent neural network model, using an architecture of your choosing. \n",
        "Use the one-hot embedding of each character as input to your recurrent network.\n",
        "Use one or more fully-connected layers to make the prediction based on your\n",
        "recurrent network output.\n",
        "\n",
        "Instead of using the RNN output value for the final token, another often used\n",
        "strategy is to max-pool over the entire output array. That is, instead of calling\n",
        "something like:\n",
        "\n",
        "```\n",
        "out, _ = self.rnn(x)\n",
        "self.fc(out[:, -1, :])\n",
        "```\n",
        "\n",
        "where `self.rnn` is an `nn.RNN`, `nn.GRU`, or `nn.LSTM` module, and `self.fc` is a \n",
        "fully-connected \n",
        "layer, we use:\n",
        "\n",
        "```\n",
        "out, _ = self.rnn(x)\n",
        "self.fc(torch.max(out, dim=1)[0])\n",
        "```\n",
        "\n",
        "This works reasonably in practice. An even better alternative is to concatenate the\n",
        "max-pooling and average-pooling of the RNN outputs:\n",
        "\n",
        "```\n",
        "out, _ = self.rnn(x)\n",
        "out = torch.cat([torch.max(out, dim=1)[0], \n",
        "                 torch.mean(out, dim=1)], dim=1)\n",
        "self.fc(out)\n",
        "```\n",
        "\n",
        "We encourage you to try out all these options. The way you pool the RNN outputs\n",
        "is one of the \"hyperparameters\" that you can choose to tune later on."
      ]
    },
    {
      "cell_type": "code",
      "execution_count": null,
      "metadata": {
        "colab": {
          "base_uri": "https://localhost:8080/"
        },
        "id": "jHl1p_Wwa905",
        "jupyter": {
          "outputs_hidden": true
        },
        "outputId": "2f39f67f-72c6-4925-eecc-fbcac29ce6f0"
      },
      "outputs": [
        {
          "output_type": "stream",
          "name": "stdout",
          "text": [
            "tensor([1., 0., 0., 0., 0., 0., 0., 0., 0., 0.])\n",
            "tensor([0., 1., 0., 0., 0., 0., 0., 0., 0., 0.])\n",
            "tensor([[[0., 1., 0., 0., 0., 0., 0., 0., 0., 0.],\n",
            "         [0., 0., 1., 0., 0., 0., 0., 0., 0., 0.]],\n",
            "\n",
            "        [[0., 0., 0., 1., 0., 0., 0., 0., 0., 0.],\n",
            "         [0., 0., 0., 0., 1., 0., 0., 0., 0., 0.]]])\n"
          ]
        }
      ],
      "source": [
        "# You might find this code helpful for obtaining\n",
        "# PyTorch one-hot vectors.\n",
        "\n",
        "ident = torch.eye(10)\n",
        "print(ident[0]) # one-hot vector\n",
        "print(ident[1]) # one-hot vector\n",
        "x = torch.tensor([[1, 2], [3, 4]])\n",
        "print(ident[x]) # one-hot vectors"
      ]
    },
    {
      "cell_type": "code",
      "execution_count": null,
      "metadata": {
        "colab": {
          "base_uri": "https://localhost:8080/"
        },
        "id": "4LTQ7zFka909",
        "jupyter": {
          "outputs_hidden": true
        },
        "outputId": "cf18e3b7-f112-4fa3-a66e-c4edb82cd3ab"
      },
      "outputs": [
        {
          "output_type": "stream",
          "name": "stdout",
          "text": [
            "114\n"
          ]
        }
      ],
      "source": [
        "input_size = len(text_field.vocab.itos)\n",
        "print (input_size)"
      ]
    },
    {
      "cell_type": "code",
      "source": [
        "'''\n",
        "I tried using LSTM, but couldnt get them to work. I have decided to leave them here so i can get feedback on how LSTM implementations can work.\n",
        "\n",
        "'''\n",
        "\n",
        "\n",
        "\n",
        "\n",
        "class SpamRNN(nn.Module):\n",
        "    def __init__(self, dropout):\n",
        "        self.name = \"SpamRNN\"\n",
        "        super(SpamRNN, self).__init__()\n",
        "        self.embedding = nn.Embedding(114, 114)\n",
        "        self.rnn = nn.LSTM(114,\n",
        "                           64,\n",
        "                           num_layers= 2,\n",
        "                           bidirectional=True)\n",
        "                          #  batch_first=True)\n",
        "        self.fc1 = nn.Linear(64,32)\n",
        "\n",
        "        # model.add(LSTM(128,input_shape=(embedded_docs.shape),activation='relu',return_sequences=True))\n",
        "        # self.embed = torch.eye(input_size)\n",
        "        # self.rnn1 = nn.Sequential(nn.LSTM(input_size, 256, activation='relu'), #nonlinearity = 'relu'),\n",
        "        #                           nn.BatchNorm2d(256)) #batch_first=True),\n",
        "        # self.rnn2 = nn.Sequential(nn.LSTM(256, 64, dropout = dropout),#nonlinearity = 'relu'), \n",
        "        #                           nn.BatchNorm2d(64))\n",
        "        # self.rnn3 = nn.Sequential(nn.LSTM(64, 16, dropout = dropout), #nonlinearity = 'relu'),\n",
        "        #                           nn.BatchNorm2d(16))                         \n",
        "\n",
        "        self.fc2 = nn.Linear(32, 1) # as this is a binary classifier, 1 output is sufficient\n",
        "        self.dropout = nn.Dropout(dropout)\n",
        "\n",
        "    def forward(self, text, text_length):\n",
        "        # Look up the embedding\n",
        "        embedded = self.embedding(text)      \n",
        "        packed = torch.nn.utils.rnn.pack_padded_sequence(embedded, text_length)        # Forward propagate the RNN\n",
        "        packed_output, (hidden, cell) = self.rnn(packed)\n",
        "        # hidden = hidden.view(-1, 64) #reshaping the data for Dense layer next\n",
        "        # out = nn.ReLU(hidden)\n",
        "\n",
        "        combined = torch.cat((hidden[-2,:,:], hidden[-1,:,:]), dim=1)\n",
        "        out = combined.squeeze(0).view(-1)\n",
        "        out = nn.ReLU(self.fc1(out))\n",
        "        out = self.dropout(out)\n",
        "        out = self.fc2(out)\n",
        "\n",
        "\n",
        "\n",
        "        # output, (hidden, _) = self.rnn1(x)\n",
        "        # output, (hidden, _) = self.rnn2(x)\n",
        "        # output, (hidden, _) = self.rnn3(x)\n",
        "        # output, (hidden, _) = self.dropout(x)        \n",
        "        # out = torch.max(x, dim=1)[0]\n",
        "        # # Pass the output of the last step to the classifier\n",
        "        # out = self.fc(out)\n",
        "        # text_fea = torch.squeeze(text_fea, 1)\n",
        "        # text_out = torch.sigmoid(text_fea)\n",
        "        # return out"
      ],
      "metadata": {
        "id": "lcakDtCaGHwe"
      },
      "execution_count": null,
      "outputs": []
    },
    {
      "cell_type": "code",
      "source": [
        "class RNN(nn.Module):\n",
        "    def __init__(self, hidden_size, dropout):\n",
        "        self.name = \"RNN\"\n",
        "        super(RNN, self).__init__()\n",
        "        self.emb = torch.eye(input_size).to(device)\n",
        "        self.rnn = nn.RNN(114, hidden_size, batch_first=True) \n",
        "        self.fc1 = nn.Linear(hidden_size * 2, 32) # *2 is due to concatenation\n",
        "        self.fc2 = nn.Linear(32,1)\n",
        "        self.dropout = nn.Dropout(dropout)\n",
        "        self.hidden_size = hidden_size\n",
        "    def forward(self, x):\n",
        "        x = self.emb[x]\n",
        "        h0 = torch.zeros(1, x.size(0), self.hidden_size).to(device)\n",
        "        out, hidden = self.rnn(x, h0)\n",
        "        out = torch.cat([torch.max(out, dim=1)[0], \n",
        "                 torch.mean(out, dim=1)], dim=1)        \n",
        "        out = self.dropout(out)\n",
        "        out = self.fc1(out)\n",
        "        out = self.dropout(out)\n",
        "        out = self.fc2(out)\n",
        "        return out.squeeze()"
      ],
      "metadata": {
        "id": "d99NyiClTa_z"
      },
      "execution_count": null,
      "outputs": []
    },
    {
      "cell_type": "markdown",
      "metadata": {
        "id": "vKIYPl_Ba90_"
      },
      "source": [
        "## Part 3. Training [16 pt]\n",
        "\n",
        "### Part (a) [4 pt]\n",
        "\n",
        "Complete the `get_accuracy` function, which will compute the\n",
        "accuracy (rate) of your model across a dataset (e.g. validation set).\n",
        "You may modify `torchtext.data.BucketIterator` to make your computation\n",
        "faster."
      ]
    },
    {
      "cell_type": "code",
      "execution_count": null,
      "metadata": {
        "collapsed": true,
        "id": "pvNfhGD6a91A",
        "jupyter": {
          "outputs_hidden": true
        }
      },
      "outputs": [],
      "source": [
        "def get_accuracy(model, iter):\n",
        "    \"\"\" Compute the accuracy of the `model` across a dataset `data`\n",
        "    \n",
        "    Example usage:\n",
        "    \n",
        "    >>> model = MyRNN() # to be defined\n",
        "    >>> get_accuracy(model, valid) # the variable `valid` is from above\n",
        "    \"\"\"\n",
        "    correct, total= 0, 0\n",
        "    model.eval()\n",
        "    with torch.no_grad():\n",
        "      for idx, (sms, label) in enumerate(iter):\n",
        "        label = label.to(device)\n",
        "        logits = model(sms[0].to(device))\n",
        "        pred = (torch.sigmoid(logits) > 0.5)\n",
        "        correct += (pred == label).sum().item()\n",
        "        total += label.shape[0]\n",
        "    return correct / total"
      ]
    },
    {
      "cell_type": "markdown",
      "metadata": {
        "id": "TlxlcAC1a91C"
      },
      "source": [
        "### Part (b) [4 pt]\n",
        "\n",
        "Train your model. Plot the training curve of your final model. \n",
        "Your training curve should have the training/validation loss and\n",
        "accuracy plotted periodically.\n",
        "\n",
        "Note: Not all of your batches will have the same batch size.\n",
        "In particular, if your training set does not divide evenly by\n",
        "your batch size, there will be a batch that is smaller than\n",
        "the rest. "
      ]
    },
    {
      "cell_type": "code",
      "source": [
        "# Device\n",
        "device = torch.device(\"cuda\" if torch.cuda.is_available() else \"cpu\")\n",
        "print(device)"
      ],
      "metadata": {
        "colab": {
          "base_uri": "https://localhost:8080/"
        },
        "id": "BMlBSJX97IYb",
        "outputId": "5a701aa9-a097-415f-d9cf-ea9d6849060e"
      },
      "execution_count": null,
      "outputs": [
        {
          "output_type": "stream",
          "name": "stdout",
          "text": [
            "cuda\n"
          ]
        }
      ]
    },
    {
      "cell_type": "code",
      "execution_count": null,
      "metadata": {
        "collapsed": true,
        "id": "CVtf7CJCa91D",
        "jupyter": {
          "outputs_hidden": true
        }
      },
      "outputs": [],
      "source": [
        "import matplotlib.pyplot as plt\n",
        "import os\n",
        "\n",
        "def train_rnn(model, train, valid, num_epochs, batch_size, learning_rate, hidden_layers, dropout, plot = True):\n",
        "    model = model.to(device)\n",
        "    torch.manual_seed(4)\n",
        "    criterion = nn.BCEWithLogitsLoss().to(device)\n",
        "    optimizer = torch.optim.Adam(model.parameters(), lr=learning_rate)\n",
        "    scheduler = torch.optim.lr_scheduler.ReduceLROnPlateau(optimizer, patience=3, factor=0.5, verbose= True, min_lr=1e-6)\n",
        "    \n",
        "    model_path = f\"model_{model.name}_bs{batch_size}_lr{learning_rate}_epochs{num_epochs}_hidden{hidden_layers}_dropout{dropout}\"\n",
        "    os.makedirs(os.path.join(\"/content/backup\",model_path), exist_ok = True)\n",
        "    \n",
        "    epochs, losses, val_losses, train_acc, val_acc = [], [], [], [], []\n",
        "    train_iter = torchtext.legacy.data.BucketIterator(\n",
        "                    train,\n",
        "                    batch_size=batch_size,\n",
        "                    sort_key=lambda x: len(x.sms), # to minimize padding\n",
        "                    sort_within_batch=True,        # sort within each batch\n",
        "                    repeat=False)                  # repeat the iterator for many epochs\n",
        "    valid_iter = torchtext.legacy.data.BucketIterator(\n",
        "                    valid,\n",
        "                    batch_size=batch_size,\n",
        "                    sort_key=lambda x: len(x.sms), # to minimize padding\n",
        "                    sort_within_batch=True,        # sort within each batch\n",
        "                    repeat=False)                  # repeat the iterator for many epochs\n",
        "\n",
        "    for epoch in range(num_epochs):\n",
        "        model.train()\n",
        "        train_loss_per_epoch, train_batches, val_loss_per_epoch, val_batches = 0.0, 0.0, 0.0, 0.0\n",
        "        for sms, label in train_iter:\n",
        "            # sms =  sms.to(device)\n",
        "            sms_device = sms[0].to(device) \n",
        "            label = label.to(device)\n",
        "            optimizer.zero_grad()\n",
        "            pred = model(sms_device)# sms[1])\n",
        "            loss = criterion(pred, label.float())\n",
        "            train_loss_per_epoch += loss.item()\n",
        "            train_batches +=1\n",
        "            loss.backward()\n",
        "            optimizer.step()\n",
        "        \n",
        "        for sms, label in valid_iter:\n",
        "            sms_device, label = sms[0].to(device), label.to(device)\n",
        "            optimizer.zero_grad()\n",
        "            pred = model(sms_device)\n",
        "            val_loss = criterion(pred, label.float())\n",
        "            val_loss_per_epoch += val_loss.item()\n",
        "            val_batches +=1\n",
        "\n",
        "        epochs.append(epoch)            \n",
        "        losses.append(float(train_loss_per_epoch)/train_batches)\n",
        "        train_acc.append(get_accuracy(model, train_iter))\n",
        "        val_losses.append(float(val_loss_per_epoch)/val_batches) \n",
        "        val_acc.append(get_accuracy(model, valid_iter))\n",
        "        scheduler.step(val_acc[-1])\n",
        "        print(f\"Epoch {epoch + 1}/{num_epochs}: Training loss {losses[-1]:.3f} , Val loss {val_losses[-1]:.3f} , Training accuracy {train_acc[-1]:.3f} , Val accuracy {val_acc[-1]:.3f}\")\n",
        "        if val_acc[-1]==max(val_acc):\n",
        "            torch.save(model.state_dict(), os.path.join(\"/content/backup\", model_path, \"best.pth\"))\n",
        "            print (\"best model saved\")\n",
        "        if epoch % 10 == 0:\n",
        "            torch.save(model.state_dict(), os.path.join(\"/content/backup\", model_path, f\"{epoch}.pth\"))\n",
        "            print (\"checkpoint model saved\")\n",
        "\n",
        "    print (f\"Best training accuracy is {max(train_acc)}\")\n",
        "    print (f\"Best val accuracy is {max(val_acc)}\")\n",
        "    if plot: # plotting\n",
        "      plt.title(\"Loss Curve\")\n",
        "      plt.plot(epochs, losses, label=\"Train\")\n",
        "      plt.plot(epochs, val_losses, label=\"Validation\")\n",
        "      plt.xlabel(\"Iterations\")\n",
        "      plt.ylabel(\"Loss\")\n",
        "      plt.legend(loc='best')\n",
        "      plt.show()\n",
        "\n",
        "      plt.title(\"Accuracy Curve\")\n",
        "      plt.plot(epochs, train_acc, label=\"Train\")\n",
        "      plt.plot(epochs, val_acc, label=\"Validation\")\n",
        "      plt.xlabel(\"Iterations\")\n",
        "      plt.ylabel(\"Accuracy\")\n",
        "      plt.legend(loc='best')\n",
        "      plt.show()       "
      ]
    },
    {
      "cell_type": "code",
      "source": [
        "hidden_layers = 64\n",
        "dropout = 0.5\n",
        "batch_size = 32\n",
        "learning_rate = 0.001 \n",
        "\n",
        "SimpleRNN = RNN(hidden_layers, dropout)\n",
        "\n",
        "train_rnn(SimpleRNN, train_data, val_data, num_epochs= 30, batch_size= batch_size, learning_rate=learning_rate, hidden_layers = hidden_layers, dropout = dropout, plot = True)"
      ],
      "metadata": {
        "colab": {
          "base_uri": "https://localhost:8080/",
          "height": 1000
        },
        "id": "ITfPjxOtR50x",
        "outputId": "6ca8fc88-d9cf-49c5-af35-5c6c0a2b973b"
      },
      "execution_count": null,
      "outputs": [
        {
          "output_type": "stream",
          "name": "stdout",
          "text": [
            "Epoch 1/30: Training loss 0.494 , Val loss 0.161 , Training accuracy 0.947 , Val accuracy 0.961\n",
            "best model saved\n",
            "checkpoint model saved\n",
            "Epoch 2/30: Training loss 0.149 , Val loss 0.200 , Training accuracy 0.967 , Val accuracy 0.948\n",
            "Epoch 3/30: Training loss 0.120 , Val loss 0.176 , Training accuracy 0.974 , Val accuracy 0.956\n",
            "Epoch 4/30: Training loss 0.092 , Val loss 0.273 , Training accuracy 0.967 , Val accuracy 0.934\n",
            "Epoch 5/30: Training loss 0.084 , Val loss 0.126 , Training accuracy 0.984 , Val accuracy 0.965\n",
            "best model saved\n",
            "Epoch 6/30: Training loss 0.066 , Val loss 0.147 , Training accuracy 0.990 , Val accuracy 0.967\n",
            "best model saved\n",
            "Epoch 7/30: Training loss 0.049 , Val loss 0.162 , Training accuracy 0.992 , Val accuracy 0.961\n",
            "Epoch     8: reducing learning rate of group 0 to 5.0000e-04.\n",
            "Epoch 8/30: Training loss 0.048 , Val loss 0.134 , Training accuracy 0.995 , Val accuracy 0.967\n",
            "best model saved\n",
            "Epoch 9/30: Training loss 0.029 , Val loss 0.162 , Training accuracy 0.998 , Val accuracy 0.966\n",
            "Epoch 10/30: Training loss 0.023 , Val loss 0.160 , Training accuracy 0.998 , Val accuracy 0.967\n",
            "best model saved\n",
            "Epoch 11/30: Training loss 0.023 , Val loss 0.168 , Training accuracy 0.999 , Val accuracy 0.967\n",
            "best model saved\n",
            "checkpoint model saved\n",
            "Epoch    12: reducing learning rate of group 0 to 2.5000e-04.\n",
            "Epoch 12/30: Training loss 0.016 , Val loss 0.195 , Training accuracy 0.999 , Val accuracy 0.967\n",
            "best model saved\n",
            "Epoch 13/30: Training loss 0.012 , Val loss 0.172 , Training accuracy 0.999 , Val accuracy 0.969\n",
            "best model saved\n",
            "Epoch 14/30: Training loss 0.011 , Val loss 0.212 , Training accuracy 0.998 , Val accuracy 0.964\n",
            "Epoch 15/30: Training loss 0.012 , Val loss 0.206 , Training accuracy 1.000 , Val accuracy 0.969\n",
            "best model saved\n",
            "Epoch    16: reducing learning rate of group 0 to 1.2500e-04.\n",
            "Epoch 16/30: Training loss 0.010 , Val loss 0.198 , Training accuracy 1.000 , Val accuracy 0.967\n",
            "Epoch 17/30: Training loss 0.008 , Val loss 0.196 , Training accuracy 1.000 , Val accuracy 0.968\n",
            "Epoch 18/30: Training loss 0.006 , Val loss 0.197 , Training accuracy 1.000 , Val accuracy 0.966\n",
            "Epoch 19/30: Training loss 0.005 , Val loss 0.222 , Training accuracy 1.000 , Val accuracy 0.969\n",
            "best model saved\n",
            "Epoch    20: reducing learning rate of group 0 to 6.2500e-05.\n",
            "Epoch 20/30: Training loss 0.006 , Val loss 0.205 , Training accuracy 1.000 , Val accuracy 0.966\n",
            "Epoch 21/30: Training loss 0.006 , Val loss 0.188 , Training accuracy 1.000 , Val accuracy 0.969\n",
            "best model saved\n",
            "checkpoint model saved\n",
            "Epoch 22/30: Training loss 0.004 , Val loss 0.203 , Training accuracy 1.000 , Val accuracy 0.967\n",
            "Epoch 23/30: Training loss 0.004 , Val loss 0.224 , Training accuracy 1.000 , Val accuracy 0.968\n",
            "Epoch    24: reducing learning rate of group 0 to 3.1250e-05.\n",
            "Epoch 24/30: Training loss 0.005 , Val loss 0.208 , Training accuracy 1.000 , Val accuracy 0.969\n",
            "best model saved\n",
            "Epoch 25/30: Training loss 0.004 , Val loss 0.175 , Training accuracy 1.000 , Val accuracy 0.968\n",
            "Epoch 26/30: Training loss 0.003 , Val loss 0.215 , Training accuracy 1.000 , Val accuracy 0.967\n",
            "Epoch 27/30: Training loss 0.003 , Val loss 0.232 , Training accuracy 1.000 , Val accuracy 0.967\n",
            "Epoch    28: reducing learning rate of group 0 to 1.5625e-05.\n",
            "Epoch 28/30: Training loss 0.003 , Val loss 0.205 , Training accuracy 1.000 , Val accuracy 0.967\n",
            "Epoch 29/30: Training loss 0.004 , Val loss 0.213 , Training accuracy 1.000 , Val accuracy 0.968\n",
            "Epoch 30/30: Training loss 0.004 , Val loss 0.226 , Training accuracy 1.000 , Val accuracy 0.967\n",
            "Best training accuracy is 1.0\n",
            "Best val accuracy is 0.968609865470852\n"
          ]
        },
        {
          "output_type": "display_data",
          "data": {
            "image/png": "[encoded data removed]",
            "text/plain": [
              "<Figure size 432x288 with 1 Axes>"
            ]
          },
          "metadata": {
            "needs_background": "light"
          }
        },
        {
          "output_type": "display_data",
          "data": {
            "image/png": "[encoded data removed]",
            "text/plain": [
              "<Figure size 432x288 with 1 Axes>"
            ]
          },
          "metadata": {
            "needs_background": "light"
          }
        }
      ]
    },
    {
      "cell_type": "markdown",
      "metadata": {
        "id": "fE3eRkDAa91F"
      },
      "source": [
        "### Part (c) [4 pt]\n",
        "\n",
        "Choose at least 4 hyperparameters to tune. Explain how you tuned the hyperparameters.\n",
        "You don't need to include your training curve for every model you trained.\n",
        "Instead, explain what hyperparemters you tuned, what the best validation accuracy was,\n",
        "and the reasoning behind the hyperparameter decisions you made.\n",
        "\n",
        "For this assignment, you should tune more than just your learning rate and epoch. \n",
        "Choose at least 2 hyperparameters that are unrelated to the optimizer."
      ]
    },
    {
      "cell_type": "markdown",
      "source": [
        "The 4 hyperparameters tuned are:\n",
        "\n",
        "1.   Initial learning rate: 0.001, 0.0005, 0.0001 \n",
        "2.   Batch size: 32 or 64\n",
        "3.   Dropout rates: 0.1, 0.25 and 0.5\n",
        "4.   Hidden layers: 64, 128, 256\n",
        "\n",
        "Number of epochs is fixed at 20 as model stabilises quickly.\n"
      ],
      "metadata": {
        "id": "j8XUrlo_KPCo"
      }
    },
    {
      "cell_type": "code",
      "source": [
        "#first, we experiment with batch size and learning rate with the same model to find the best combination\n",
        "for batch_size in [32, 64]:\n",
        "  for learning_rate in [0.001,0.0005,0.0001]:\n",
        "    print (\"--------------------------------------------------------\")\n",
        "    print (f\"Training bs{batch_size} lr{learning_rate} \")\n",
        "    SimpleRNN = RNN(128,0.5)\n",
        "    train_rnn(SimpleRNN, train_data, val_data, num_epochs= 20, batch_size= batch_size, learning_rate=learning_rate, hidden_layers = 128, dropout = 0.5, plot = False)"
      ],
      "metadata": {
        "colab": {
          "base_uri": "https://localhost:8080/"
        },
        "id": "Gdw-JI6gnlpp",
        "outputId": "03af2327-5bc9-41b0-f221-da37c65c12fa"
      },
      "execution_count": null,
      "outputs": [
        {
          "output_type": "stream",
          "name": "stdout",
          "text": [
            "--------------------------------------------------------\n",
            "Training bs32 lr0.001 \n",
            "Epoch 1/20: Training loss 0.446 , Val loss 0.133 , Training accuracy 0.946 , Val accuracy 0.961\n",
            "best model saved\n",
            "checkpoint model saved\n",
            "Epoch 2/20: Training loss 0.135 , Val loss 0.176 , Training accuracy 0.970 , Val accuracy 0.952\n",
            "Epoch 3/20: Training loss 0.107 , Val loss 0.128 , Training accuracy 0.977 , Val accuracy 0.965\n",
            "best model saved\n",
            "Epoch 4/20: Training loss 0.086 , Val loss 0.173 , Training accuracy 0.979 , Val accuracy 0.951\n",
            "Epoch 5/20: Training loss 0.066 , Val loss 0.120 , Training accuracy 0.989 , Val accuracy 0.961\n",
            "Epoch 6/20: Training loss 0.052 , Val loss 0.120 , Training accuracy 0.993 , Val accuracy 0.969\n",
            "best model saved\n",
            "Epoch 7/20: Training loss 0.043 , Val loss 0.103 , Training accuracy 0.989 , Val accuracy 0.974\n",
            "best model saved\n",
            "Epoch     8: reducing learning rate of group 0 to 5.0000e-04.\n",
            "Epoch 8/20: Training loss 0.036 , Val loss 0.109 , Training accuracy 0.994 , Val accuracy 0.976\n",
            "best model saved\n",
            "Epoch 9/20: Training loss 0.019 , Val loss 0.128 , Training accuracy 1.000 , Val accuracy 0.973\n",
            "Epoch 10/20: Training loss 0.011 , Val loss 0.117 , Training accuracy 0.999 , Val accuracy 0.969\n",
            "Epoch 11/20: Training loss 0.010 , Val loss 0.147 , Training accuracy 1.000 , Val accuracy 0.973\n",
            "checkpoint model saved\n",
            "Epoch    12: reducing learning rate of group 0 to 2.5000e-04.\n",
            "Epoch 12/20: Training loss 0.007 , Val loss 0.157 , Training accuracy 1.000 , Val accuracy 0.977\n",
            "best model saved\n",
            "Epoch 13/20: Training loss 0.003 , Val loss 0.152 , Training accuracy 1.000 , Val accuracy 0.973\n",
            "Epoch 14/20: Training loss 0.003 , Val loss 0.158 , Training accuracy 1.000 , Val accuracy 0.973\n",
            "Epoch 15/20: Training loss 0.002 , Val loss 0.173 , Training accuracy 1.000 , Val accuracy 0.975\n",
            "Epoch    16: reducing learning rate of group 0 to 1.2500e-04.\n",
            "Epoch 16/20: Training loss 0.002 , Val loss 0.176 , Training accuracy 1.000 , Val accuracy 0.975\n",
            "Epoch 17/20: Training loss 0.003 , Val loss 0.192 , Training accuracy 1.000 , Val accuracy 0.974\n",
            "Epoch 18/20: Training loss 0.002 , Val loss 0.170 , Training accuracy 1.000 , Val accuracy 0.973\n",
            "Epoch 19/20: Training loss 0.002 , Val loss 0.218 , Training accuracy 1.000 , Val accuracy 0.974\n",
            "Epoch    20: reducing learning rate of group 0 to 6.2500e-05.\n",
            "Epoch 20/20: Training loss 0.002 , Val loss 0.199 , Training accuracy 1.000 , Val accuracy 0.974\n",
            "Best training accuracy is 1.0\n",
            "Best val accuracy is 0.9766816143497757\n",
            "--------------------------------------------------------\n",
            "Training bs32 lr0.0005 \n",
            "Epoch 1/20: Training loss 0.498 , Val loss 0.159 , Training accuracy 0.942 , Val accuracy 0.961\n",
            "best model saved\n",
            "checkpoint model saved\n",
            "Epoch 2/20: Training loss 0.148 , Val loss 0.161 , Training accuracy 0.967 , Val accuracy 0.961\n",
            "best model saved\n",
            "Epoch 3/20: Training loss 0.123 , Val loss 0.164 , Training accuracy 0.973 , Val accuracy 0.956\n",
            "Epoch 4/20: Training loss 0.104 , Val loss 0.261 , Training accuracy 0.967 , Val accuracy 0.935\n",
            "Epoch 5/20: Training loss 0.093 , Val loss 0.132 , Training accuracy 0.983 , Val accuracy 0.961\n",
            "best model saved\n",
            "Epoch 6/20: Training loss 0.082 , Val loss 0.134 , Training accuracy 0.981 , Val accuracy 0.967\n",
            "best model saved\n",
            "Epoch 7/20: Training loss 0.069 , Val loss 0.112 , Training accuracy 0.985 , Val accuracy 0.968\n",
            "best model saved\n",
            "Epoch     8: reducing learning rate of group 0 to 2.5000e-04.\n",
            "Epoch 8/20: Training loss 0.061 , Val loss 0.123 , Training accuracy 0.987 , Val accuracy 0.974\n",
            "best model saved\n",
            "Epoch 9/20: Training loss 0.038 , Val loss 0.119 , Training accuracy 0.993 , Val accuracy 0.970\n",
            "Epoch 10/20: Training loss 0.026 , Val loss 0.125 , Training accuracy 0.997 , Val accuracy 0.964\n",
            "Epoch 11/20: Training loss 0.023 , Val loss 0.121 , Training accuracy 0.999 , Val accuracy 0.967\n",
            "checkpoint model saved\n",
            "Epoch    12: reducing learning rate of group 0 to 1.2500e-04.\n",
            "Epoch 12/20: Training loss 0.020 , Val loss 0.119 , Training accuracy 0.998 , Val accuracy 0.969\n",
            "Epoch 13/20: Training loss 0.012 , Val loss 0.133 , Training accuracy 1.000 , Val accuracy 0.965\n",
            "Epoch 14/20: Training loss 0.012 , Val loss 0.184 , Training accuracy 0.997 , Val accuracy 0.957\n",
            "Epoch 15/20: Training loss 0.010 , Val loss 0.141 , Training accuracy 0.999 , Val accuracy 0.966\n",
            "Epoch    16: reducing learning rate of group 0 to 6.2500e-05.\n",
            "Epoch 16/20: Training loss 0.011 , Val loss 0.181 , Training accuracy 1.000 , Val accuracy 0.966\n",
            "Epoch 17/20: Training loss 0.009 , Val loss 0.152 , Training accuracy 1.000 , Val accuracy 0.970\n",
            "Epoch 18/20: Training loss 0.006 , Val loss 0.202 , Training accuracy 0.999 , Val accuracy 0.961\n",
            "Epoch 19/20: Training loss 0.006 , Val loss 0.173 , Training accuracy 1.000 , Val accuracy 0.968\n",
            "Epoch    20: reducing learning rate of group 0 to 3.1250e-05.\n",
            "Epoch 20/20: Training loss 0.005 , Val loss 0.159 , Training accuracy 1.000 , Val accuracy 0.968\n",
            "Best training accuracy is 1.0\n",
            "Best val accuracy is 0.9739910313901345\n",
            "--------------------------------------------------------\n",
            "Training bs32 lr0.0001 \n",
            "Epoch 1/20: Training loss 0.687 , Val loss 0.718 , Training accuracy 0.524 , Val accuracy 0.147\n",
            "best model saved\n",
            "checkpoint model saved\n",
            "Epoch 2/20: Training loss 0.577 , Val loss 0.425 , Training accuracy 0.933 , Val accuracy 0.940\n",
            "best model saved\n",
            "Epoch 3/20: Training loss 0.318 , Val loss 0.336 , Training accuracy 0.949 , Val accuracy 0.948\n",
            "best model saved\n",
            "Epoch 4/20: Training loss 0.205 , Val loss 0.334 , Training accuracy 0.947 , Val accuracy 0.906\n",
            "Epoch     5: reducing learning rate of group 0 to 5.0000e-05.\n",
            "Epoch 5/20: Training loss 0.163 , Val loss 0.137 , Training accuracy 0.945 , Val accuracy 0.966\n",
            "best model saved\n",
            "Epoch 6/20: Training loss 0.135 , Val loss 0.155 , Training accuracy 0.966 , Val accuracy 0.954\n",
            "Epoch 7/20: Training loss 0.129 , Val loss 0.161 , Training accuracy 0.968 , Val accuracy 0.956\n",
            "Epoch 8/20: Training loss 0.130 , Val loss 0.162 , Training accuracy 0.968 , Val accuracy 0.959\n",
            "Epoch     9: reducing learning rate of group 0 to 2.5000e-05.\n",
            "Epoch 9/20: Training loss 0.118 , Val loss 0.146 , Training accuracy 0.969 , Val accuracy 0.961\n",
            "Epoch 10/20: Training loss 0.114 , Val loss 0.136 , Training accuracy 0.969 , Val accuracy 0.961\n",
            "Epoch 11/20: Training loss 0.108 , Val loss 0.128 , Training accuracy 0.970 , Val accuracy 0.966\n",
            "best model saved\n",
            "checkpoint model saved\n",
            "Epoch 12/20: Training loss 0.105 , Val loss 0.132 , Training accuracy 0.972 , Val accuracy 0.964\n",
            "Epoch    13: reducing learning rate of group 0 to 1.2500e-05.\n",
            "Epoch 13/20: Training loss 0.108 , Val loss 0.136 , Training accuracy 0.973 , Val accuracy 0.964\n",
            "Epoch 14/20: Training loss 0.107 , Val loss 0.140 , Training accuracy 0.973 , Val accuracy 0.963\n",
            "Epoch 15/20: Training loss 0.100 , Val loss 0.149 , Training accuracy 0.972 , Val accuracy 0.954\n",
            "Epoch 16/20: Training loss 0.103 , Val loss 0.166 , Training accuracy 0.970 , Val accuracy 0.953\n",
            "Epoch    17: reducing learning rate of group 0 to 6.2500e-06.\n",
            "Epoch 17/20: Training loss 0.101 , Val loss 0.139 , Training accuracy 0.972 , Val accuracy 0.967\n",
            "best model saved\n",
            "Epoch 18/20: Training loss 0.097 , Val loss 0.178 , Training accuracy 0.969 , Val accuracy 0.951\n",
            "Epoch 19/20: Training loss 0.098 , Val loss 0.135 , Training accuracy 0.972 , Val accuracy 0.965\n",
            "Epoch 20/20: Training loss 0.099 , Val loss 0.140 , Training accuracy 0.974 , Val accuracy 0.965\n",
            "Best training accuracy is 0.9739574748640185\n",
            "Best val accuracy is 0.9668161434977578\n",
            "--------------------------------------------------------\n",
            "Training bs64 lr0.001 \n",
            "Epoch 1/20: Training loss 0.649 , Val loss 0.588 , Training accuracy 0.923 , Val accuracy 0.877\n",
            "best model saved\n",
            "checkpoint model saved\n",
            "Epoch 2/20: Training loss 0.222 , Val loss 0.215 , Training accuracy 0.959 , Val accuracy 0.944\n",
            "best model saved\n",
            "Epoch 3/20: Training loss 0.142 , Val loss 0.157 , Training accuracy 0.966 , Val accuracy 0.964\n",
            "best model saved\n",
            "Epoch 4/20: Training loss 0.118 , Val loss 0.193 , Training accuracy 0.972 , Val accuracy 0.955\n",
            "Epoch     5: reducing learning rate of group 0 to 5.0000e-04.\n",
            "Epoch 5/20: Training loss 0.106 , Val loss 0.146 , Training accuracy 0.977 , Val accuracy 0.962\n",
            "Epoch 6/20: Training loss 0.083 , Val loss 0.128 , Training accuracy 0.981 , Val accuracy 0.968\n",
            "best model saved\n",
            "Epoch 7/20: Training loss 0.062 , Val loss 0.124 , Training accuracy 0.987 , Val accuracy 0.964\n",
            "Epoch 8/20: Training loss 0.069 , Val loss 0.115 , Training accuracy 0.987 , Val accuracy 0.970\n",
            "best model saved\n",
            "Epoch     9: reducing learning rate of group 0 to 2.5000e-04.\n",
            "Epoch 9/20: Training loss 0.057 , Val loss 0.146 , Training accuracy 0.983 , Val accuracy 0.962\n",
            "Epoch 10/20: Training loss 0.049 , Val loss 0.144 , Training accuracy 0.990 , Val accuracy 0.968\n",
            "Epoch 11/20: Training loss 0.043 , Val loss 0.131 , Training accuracy 0.992 , Val accuracy 0.968\n",
            "checkpoint model saved\n",
            "Epoch 12/20: Training loss 0.037 , Val loss 0.111 , Training accuracy 0.989 , Val accuracy 0.971\n",
            "best model saved\n",
            "Epoch    13: reducing learning rate of group 0 to 1.2500e-04.\n",
            "Epoch 13/20: Training loss 0.030 , Val loss 0.142 , Training accuracy 0.995 , Val accuracy 0.966\n",
            "Epoch 14/20: Training loss 0.023 , Val loss 0.119 , Training accuracy 0.996 , Val accuracy 0.970\n",
            "Epoch 15/20: Training loss 0.021 , Val loss 0.138 , Training accuracy 0.996 , Val accuracy 0.970\n",
            "Epoch 16/20: Training loss 0.019 , Val loss 0.120 , Training accuracy 0.998 , Val accuracy 0.970\n",
            "Epoch    17: reducing learning rate of group 0 to 6.2500e-05.\n",
            "Epoch 17/20: Training loss 0.016 , Val loss 0.135 , Training accuracy 0.999 , Val accuracy 0.968\n",
            "Epoch 18/20: Training loss 0.014 , Val loss 0.141 , Training accuracy 0.998 , Val accuracy 0.970\n",
            "Epoch 19/20: Training loss 0.013 , Val loss 0.139 , Training accuracy 0.999 , Val accuracy 0.968\n",
            "Epoch 20/20: Training loss 0.011 , Val loss 0.130 , Training accuracy 0.999 , Val accuracy 0.969\n",
            "Best training accuracy is 0.9993406955661777\n",
            "Best val accuracy is 0.9713004484304932\n",
            "--------------------------------------------------------\n",
            "Training bs64 lr0.0005 \n",
            "Epoch 1/20: Training loss 0.669 , Val loss 0.728 , Training accuracy 0.525 , Val accuracy 0.149\n",
            "best model saved\n",
            "checkpoint model saved\n",
            "Epoch 2/20: Training loss 0.360 , Val loss 0.230 , Training accuracy 0.956 , Val accuracy 0.955\n",
            "best model saved\n",
            "Epoch 3/20: Training loss 0.164 , Val loss 0.165 , Training accuracy 0.961 , Val accuracy 0.962\n",
            "best model saved\n",
            "Epoch 4/20: Training loss 0.135 , Val loss 0.154 , Training accuracy 0.967 , Val accuracy 0.965\n",
            "best model saved\n",
            "Epoch     5: reducing learning rate of group 0 to 2.5000e-04.\n",
            "Epoch 5/20: Training loss 0.125 , Val loss 0.143 , Training accuracy 0.970 , Val accuracy 0.964\n",
            "Epoch 6/20: Training loss 0.110 , Val loss 0.144 , Training accuracy 0.971 , Val accuracy 0.965\n",
            "best model saved\n",
            "Epoch 7/20: Training loss 0.103 , Val loss 0.142 , Training accuracy 0.974 , Val accuracy 0.965\n",
            "best model saved\n",
            "Epoch 8/20: Training loss 0.104 , Val loss 0.146 , Training accuracy 0.974 , Val accuracy 0.966\n",
            "best model saved\n",
            "Epoch     9: reducing learning rate of group 0 to 1.2500e-04.\n",
            "Epoch 9/20: Training loss 0.096 , Val loss 0.182 , Training accuracy 0.971 , Val accuracy 0.952\n",
            "Epoch 10/20: Training loss 0.089 , Val loss 0.154 , Training accuracy 0.978 , Val accuracy 0.964\n",
            "Epoch 11/20: Training loss 0.088 , Val loss 0.143 , Training accuracy 0.979 , Val accuracy 0.965\n",
            "checkpoint model saved\n",
            "Epoch 12/20: Training loss 0.087 , Val loss 0.112 , Training accuracy 0.973 , Val accuracy 0.970\n",
            "best model saved\n",
            "Epoch    13: reducing learning rate of group 0 to 6.2500e-05.\n",
            "Epoch 13/20: Training loss 0.077 , Val loss 0.136 , Training accuracy 0.980 , Val accuracy 0.964\n",
            "Epoch 14/20: Training loss 0.071 , Val loss 0.132 , Training accuracy 0.980 , Val accuracy 0.965\n",
            "Epoch 15/20: Training loss 0.072 , Val loss 0.140 , Training accuracy 0.981 , Val accuracy 0.966\n",
            "Epoch 16/20: Training loss 0.071 , Val loss 0.119 , Training accuracy 0.980 , Val accuracy 0.969\n",
            "Epoch    17: reducing learning rate of group 0 to 3.1250e-05.\n",
            "Epoch 17/20: Training loss 0.065 , Val loss 0.140 , Training accuracy 0.985 , Val accuracy 0.968\n",
            "Epoch 18/20: Training loss 0.063 , Val loss 0.125 , Training accuracy 0.983 , Val accuracy 0.967\n",
            "Epoch 19/20: Training loss 0.060 , Val loss 0.125 , Training accuracy 0.984 , Val accuracy 0.967\n",
            "Epoch 20/20: Training loss 0.062 , Val loss 0.134 , Training accuracy 0.983 , Val accuracy 0.967\n",
            "Best training accuracy is 0.9845063458051755\n",
            "Best val accuracy is 0.9704035874439462\n",
            "--------------------------------------------------------\n",
            "Training bs64 lr0.0001 \n",
            "Epoch 1/20: Training loss 0.692 , Val loss 0.709 , Training accuracy 0.524 , Val accuracy 0.147\n",
            "best model saved\n",
            "checkpoint model saved\n",
            "Epoch 2/20: Training loss 0.679 , Val loss 0.711 , Training accuracy 0.524 , Val accuracy 0.147\n",
            "best model saved\n",
            "Epoch 3/20: Training loss 0.634 , Val loss 0.637 , Training accuracy 0.781 , Val accuracy 0.858\n",
            "best model saved\n",
            "Epoch 4/20: Training loss 0.512 , Val loss 0.479 , Training accuracy 0.945 , Val accuracy 0.934\n",
            "best model saved\n",
            "Epoch     5: reducing learning rate of group 0 to 5.0000e-05.\n",
            "Epoch 5/20: Training loss 0.323 , Val loss 0.334 , Training accuracy 0.954 , Val accuracy 0.942\n",
            "best model saved\n",
            "Epoch 6/20: Training loss 0.236 , Val loss 0.261 , Training accuracy 0.949 , Val accuracy 0.949\n",
            "best model saved\n",
            "Epoch 7/20: Training loss 0.222 , Val loss 0.236 , Training accuracy 0.958 , Val accuracy 0.947\n",
            "Epoch 8/20: Training loss 0.234 , Val loss 0.215 , Training accuracy 0.956 , Val accuracy 0.953\n",
            "best model saved\n",
            "Epoch     9: reducing learning rate of group 0 to 2.5000e-05.\n",
            "Epoch 9/20: Training loss 0.184 , Val loss 0.606 , Training accuracy 0.827 , Val accuracy 0.697\n",
            "Epoch 10/20: Training loss 0.183 , Val loss 0.206 , Training accuracy 0.958 , Val accuracy 0.950\n",
            "Epoch 11/20: Training loss 0.158 , Val loss 0.181 , Training accuracy 0.960 , Val accuracy 0.952\n",
            "checkpoint model saved\n",
            "Epoch 12/20: Training loss 0.151 , Val loss 0.150 , Training accuracy 0.952 , Val accuracy 0.960\n",
            "best model saved\n",
            "Epoch    13: reducing learning rate of group 0 to 1.2500e-05.\n",
            "Epoch 13/20: Training loss 0.146 , Val loss 0.165 , Training accuracy 0.962 , Val accuracy 0.955\n",
            "Epoch 14/20: Training loss 0.142 , Val loss 0.162 , Training accuracy 0.961 , Val accuracy 0.953\n",
            "Epoch 15/20: Training loss 0.141 , Val loss 0.183 , Training accuracy 0.960 , Val accuracy 0.951\n",
            "Epoch 16/20: Training loss 0.138 , Val loss 0.151 , Training accuracy 0.963 , Val accuracy 0.958\n",
            "Epoch    17: reducing learning rate of group 0 to 6.2500e-06.\n",
            "Epoch 17/20: Training loss 0.140 , Val loss 0.164 , Training accuracy 0.961 , Val accuracy 0.953\n",
            "Epoch 18/20: Training loss 0.137 , Val loss 0.144 , Training accuracy 0.964 , Val accuracy 0.962\n",
            "best model saved\n",
            "Epoch 19/20: Training loss 0.133 , Val loss 0.151 , Training accuracy 0.963 , Val accuracy 0.956\n",
            "Epoch 20/20: Training loss 0.137 , Val loss 0.158 , Training accuracy 0.964 , Val accuracy 0.957\n",
            "Best training accuracy is 0.9637382561397725\n",
            "Best val accuracy is 0.9623318385650225\n"
          ]
        }
      ]
    },
    {
      "cell_type": "code",
      "source": [
        "# best val accuracy at 32 bs and 0.001 lr\n",
        "for hidden_layers in [64,128,256]:\n",
        "  for dropout in [0.1,0.25,0.5]:\n",
        "    print (\"--------------------------------------------------------\")\n",
        "    print (f\"Training hidden {hidden_layers} dropout {dropout} \")\n",
        "    SimpleRNN = RNN(hidden_layers,dropout)\n",
        "    train_rnn(SimpleRNN, train_data, val_data, num_epochs= 20, batch_size = 32, learning_rate=0.001, hidden_layers = hidden_layers, dropout = dropout, plot = False)\n"
      ],
      "metadata": {
        "colab": {
          "base_uri": "https://localhost:8080/"
        },
        "id": "Jl2qAmS8tanH",
        "outputId": "2ccf5eae-e68b-48de-a15c-90eacf41c784"
      },
      "execution_count": null,
      "outputs": [
        {
          "output_type": "stream",
          "name": "stdout",
          "text": [
            "--------------------------------------------------------\n",
            "Training hidden 64 dropout 0.1 \n",
            "Epoch 1/20: Training loss 0.454 , Val loss 0.122 , Training accuracy 0.952 , Val accuracy 0.964\n",
            "best model saved\n",
            "checkpoint model saved\n",
            "Epoch 2/20: Training loss 0.129 , Val loss 0.145 , Training accuracy 0.969 , Val accuracy 0.961\n",
            "Epoch 3/20: Training loss 0.106 , Val loss 0.154 , Training accuracy 0.972 , Val accuracy 0.958\n",
            "Epoch 4/20: Training loss 0.085 , Val loss 0.236 , Training accuracy 0.970 , Val accuracy 0.935\n",
            "Epoch 5/20: Training loss 0.072 , Val loss 0.120 , Training accuracy 0.985 , Val accuracy 0.966\n",
            "best model saved\n",
            "Epoch 6/20: Training loss 0.051 , Val loss 0.114 , Training accuracy 0.991 , Val accuracy 0.968\n",
            "best model saved\n",
            "Epoch 7/20: Training loss 0.043 , Val loss 0.105 , Training accuracy 0.945 , Val accuracy 0.968\n",
            "best model saved\n",
            "Epoch     8: reducing learning rate of group 0 to 5.0000e-04.\n",
            "Epoch 8/20: Training loss 0.052 , Val loss 0.104 , Training accuracy 0.991 , Val accuracy 0.971\n",
            "best model saved\n",
            "Epoch 9/20: Training loss 0.022 , Val loss 0.104 , Training accuracy 0.998 , Val accuracy 0.970\n",
            "Epoch 10/20: Training loss 0.016 , Val loss 0.119 , Training accuracy 0.999 , Val accuracy 0.966\n",
            "Epoch 11/20: Training loss 0.012 , Val loss 0.121 , Training accuracy 0.999 , Val accuracy 0.968\n",
            "checkpoint model saved\n",
            "Epoch    12: reducing learning rate of group 0 to 2.5000e-04.\n",
            "Epoch 12/20: Training loss 0.009 , Val loss 0.128 , Training accuracy 0.999 , Val accuracy 0.970\n",
            "Epoch 13/20: Training loss 0.005 , Val loss 0.124 , Training accuracy 1.000 , Val accuracy 0.969\n",
            "Epoch 14/20: Training loss 0.004 , Val loss 0.138 , Training accuracy 1.000 , Val accuracy 0.968\n",
            "Epoch 15/20: Training loss 0.004 , Val loss 0.137 , Training accuracy 1.000 , Val accuracy 0.972\n",
            "best model saved\n",
            "Epoch    16: reducing learning rate of group 0 to 1.2500e-04.\n",
            "Epoch 16/20: Training loss 0.003 , Val loss 0.136 , Training accuracy 1.000 , Val accuracy 0.971\n",
            "Epoch 17/20: Training loss 0.003 , Val loss 0.135 , Training accuracy 1.000 , Val accuracy 0.968\n",
            "Epoch 18/20: Training loss 0.002 , Val loss 0.152 , Training accuracy 1.000 , Val accuracy 0.966\n",
            "Epoch 19/20: Training loss 0.002 , Val loss 0.152 , Training accuracy 1.000 , Val accuracy 0.971\n",
            "Epoch    20: reducing learning rate of group 0 to 6.2500e-05.\n",
            "Epoch 20/20: Training loss 0.002 , Val loss 0.154 , Training accuracy 1.000 , Val accuracy 0.968\n",
            "Best training accuracy is 1.0\n",
            "Best val accuracy is 0.9721973094170404\n",
            "--------------------------------------------------------\n",
            "Training hidden 64 dropout 0.25 \n",
            "Epoch 1/20: Training loss 0.459 , Val loss 0.123 , Training accuracy 0.949 , Val accuracy 0.965\n",
            "best model saved\n",
            "checkpoint model saved\n",
            "Epoch 2/20: Training loss 0.130 , Val loss 0.168 , Training accuracy 0.970 , Val accuracy 0.957\n",
            "Epoch 3/20: Training loss 0.105 , Val loss 0.146 , Training accuracy 0.975 , Val accuracy 0.956\n",
            "Epoch 4/20: Training loss 0.080 , Val loss 0.245 , Training accuracy 0.970 , Val accuracy 0.934\n",
            "Epoch 5/20: Training loss 0.071 , Val loss 0.126 , Training accuracy 0.986 , Val accuracy 0.966\n",
            "best model saved\n",
            "Epoch 6/20: Training loss 0.051 , Val loss 0.110 , Training accuracy 0.990 , Val accuracy 0.967\n",
            "best model saved\n",
            "Epoch 7/20: Training loss 0.037 , Val loss 0.116 , Training accuracy 0.991 , Val accuracy 0.974\n",
            "best model saved\n",
            "Epoch     8: reducing learning rate of group 0 to 5.0000e-04.\n",
            "Epoch 8/20: Training loss 0.034 , Val loss 0.113 , Training accuracy 0.994 , Val accuracy 0.977\n",
            "best model saved\n",
            "Epoch 9/20: Training loss 0.013 , Val loss 0.113 , Training accuracy 1.000 , Val accuracy 0.971\n",
            "Epoch 10/20: Training loss 0.009 , Val loss 0.134 , Training accuracy 0.999 , Val accuracy 0.967\n",
            "Epoch 11/20: Training loss 0.008 , Val loss 0.124 , Training accuracy 1.000 , Val accuracy 0.969\n",
            "checkpoint model saved\n",
            "Epoch    12: reducing learning rate of group 0 to 2.5000e-04.\n",
            "Epoch 12/20: Training loss 0.006 , Val loss 0.152 , Training accuracy 0.999 , Val accuracy 0.974\n",
            "Epoch 13/20: Training loss 0.004 , Val loss 0.140 , Training accuracy 1.000 , Val accuracy 0.967\n",
            "Epoch 14/20: Training loss 0.003 , Val loss 0.154 , Training accuracy 1.000 , Val accuracy 0.970\n",
            "Epoch 15/20: Training loss 0.003 , Val loss 0.155 , Training accuracy 1.000 , Val accuracy 0.969\n",
            "Epoch    16: reducing learning rate of group 0 to 1.2500e-04.\n",
            "Epoch 16/20: Training loss 0.004 , Val loss 0.151 , Training accuracy 1.000 , Val accuracy 0.970\n",
            "Epoch 17/20: Training loss 0.003 , Val loss 0.161 , Training accuracy 1.000 , Val accuracy 0.970\n",
            "Epoch 18/20: Training loss 0.002 , Val loss 0.189 , Training accuracy 1.000 , Val accuracy 0.966\n",
            "Epoch 19/20: Training loss 0.002 , Val loss 0.162 , Training accuracy 1.000 , Val accuracy 0.970\n",
            "Epoch    20: reducing learning rate of group 0 to 6.2500e-05.\n",
            "Epoch 20/20: Training loss 0.002 , Val loss 0.169 , Training accuracy 1.000 , Val accuracy 0.968\n",
            "Best training accuracy is 1.0\n",
            "Best val accuracy is 0.9766816143497757\n",
            "--------------------------------------------------------\n",
            "Training hidden 64 dropout 0.5 \n",
            "Epoch 1/20: Training loss 0.486 , Val loss 0.161 , Training accuracy 0.955 , Val accuracy 0.961\n",
            "best model saved\n",
            "checkpoint model saved\n",
            "Epoch 2/20: Training loss 0.144 , Val loss 0.161 , Training accuracy 0.965 , Val accuracy 0.963\n",
            "best model saved\n",
            "Epoch 3/20: Training loss 0.122 , Val loss 0.168 , Training accuracy 0.972 , Val accuracy 0.957\n",
            "Epoch 4/20: Training loss 0.097 , Val loss 0.247 , Training accuracy 0.971 , Val accuracy 0.935\n",
            "Epoch 5/20: Training loss 0.083 , Val loss 0.120 , Training accuracy 0.986 , Val accuracy 0.968\n",
            "best model saved\n",
            "Epoch 6/20: Training loss 0.066 , Val loss 0.115 , Training accuracy 0.985 , Val accuracy 0.969\n",
            "best model saved\n",
            "Epoch 7/20: Training loss 0.056 , Val loss 0.115 , Training accuracy 0.987 , Val accuracy 0.973\n",
            "best model saved\n",
            "Epoch     8: reducing learning rate of group 0 to 5.0000e-04.\n",
            "Epoch 8/20: Training loss 0.046 , Val loss 0.122 , Training accuracy 0.990 , Val accuracy 0.975\n",
            "best model saved\n",
            "Epoch 9/20: Training loss 0.025 , Val loss 0.123 , Training accuracy 0.998 , Val accuracy 0.972\n",
            "Epoch 10/20: Training loss 0.019 , Val loss 0.116 , Training accuracy 0.995 , Val accuracy 0.974\n",
            "Epoch 11/20: Training loss 0.014 , Val loss 0.170 , Training accuracy 0.999 , Val accuracy 0.968\n",
            "checkpoint model saved\n",
            "Epoch    12: reducing learning rate of group 0 to 2.5000e-04.\n",
            "Epoch 12/20: Training loss 0.014 , Val loss 0.160 , Training accuracy 0.999 , Val accuracy 0.971\n",
            "Epoch 13/20: Training loss 0.009 , Val loss 0.166 , Training accuracy 1.000 , Val accuracy 0.969\n",
            "Epoch 14/20: Training loss 0.008 , Val loss 0.180 , Training accuracy 1.000 , Val accuracy 0.971\n",
            "Epoch 15/20: Training loss 0.007 , Val loss 0.171 , Training accuracy 1.000 , Val accuracy 0.967\n",
            "Epoch    16: reducing learning rate of group 0 to 1.2500e-04.\n",
            "Epoch 16/20: Training loss 0.009 , Val loss 0.187 , Training accuracy 1.000 , Val accuracy 0.970\n",
            "Epoch 17/20: Training loss 0.005 , Val loss 0.187 , Training accuracy 1.000 , Val accuracy 0.970\n",
            "Epoch 18/20: Training loss 0.004 , Val loss 0.205 , Training accuracy 1.000 , Val accuracy 0.969\n",
            "Epoch 19/20: Training loss 0.004 , Val loss 0.192 , Training accuracy 1.000 , Val accuracy 0.970\n",
            "Epoch    20: reducing learning rate of group 0 to 6.2500e-05.\n",
            "Epoch 20/20: Training loss 0.004 , Val loss 0.189 , Training accuracy 1.000 , Val accuracy 0.970\n",
            "Best training accuracy is 1.0\n",
            "Best val accuracy is 0.9748878923766816\n",
            "--------------------------------------------------------\n",
            "Training hidden 128 dropout 0.1 \n",
            "Epoch 1/20: Training loss 0.378 , Val loss 0.116 , Training accuracy 0.955 , Val accuracy 0.967\n",
            "best model saved\n",
            "checkpoint model saved\n",
            "Epoch 2/20: Training loss 0.115 , Val loss 0.170 , Training accuracy 0.969 , Val accuracy 0.952\n",
            "Epoch 3/20: Training loss 0.087 , Val loss 0.111 , Training accuracy 0.980 , Val accuracy 0.970\n",
            "best model saved\n",
            "Epoch 4/20: Training loss 0.061 , Val loss 0.182 , Training accuracy 0.981 , Val accuracy 0.948\n",
            "Epoch 5/20: Training loss 0.036 , Val loss 0.098 , Training accuracy 0.996 , Val accuracy 0.973\n",
            "best model saved\n",
            "Epoch 6/20: Training loss 0.021 , Val loss 0.113 , Training accuracy 0.997 , Val accuracy 0.973\n",
            "best model saved\n",
            "Epoch 7/20: Training loss 0.020 , Val loss 0.101 , Training accuracy 0.992 , Val accuracy 0.969\n",
            "Epoch     8: reducing learning rate of group 0 to 5.0000e-04.\n",
            "Epoch 8/20: Training loss 0.034 , Val loss 0.097 , Training accuracy 0.995 , Val accuracy 0.978\n",
            "best model saved\n",
            "Epoch 9/20: Training loss 0.008 , Val loss 0.083 , Training accuracy 1.000 , Val accuracy 0.975\n",
            "Epoch 10/20: Training loss 0.003 , Val loss 0.096 , Training accuracy 1.000 , Val accuracy 0.975\n",
            "Epoch 11/20: Training loss 0.002 , Val loss 0.098 , Training accuracy 1.000 , Val accuracy 0.975\n",
            "checkpoint model saved\n",
            "Epoch    12: reducing learning rate of group 0 to 2.5000e-04.\n",
            "Epoch 12/20: Training loss 0.002 , Val loss 0.099 , Training accuracy 1.000 , Val accuracy 0.974\n",
            "Epoch 13/20: Training loss 0.001 , Val loss 0.109 , Training accuracy 1.000 , Val accuracy 0.975\n",
            "Epoch 14/20: Training loss 0.001 , Val loss 0.109 , Training accuracy 1.000 , Val accuracy 0.974\n",
            "Epoch 15/20: Training loss 0.001 , Val loss 0.112 , Training accuracy 1.000 , Val accuracy 0.975\n",
            "Epoch    16: reducing learning rate of group 0 to 1.2500e-04.\n",
            "Epoch 16/20: Training loss 0.001 , Val loss 0.112 , Training accuracy 1.000 , Val accuracy 0.975\n",
            "Epoch 17/20: Training loss 0.001 , Val loss 0.117 , Training accuracy 1.000 , Val accuracy 0.974\n",
            "Epoch 18/20: Training loss 0.001 , Val loss 0.121 , Training accuracy 1.000 , Val accuracy 0.975\n",
            "Epoch 19/20: Training loss 0.001 , Val loss 0.116 , Training accuracy 1.000 , Val accuracy 0.975\n",
            "Epoch    20: reducing learning rate of group 0 to 6.2500e-05.\n",
            "Epoch 20/20: Training loss 0.000 , Val loss 0.120 , Training accuracy 1.000 , Val accuracy 0.975\n",
            "Best training accuracy is 1.0\n",
            "Best val accuracy is 0.9775784753363229\n",
            "--------------------------------------------------------\n",
            "Training hidden 128 dropout 0.25 \n",
            "Epoch 1/20: Training loss 0.367 , Val loss 0.116 , Training accuracy 0.955 , Val accuracy 0.965\n",
            "best model saved\n",
            "checkpoint model saved\n",
            "Epoch 2/20: Training loss 0.119 , Val loss 0.152 , Training accuracy 0.972 , Val accuracy 0.960\n",
            "Epoch 3/20: Training loss 0.093 , Val loss 0.111 , Training accuracy 0.976 , Val accuracy 0.968\n",
            "best model saved\n",
            "Epoch 4/20: Training loss 0.071 , Val loss 0.167 , Training accuracy 0.984 , Val accuracy 0.958\n",
            "Epoch 5/20: Training loss 0.050 , Val loss 0.102 , Training accuracy 0.993 , Val accuracy 0.970\n",
            "best model saved\n",
            "Epoch 6/20: Training loss 0.035 , Val loss 0.089 , Training accuracy 0.998 , Val accuracy 0.973\n",
            "best model saved\n",
            "Epoch 7/20: Training loss 0.026 , Val loss 0.117 , Training accuracy 0.970 , Val accuracy 0.978\n",
            "best model saved\n",
            "Epoch     8: reducing learning rate of group 0 to 5.0000e-04.\n",
            "Epoch 8/20: Training loss 0.025 , Val loss 0.110 , Training accuracy 0.998 , Val accuracy 0.975\n",
            "Epoch 9/20: Training loss 0.006 , Val loss 0.106 , Training accuracy 1.000 , Val accuracy 0.974\n",
            "Epoch 10/20: Training loss 0.004 , Val loss 0.122 , Training accuracy 1.000 , Val accuracy 0.972\n",
            "Epoch 11/20: Training loss 0.003 , Val loss 0.114 , Training accuracy 1.000 , Val accuracy 0.973\n",
            "checkpoint model saved\n",
            "Epoch    12: reducing learning rate of group 0 to 2.5000e-04.\n",
            "Epoch 12/20: Training loss 0.002 , Val loss 0.120 , Training accuracy 1.000 , Val accuracy 0.977\n",
            "Epoch 13/20: Training loss 0.001 , Val loss 0.120 , Training accuracy 1.000 , Val accuracy 0.973\n",
            "Epoch 14/20: Training loss 0.001 , Val loss 0.133 , Training accuracy 1.000 , Val accuracy 0.973\n",
            "Epoch 15/20: Training loss 0.001 , Val loss 0.134 , Training accuracy 1.000 , Val accuracy 0.976\n",
            "Epoch    16: reducing learning rate of group 0 to 1.2500e-04.\n",
            "Epoch 16/20: Training loss 0.001 , Val loss 0.141 , Training accuracy 1.000 , Val accuracy 0.975\n",
            "Epoch 17/20: Training loss 0.001 , Val loss 0.141 , Training accuracy 1.000 , Val accuracy 0.974\n",
            "Epoch 18/20: Training loss 0.001 , Val loss 0.151 , Training accuracy 1.000 , Val accuracy 0.973\n",
            "Epoch 19/20: Training loss 0.001 , Val loss 0.146 , Training accuracy 1.000 , Val accuracy 0.975\n",
            "Epoch    20: reducing learning rate of group 0 to 6.2500e-05.\n",
            "Epoch 20/20: Training loss 0.001 , Val loss 0.148 , Training accuracy 1.000 , Val accuracy 0.974\n",
            "Best training accuracy is 1.0\n",
            "Best val accuracy is 0.9775784753363229\n",
            "--------------------------------------------------------\n",
            "Training hidden 128 dropout 0.5 \n",
            "Epoch 1/20: Training loss 0.428 , Val loss 0.128 , Training accuracy 0.946 , Val accuracy 0.961\n",
            "best model saved\n",
            "checkpoint model saved\n",
            "Epoch 2/20: Training loss 0.134 , Val loss 0.193 , Training accuracy 0.970 , Val accuracy 0.956\n",
            "Epoch 3/20: Training loss 0.118 , Val loss 0.153 , Training accuracy 0.980 , Val accuracy 0.962\n",
            "best model saved\n",
            "Epoch 4/20: Training loss 0.079 , Val loss 0.207 , Training accuracy 0.976 , Val accuracy 0.948\n",
            "Epoch 5/20: Training loss 0.068 , Val loss 0.126 , Training accuracy 0.990 , Val accuracy 0.964\n",
            "best model saved\n",
            "Epoch 6/20: Training loss 0.053 , Val loss 0.127 , Training accuracy 0.995 , Val accuracy 0.967\n",
            "best model saved\n",
            "Epoch 7/20: Training loss 0.047 , Val loss 0.120 , Training accuracy 0.969 , Val accuracy 0.973\n",
            "best model saved\n",
            "Epoch     8: reducing learning rate of group 0 to 5.0000e-04.\n",
            "Epoch 8/20: Training loss 0.056 , Val loss 0.114 , Training accuracy 0.993 , Val accuracy 0.977\n",
            "best model saved\n",
            "Epoch 9/20: Training loss 0.028 , Val loss 0.142 , Training accuracy 0.995 , Val accuracy 0.970\n",
            "Epoch 10/20: Training loss 0.019 , Val loss 0.116 , Training accuracy 0.999 , Val accuracy 0.970\n",
            "Epoch 11/20: Training loss 0.013 , Val loss 0.127 , Training accuracy 0.999 , Val accuracy 0.970\n",
            "checkpoint model saved\n",
            "Epoch    12: reducing learning rate of group 0 to 2.5000e-04.\n",
            "Epoch 12/20: Training loss 0.010 , Val loss 0.125 , Training accuracy 1.000 , Val accuracy 0.975\n",
            "Epoch 13/20: Training loss 0.006 , Val loss 0.162 , Training accuracy 1.000 , Val accuracy 0.970\n",
            "Epoch 14/20: Training loss 0.006 , Val loss 0.151 , Training accuracy 1.000 , Val accuracy 0.970\n",
            "Epoch 15/20: Training loss 0.005 , Val loss 0.148 , Training accuracy 1.000 , Val accuracy 0.970\n",
            "Epoch    16: reducing learning rate of group 0 to 1.2500e-04.\n",
            "Epoch 16/20: Training loss 0.007 , Val loss 0.161 , Training accuracy 1.000 , Val accuracy 0.972\n",
            "Epoch 17/20: Training loss 0.003 , Val loss 0.171 , Training accuracy 1.000 , Val accuracy 0.974\n",
            "Epoch 18/20: Training loss 0.003 , Val loss 0.170 , Training accuracy 1.000 , Val accuracy 0.970\n",
            "Epoch 19/20: Training loss 0.003 , Val loss 0.172 , Training accuracy 1.000 , Val accuracy 0.975\n",
            "Epoch    20: reducing learning rate of group 0 to 6.2500e-05.\n",
            "Epoch 20/20: Training loss 0.002 , Val loss 0.178 , Training accuracy 1.000 , Val accuracy 0.973\n",
            "Best training accuracy is 1.0\n",
            "Best val accuracy is 0.9766816143497757\n",
            "--------------------------------------------------------\n",
            "Training hidden 256 dropout 0.1 \n",
            "Epoch 1/20: Training loss 0.363 , Val loss 0.114 , Training accuracy 0.957 , Val accuracy 0.965\n",
            "best model saved\n",
            "checkpoint model saved\n",
            "Epoch 2/20: Training loss 0.110 , Val loss 0.235 , Training accuracy 0.967 , Val accuracy 0.931\n",
            "Epoch 3/20: Training loss 0.075 , Val loss 0.093 , Training accuracy 0.980 , Val accuracy 0.973\n",
            "best model saved\n",
            "Epoch 4/20: Training loss 0.051 , Val loss 0.192 , Training accuracy 0.985 , Val accuracy 0.946\n",
            "Epoch 5/20: Training loss 0.028 , Val loss 0.095 , Training accuracy 1.000 , Val accuracy 0.975\n",
            "best model saved\n",
            "Epoch     6: reducing learning rate of group 0 to 5.0000e-04.\n",
            "Epoch 6/20: Training loss 0.025 , Val loss 0.082 , Training accuracy 0.995 , Val accuracy 0.974\n",
            "Epoch 7/20: Training loss 0.015 , Val loss 0.084 , Training accuracy 1.000 , Val accuracy 0.976\n",
            "best model saved\n",
            "Epoch 8/20: Training loss 0.004 , Val loss 0.092 , Training accuracy 1.000 , Val accuracy 0.977\n",
            "best model saved\n",
            "Epoch 9/20: Training loss 0.002 , Val loss 0.100 , Training accuracy 1.000 , Val accuracy 0.975\n",
            "Epoch    10: reducing learning rate of group 0 to 2.5000e-04.\n",
            "Epoch 10/20: Training loss 0.001 , Val loss 0.112 , Training accuracy 1.000 , Val accuracy 0.976\n",
            "Epoch 11/20: Training loss 0.001 , Val loss 0.117 , Training accuracy 1.000 , Val accuracy 0.975\n",
            "checkpoint model saved\n",
            "Epoch 12/20: Training loss 0.001 , Val loss 0.109 , Training accuracy 1.000 , Val accuracy 0.976\n",
            "Epoch 13/20: Training loss 0.001 , Val loss 0.117 , Training accuracy 1.000 , Val accuracy 0.976\n",
            "Epoch    14: reducing learning rate of group 0 to 1.2500e-04.\n",
            "Epoch 14/20: Training loss 0.000 , Val loss 0.121 , Training accuracy 1.000 , Val accuracy 0.976\n",
            "Epoch 15/20: Training loss 0.000 , Val loss 0.124 , Training accuracy 1.000 , Val accuracy 0.976\n",
            "Epoch 16/20: Training loss 0.000 , Val loss 0.129 , Training accuracy 1.000 , Val accuracy 0.976\n",
            "Epoch 17/20: Training loss 0.000 , Val loss 0.122 , Training accuracy 1.000 , Val accuracy 0.976\n",
            "Epoch    18: reducing learning rate of group 0 to 6.2500e-05.\n",
            "Epoch 18/20: Training loss 0.000 , Val loss 0.132 , Training accuracy 1.000 , Val accuracy 0.975\n",
            "Epoch 19/20: Training loss 0.000 , Val loss 0.128 , Training accuracy 1.000 , Val accuracy 0.976\n",
            "Epoch 20/20: Training loss 0.000 , Val loss 0.127 , Training accuracy 1.000 , Val accuracy 0.975\n",
            "Best training accuracy is 1.0\n",
            "Best val accuracy is 0.9766816143497757\n",
            "--------------------------------------------------------\n",
            "Training hidden 256 dropout 0.25 \n",
            "Epoch 1/20: Training loss 0.387 , Val loss 0.105 , Training accuracy 0.956 , Val accuracy 0.969\n",
            "best model saved\n",
            "checkpoint model saved\n",
            "Epoch 2/20: Training loss 0.111 , Val loss 0.189 , Training accuracy 0.969 , Val accuracy 0.943\n",
            "Epoch 3/20: Training loss 0.080 , Val loss 0.092 , Training accuracy 0.982 , Val accuracy 0.974\n",
            "best model saved\n",
            "Epoch 4/20: Training loss 0.057 , Val loss 0.193 , Training accuracy 0.981 , Val accuracy 0.944\n",
            "Epoch 5/20: Training loss 0.038 , Val loss 0.098 , Training accuracy 0.998 , Val accuracy 0.975\n",
            "best model saved\n",
            "Epoch     6: reducing learning rate of group 0 to 5.0000e-04.\n",
            "Epoch 6/20: Training loss 0.022 , Val loss 0.094 , Training accuracy 0.994 , Val accuracy 0.976\n",
            "best model saved\n",
            "Epoch 7/20: Training loss 0.011 , Val loss 0.104 , Training accuracy 1.000 , Val accuracy 0.976\n",
            "best model saved\n",
            "Epoch 8/20: Training loss 0.003 , Val loss 0.123 , Training accuracy 1.000 , Val accuracy 0.978\n",
            "best model saved\n",
            "Epoch 9/20: Training loss 0.002 , Val loss 0.131 , Training accuracy 1.000 , Val accuracy 0.978\n",
            "best model saved\n",
            "Epoch    10: reducing learning rate of group 0 to 2.5000e-04.\n",
            "Epoch 10/20: Training loss 0.002 , Val loss 0.126 , Training accuracy 1.000 , Val accuracy 0.975\n",
            "Epoch 11/20: Training loss 0.001 , Val loss 0.145 , Training accuracy 1.000 , Val accuracy 0.975\n",
            "checkpoint model saved\n",
            "Epoch 12/20: Training loss 0.001 , Val loss 0.138 , Training accuracy 1.000 , Val accuracy 0.978\n",
            "best model saved\n",
            "Epoch 13/20: Training loss 0.001 , Val loss 0.140 , Training accuracy 1.000 , Val accuracy 0.978\n",
            "best model saved\n",
            "Epoch    14: reducing learning rate of group 0 to 1.2500e-04.\n",
            "Epoch 14/20: Training loss 0.000 , Val loss 0.146 , Training accuracy 1.000 , Val accuracy 0.977\n",
            "Epoch 15/20: Training loss 0.000 , Val loss 0.151 , Training accuracy 1.000 , Val accuracy 0.976\n",
            "Epoch 16/20: Training loss 0.000 , Val loss 0.143 , Training accuracy 1.000 , Val accuracy 0.975\n",
            "Epoch 17/20: Training loss 0.000 , Val loss 0.147 , Training accuracy 1.000 , Val accuracy 0.976\n",
            "Epoch    18: reducing learning rate of group 0 to 6.2500e-05.\n",
            "Epoch 18/20: Training loss 0.000 , Val loss 0.156 , Training accuracy 1.000 , Val accuracy 0.975\n",
            "Epoch 19/20: Training loss 0.000 , Val loss 0.148 , Training accuracy 1.000 , Val accuracy 0.976\n",
            "Epoch 20/20: Training loss 0.000 , Val loss 0.164 , Training accuracy 1.000 , Val accuracy 0.975\n",
            "Best training accuracy is 1.0\n",
            "Best val accuracy is 0.9775784753363229\n",
            "--------------------------------------------------------\n",
            "Training hidden 256 dropout 0.5 \n",
            "Epoch 1/20: Training loss 0.409 , Val loss 0.127 , Training accuracy 0.953 , Val accuracy 0.965\n",
            "best model saved\n",
            "checkpoint model saved\n",
            "Epoch 2/20: Training loss 0.129 , Val loss 0.221 , Training accuracy 0.967 , Val accuracy 0.936\n",
            "Epoch 3/20: Training loss 0.119 , Val loss 0.131 , Training accuracy 0.977 , Val accuracy 0.968\n",
            "best model saved\n",
            "Epoch 4/20: Training loss 0.089 , Val loss 0.234 , Training accuracy 0.975 , Val accuracy 0.942\n",
            "Epoch 5/20: Training loss 0.065 , Val loss 0.130 , Training accuracy 0.989 , Val accuracy 0.963\n",
            "Epoch     6: reducing learning rate of group 0 to 5.0000e-04.\n",
            "Epoch 6/20: Training loss 0.050 , Val loss 0.120 , Training accuracy 0.995 , Val accuracy 0.970\n",
            "best model saved\n",
            "Epoch 7/20: Training loss 0.026 , Val loss 0.108 , Training accuracy 0.998 , Val accuracy 0.975\n",
            "best model saved\n",
            "Epoch 8/20: Training loss 0.015 , Val loss 0.138 , Training accuracy 0.998 , Val accuracy 0.976\n",
            "best model saved\n",
            "Epoch 9/20: Training loss 0.011 , Val loss 0.127 , Training accuracy 1.000 , Val accuracy 0.977\n",
            "best model saved\n",
            "Epoch    10: reducing learning rate of group 0 to 2.5000e-04.\n",
            "Epoch 10/20: Training loss 0.009 , Val loss 0.144 , Training accuracy 1.000 , Val accuracy 0.976\n",
            "Epoch 11/20: Training loss 0.005 , Val loss 0.134 , Training accuracy 1.000 , Val accuracy 0.977\n",
            "best model saved\n",
            "checkpoint model saved\n",
            "Epoch 12/20: Training loss 0.003 , Val loss 0.160 , Training accuracy 1.000 , Val accuracy 0.978\n",
            "best model saved\n",
            "Epoch 13/20: Training loss 0.004 , Val loss 0.135 , Training accuracy 1.000 , Val accuracy 0.975\n",
            "Epoch    14: reducing learning rate of group 0 to 1.2500e-04.\n",
            "Epoch 14/20: Training loss 0.002 , Val loss 0.172 , Training accuracy 1.000 , Val accuracy 0.977\n",
            "Epoch 15/20: Training loss 0.001 , Val loss 0.169 , Training accuracy 1.000 , Val accuracy 0.976\n",
            "Epoch 16/20: Training loss 0.001 , Val loss 0.173 , Training accuracy 1.000 , Val accuracy 0.975\n",
            "Epoch 17/20: Training loss 0.001 , Val loss 0.179 , Training accuracy 1.000 , Val accuracy 0.975\n",
            "Epoch    18: reducing learning rate of group 0 to 6.2500e-05.\n",
            "Epoch 18/20: Training loss 0.001 , Val loss 0.208 , Training accuracy 1.000 , Val accuracy 0.975\n",
            "Epoch 19/20: Training loss 0.001 , Val loss 0.171 , Training accuracy 1.000 , Val accuracy 0.974\n",
            "Epoch 20/20: Training loss 0.001 , Val loss 0.184 , Training accuracy 1.000 , Val accuracy 0.976\n",
            "Best training accuracy is 1.0\n",
            "Best val accuracy is 0.9775784753363229\n"
          ]
        }
      ]
    },
    {
      "cell_type": "markdown",
      "metadata": {
        "id": "v7DY56rKa91I"
      },
      "source": [
        "### Part (d) [2 pt]\n",
        "\n",
        "Before we deploy a machine learning model, we usually want to have a better understanding\n",
        "of how our model performs beyond its validation accuracy. An important metric to track is\n",
        "*how well our model performs in certain subsets of the data*.\n",
        "\n",
        "In particular, what is the model's error rate amongst data with negative labels?\n",
        "This is called the **false positive rate**.\n",
        "\n",
        "What about the model's error rate amongst data with positive labels?\n",
        "This is called the **false negative rate**.\n",
        "\n",
        "Report your final model's false positive and false negative rate across the\n",
        "validation set."
      ]
    },
    {
      "cell_type": "code",
      "execution_count": null,
      "metadata": {
        "id": "7ggbQSdba91J",
        "jupyter": {
          "outputs_hidden": true
        },
        "colab": {
          "base_uri": "https://localhost:8080/"
        },
        "outputId": "d077ca15-2ff0-4c0e-9869-b910e394eb21"
      },
      "outputs": [
        {
          "output_type": "stream",
          "name": "stdout",
          "text": [
            "False positive rate on val dataset is 0.946%\n",
            "False negative rate on val dataset is 10.976%\n"
          ]
        }
      ],
      "source": [
        "# Create a Dataset of only spam validation examples\n",
        "valid_spam = torchtext.legacy.data.Dataset(\n",
        "    [e for e in val_data.examples if e.label == 1],\n",
        "    val_data.fields)\n",
        "# Create a Dataset of only non-spam validation examples\n",
        "valid_nospam = torchtext.legacy.data.Dataset(\n",
        "    [e for e in val_data.examples if e.label == 0],\n",
        "    val_data.fields)\n",
        "\n",
        "val_spam= torchtext.legacy.data.BucketIterator(\n",
        "                    valid_spam,\n",
        "                    batch_size=32,\n",
        "                    sort_key=lambda x: len(x.sms), \n",
        "                    sort_within_batch=True,        \n",
        "                    repeat=False)                  \n",
        "\n",
        "val_nospam = torchtext.legacy.data.BucketIterator(\n",
        "                    valid_nospam,\n",
        "                    batch_size=32,\n",
        "                    sort_key=lambda x: len(x.sms), \n",
        "                    sort_within_batch=True,        \n",
        "                    repeat=False)                  \n",
        "#best model from hyperparameter testing\n",
        "model = RNN(256,0.5)\n",
        "model.load_state_dict(torch.load('/content/backup/model_RNN_bs32_lr0.001_epochs20_hidden256_dropout0.5/best.pth'))\n",
        "model.to(device)\n",
        "false_positive_rate = 1 - get_accuracy(model, val_nospam)\n",
        "false_negative_rate = 1 - get_accuracy(model, val_spam)\n",
        "\n",
        "print(f\"False positive rate on val dataset is {false_positive_rate*100:.3f}%\")\n",
        "print(f\"False negative rate on val dataset is {false_negative_rate*100:.3f}%\")"
      ]
    },
    {
      "cell_type": "markdown",
      "metadata": {
        "id": "N1iRteb3a91O"
      },
      "source": [
        "### Part (e) [2 pt]\n",
        "\n",
        "The impact of a false positive vs a false negative can be drastically different.\n",
        "If our spam detection algorithm was deployed on your phone, what is the impact\n",
        "of a false positive on the phone's user? What is the impact of a false negative?"
      ]
    },
    {
      "cell_type": "markdown",
      "source": [
        "False positive would mean the algorithm detects it as spam when it is not, leading to important messahes being missed. This is much worse than a false negative, where the alogrithm would flag a spam message as a normal message, resulting in some spam messages in inbox."
      ],
      "metadata": {
        "id": "IoovN-4OvGnf"
      }
    },
    {
      "cell_type": "markdown",
      "metadata": {
        "id": "Gznefulsa91V"
      },
      "source": [
        "## Part 4. Evaluation [11 pt]\n",
        "\n",
        "### Part (a) [1 pt]\n",
        "\n",
        "Report the final test accuracy of your model."
      ]
    },
    {
      "cell_type": "code",
      "execution_count": null,
      "metadata": {
        "id": "D5L5D-A1a91W",
        "jupyter": {
          "outputs_hidden": true
        },
        "colab": {
          "base_uri": "https://localhost:8080/"
        },
        "outputId": "f1c1d04e-da39-462f-cd8c-91895cf1c749"
      },
      "outputs": [
        {
          "output_type": "stream",
          "name": "stdout",
          "text": [
            "Test accuracy is 97.846%\n"
          ]
        }
      ],
      "source": [
        "#since model is loaded...\n",
        "\n",
        "test = torchtext.legacy.data.BucketIterator(\n",
        "                    test_data,\n",
        "                    batch_size=1,\n",
        "                    sort_key=lambda x: len(x.sms), \n",
        "                    sort_within_batch=True,        \n",
        "                    repeat=False)\n",
        "\n",
        "test_accuracy = get_accuracy(model, test)\n",
        "print(f\"Test accuracy is {test_accuracy*100:.3f}%\")"
      ]
    },
    {
      "cell_type": "markdown",
      "metadata": {
        "id": "6Hjmd8rca91Y"
      },
      "source": [
        "### Part (b) [3 pt]\n",
        "\n",
        "Report the false positive rate and false negative rate of your model across the test set."
      ]
    },
    {
      "cell_type": "code",
      "execution_count": null,
      "metadata": {
        "id": "GFiAKztJa91Z",
        "jupyter": {
          "outputs_hidden": true
        },
        "colab": {
          "base_uri": "https://localhost:8080/"
        },
        "outputId": "40db03b9-8321-4506-cdf6-51a19877ee58"
      },
      "outputs": [
        {
          "output_type": "stream",
          "name": "stdout",
          "text": [
            "False positive rate on test dataset is 1.320%\n",
            "False negative rate on test dataset is 8.527%\n"
          ]
        }
      ],
      "source": [
        "#since model is loaded...\n",
        "\n",
        "test_spam = torchtext.legacy.data.Dataset(\n",
        "    [e for e in test_data.examples if e.label == 1],\n",
        "    test_data.fields)\n",
        "test_nospam = torchtext.legacy.data.Dataset(\n",
        "    [e for e in test_data.examples if e.label == 0],\n",
        "    test_data.fields)\n",
        "\n",
        "test_spam_loader= torchtext.legacy.data.BucketIterator(\n",
        "                    test_spam,\n",
        "                    batch_size=1,\n",
        "                    sort_key=lambda x: len(x.sms), # to minimize padding\n",
        "                    sort_within_batch=True,        # sort within each batch\n",
        "                    repeat=False)                  # repeat the iterator for many epochs\n",
        "\n",
        "test_nospam_loader = torchtext.legacy.data.BucketIterator(\n",
        "                    test_nospam,\n",
        "                    batch_size=1,\n",
        "                    sort_key=lambda x: len(x.sms), # to minimize padding\n",
        "                    sort_within_batch=True,        # sort within each batch\n",
        "                    repeat=False)                  # repeat the iterator for many epochs\n",
        "\n",
        "test_false_positive_rate = 1 - get_accuracy(model, test_nospam_loader)\n",
        "test_false_negative_rate = 1 - get_accuracy(model, test_spam_loader)\n",
        "print(f\"False positive rate on test dataset is {test_false_positive_rate*100:.3f}%\")\n",
        "print(f\"False negative rate on test dataset is {test_false_negative_rate*100:.3f}%\")"
      ]
    },
    {
      "cell_type": "markdown",
      "metadata": {
        "id": "0jGHtQFpa91b"
      },
      "source": [
        "### Part (c) [3 pt]\n",
        "\n",
        "What is your model's prediction of the **probability** that\n",
        "the SMS message \"machine learning is sooo cool!\" is spam?\n",
        "\n",
        "Hint: To begin, use `text_field.vocab.stoi` to look up the index\n",
        "of each character in the vocabulary."
      ]
    },
    {
      "cell_type": "code",
      "execution_count": null,
      "metadata": {
        "id": "h_2nSJq8a91b",
        "jupyter": {
          "outputs_hidden": true
        },
        "colab": {
          "base_uri": "https://localhost:8080/"
        },
        "outputId": "9d791061-a669-4dae-8d19-24bfcadda113"
      },
      "outputs": [
        {
          "output_type": "stream",
          "name": "stdout",
          "text": [
            "tensor(-5.1835, device='cuda:0', grad_fn=<SqueezeBackward0>)\n"
          ]
        }
      ],
      "source": [
        "#since model is loaded...\n",
        "\n",
        "msg = \"machine learning is sooo cool!\"\n",
        "message = torch.tensor([[text_field.vocab.stoi[letter] for letter in msg]])\n",
        "pred = model(message)\n",
        "print(pred)\n",
        "\n",
        "#prob_of_spam = np.exp(float(pred[0][1])) / (np.exp(float(pred[0][0])) + np.exp(float(pred[0][1])))\n",
        "#print(\"probability of the message to be spam is:\", prob_of_spam)\n"
      ]
    },
    {
      "cell_type": "markdown",
      "source": [
        "As the prediction is negative, we know that the model predicts this as not a spam message."
      ],
      "metadata": {
        "id": "jVRGRa366xeQ"
      }
    },
    {
      "cell_type": "markdown",
      "metadata": {
        "id": "QD1zgYJpa91f"
      },
      "source": [
        "### Part (d) [4 pt]\n",
        "\n",
        "Do you think detecting spam is an easy or difficult task?\n",
        "\n",
        "Since machine learning models are expensive to train and deploy, it is very\n",
        "important to compare our models against baseline models: a simple\n",
        "model that is easy to build and inexpensive to run that we can compare our\n",
        "recurrent neural network model against.\n",
        "\n",
        "Explain how you might build a simple baseline model. This baseline model\n",
        "can be a simple neural network (with very few weights), a hand-written algorithm,\n",
        "or any other strategy that is easy to build and test.\n",
        "\n",
        "**Do not actually build a baseline model. Instead, provide instructions on\n",
        "how to build it.**"
      ]
    },
    {
      "cell_type": "markdown",
      "source": [
        "Detecting spam is a difficult task. Increasingly, spam messages try to emulate real-life messages, making it ever harder for the people to distinguish between the two. \n",
        "To create a baseline model, a simple classifier which uses the different words used in ham and spam sets, and creating a probability of each word being in a spam versus a non-spam message. After this, we can mulitply the probabilities of the words to obtain a final probability which determine if they are spam or not."
      ],
      "metadata": {
        "id": "QX5iTqVW2II9"
      }
    }
  ],
  "metadata": {
    "colab": {
      "collapsed_sections": [],
      "name": "Lab_5_Spam_Detection_Winter_2022.ipynb",
      "provenance": []
    },
    "kernelspec": {
      "display_name": "Python 3 (ipykernel)",
      "language": "python",
      "name": "python3"
    },
    "language_info": {
      "codemirror_mode": {
        "name": "ipython",
        "version": 3
      },
      "file_extension": ".py",
      "mimetype": "text/x-python",
      "name": "python",
      "nbconvert_exporter": "python",
      "pygments_lexer": "ipython3",
      "version": "3.9.4"
    },
    "accelerator": "GPU"
  },
  "nbformat": 4,
  "nbformat_minor": 0
}